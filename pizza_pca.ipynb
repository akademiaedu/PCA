{
 "cells": [
  {
   "cell_type": "code",
   "execution_count": 9,
   "metadata": {},
   "outputs": [],
   "source": [
    "from sklearn.cluster import KMeans\n",
    "from sklearn.preprocessing import OneHotEncoder\n",
    "from sklearn.pipeline import Pipeline\n",
    "from sklearn.impute import SimpleImputer\n",
    "from sklearn.preprocessing import StandardScaler\n",
    "from sklearn.compose import ColumnTransformer\n",
    "from sklearn.cluster import DBSCAN\n",
    "from sklearn.decomposition import PCA\n",
    "import plotly.express as px\n",
    "import plotly.graph_objects as go\n",
    "from scipy import stats\n",
    "import pandas as pd\n",
    "import numpy as np\n",
    "import matplotlib.pyplot as plt"
   ]
  },
  {
   "cell_type": "markdown",
   "metadata": {},
   "source": [
    "## Lectura de datos"
   ]
  },
  {
   "cell_type": "code",
   "execution_count": 17,
   "metadata": {},
   "outputs": [],
   "source": [
    "df = pd.read_csv('../Datasets/Pizza.csv',dtype={'id':str})"
   ]
  },
  {
   "cell_type": "markdown",
   "metadata": {},
   "source": [
    "## Diccionario de datos\n",
    "\n",
    "+ brand -- Pizza brand (class label)\n",
    "+ id -- Sample analysed\n",
    "+ mois -- Amount of water per 100 grams in the sample\n",
    "+ prot -- Amount of protein per 100 grams in the sample\n",
    "+ fat -- Amount of fat per 100 grams in the sample\n",
    "+ ash -- Amount of ash per 100 grams in the sample\n",
    "+ sodium -- Amount of sodium per 100 grams in the sample\n",
    "+ carb -- Amount of carbohydrates per 100 grams in the sample\n",
    "+ cal -- Amount of calories per 100 grams in the sample\n",
    "\n",
    "[Descarga el dataset](https://data.world/sdhilip/pizza-datasets)"
   ]
  },
  {
   "cell_type": "code",
   "execution_count": 18,
   "metadata": {},
   "outputs": [
    {
     "data": {
      "text/html": [
       "<div>\n",
       "<style scoped>\n",
       "    .dataframe tbody tr th:only-of-type {\n",
       "        vertical-align: middle;\n",
       "    }\n",
       "\n",
       "    .dataframe tbody tr th {\n",
       "        vertical-align: top;\n",
       "    }\n",
       "\n",
       "    .dataframe thead th {\n",
       "        text-align: right;\n",
       "    }\n",
       "</style>\n",
       "<table border=\"1\" class=\"dataframe\">\n",
       "  <thead>\n",
       "    <tr style=\"text-align: right;\">\n",
       "      <th></th>\n",
       "      <th>mois</th>\n",
       "      <th>prot</th>\n",
       "      <th>fat</th>\n",
       "      <th>ash</th>\n",
       "      <th>sodium</th>\n",
       "      <th>carb</th>\n",
       "      <th>cal</th>\n",
       "    </tr>\n",
       "  </thead>\n",
       "  <tbody>\n",
       "    <tr>\n",
       "      <th>count</th>\n",
       "      <td>300.000000</td>\n",
       "      <td>300.000000</td>\n",
       "      <td>300.000000</td>\n",
       "      <td>300.000000</td>\n",
       "      <td>300.000000</td>\n",
       "      <td>300.000000</td>\n",
       "      <td>300.000000</td>\n",
       "    </tr>\n",
       "    <tr>\n",
       "      <th>mean</th>\n",
       "      <td>40.903067</td>\n",
       "      <td>13.373567</td>\n",
       "      <td>20.229533</td>\n",
       "      <td>2.633233</td>\n",
       "      <td>0.669400</td>\n",
       "      <td>22.864767</td>\n",
       "      <td>3.271000</td>\n",
       "    </tr>\n",
       "    <tr>\n",
       "      <th>std</th>\n",
       "      <td>9.552987</td>\n",
       "      <td>6.434392</td>\n",
       "      <td>8.975658</td>\n",
       "      <td>1.269724</td>\n",
       "      <td>0.370358</td>\n",
       "      <td>18.029722</td>\n",
       "      <td>0.620034</td>\n",
       "    </tr>\n",
       "    <tr>\n",
       "      <th>min</th>\n",
       "      <td>25.000000</td>\n",
       "      <td>6.980000</td>\n",
       "      <td>4.380000</td>\n",
       "      <td>1.170000</td>\n",
       "      <td>0.250000</td>\n",
       "      <td>0.510000</td>\n",
       "      <td>2.180000</td>\n",
       "    </tr>\n",
       "    <tr>\n",
       "      <th>25%</th>\n",
       "      <td>30.902500</td>\n",
       "      <td>8.060000</td>\n",
       "      <td>14.770000</td>\n",
       "      <td>1.450000</td>\n",
       "      <td>0.450000</td>\n",
       "      <td>3.467500</td>\n",
       "      <td>2.910000</td>\n",
       "    </tr>\n",
       "    <tr>\n",
       "      <th>50%</th>\n",
       "      <td>43.300000</td>\n",
       "      <td>10.440000</td>\n",
       "      <td>17.135000</td>\n",
       "      <td>2.225000</td>\n",
       "      <td>0.490000</td>\n",
       "      <td>23.245000</td>\n",
       "      <td>3.215000</td>\n",
       "    </tr>\n",
       "    <tr>\n",
       "      <th>75%</th>\n",
       "      <td>49.115000</td>\n",
       "      <td>20.022500</td>\n",
       "      <td>21.435000</td>\n",
       "      <td>3.592500</td>\n",
       "      <td>0.702500</td>\n",
       "      <td>41.337500</td>\n",
       "      <td>3.520000</td>\n",
       "    </tr>\n",
       "    <tr>\n",
       "      <th>max</th>\n",
       "      <td>57.220000</td>\n",
       "      <td>28.480000</td>\n",
       "      <td>47.200000</td>\n",
       "      <td>5.430000</td>\n",
       "      <td>1.790000</td>\n",
       "      <td>48.640000</td>\n",
       "      <td>5.080000</td>\n",
       "    </tr>\n",
       "  </tbody>\n",
       "</table>\n",
       "</div>"
      ],
      "text/plain": [
       "             mois        prot         fat         ash      sodium        carb  \\\n",
       "count  300.000000  300.000000  300.000000  300.000000  300.000000  300.000000   \n",
       "mean    40.903067   13.373567   20.229533    2.633233    0.669400   22.864767   \n",
       "std      9.552987    6.434392    8.975658    1.269724    0.370358   18.029722   \n",
       "min     25.000000    6.980000    4.380000    1.170000    0.250000    0.510000   \n",
       "25%     30.902500    8.060000   14.770000    1.450000    0.450000    3.467500   \n",
       "50%     43.300000   10.440000   17.135000    2.225000    0.490000   23.245000   \n",
       "75%     49.115000   20.022500   21.435000    3.592500    0.702500   41.337500   \n",
       "max     57.220000   28.480000   47.200000    5.430000    1.790000   48.640000   \n",
       "\n",
       "              cal  \n",
       "count  300.000000  \n",
       "mean     3.271000  \n",
       "std      0.620034  \n",
       "min      2.180000  \n",
       "25%      2.910000  \n",
       "50%      3.215000  \n",
       "75%      3.520000  \n",
       "max      5.080000  "
      ]
     },
     "execution_count": 18,
     "metadata": {},
     "output_type": "execute_result"
    }
   ],
   "source": [
    "df.describe()"
   ]
  },
  {
   "cell_type": "code",
   "execution_count": 19,
   "metadata": {},
   "outputs": [
    {
     "name": "stdout",
     "output_type": "stream",
     "text": [
      "<class 'pandas.core.frame.DataFrame'>\n",
      "RangeIndex: 300 entries, 0 to 299\n",
      "Data columns (total 9 columns):\n",
      " #   Column  Non-Null Count  Dtype  \n",
      "---  ------  --------------  -----  \n",
      " 0   brand   300 non-null    object \n",
      " 1   id      300 non-null    object \n",
      " 2   mois    300 non-null    float64\n",
      " 3   prot    300 non-null    float64\n",
      " 4   fat     300 non-null    float64\n",
      " 5   ash     300 non-null    float64\n",
      " 6   sodium  300 non-null    float64\n",
      " 7   carb    300 non-null    float64\n",
      " 8   cal     300 non-null    float64\n",
      "dtypes: float64(7), object(2)\n",
      "memory usage: 21.2+ KB\n"
     ]
    }
   ],
   "source": [
    "df.info()"
   ]
  },
  {
   "cell_type": "code",
   "execution_count": 29,
   "metadata": {},
   "outputs": [
    {
     "data": {
      "text/plain": [
       "array([[<AxesSubplot:title={'center':'mois'}>,\n",
       "        <AxesSubplot:title={'center':'prot'}>,\n",
       "        <AxesSubplot:title={'center':'fat'}>],\n",
       "       [<AxesSubplot:title={'center':'ash'}>,\n",
       "        <AxesSubplot:title={'center':'sodium'}>,\n",
       "        <AxesSubplot:title={'center':'carb'}>],\n",
       "       [<AxesSubplot:title={'center':'cal'}>, <AxesSubplot:>,\n",
       "        <AxesSubplot:>]], dtype=object)"
      ]
     },
     "execution_count": 29,
     "metadata": {},
     "output_type": "execute_result"
    },
    {
     "data": {
      "image/png": "[encoded data removed]",
      "text/plain": [
       "<Figure size 864x576 with 9 Axes>"
      ]
     },
     "metadata": {
      "needs_background": "light"
     },
     "output_type": "display_data"
    }
   ],
   "source": [
    "df.hist(figsize=(12,8))"
   ]
  },
  {
   "cell_type": "code",
   "execution_count": 47,
   "metadata": {},
   "outputs": [
    {
     "data": {
      "text/html": [
       "<div>\n",
       "<style scoped>\n",
       "    .dataframe tbody tr th:only-of-type {\n",
       "        vertical-align: middle;\n",
       "    }\n",
       "\n",
       "    .dataframe tbody tr th {\n",
       "        vertical-align: top;\n",
       "    }\n",
       "\n",
       "    .dataframe thead th {\n",
       "        text-align: right;\n",
       "    }\n",
       "</style>\n",
       "<table border=\"1\" class=\"dataframe\">\n",
       "  <thead>\n",
       "    <tr style=\"text-align: right;\">\n",
       "      <th></th>\n",
       "      <th>mois</th>\n",
       "      <th>prot</th>\n",
       "      <th>fat</th>\n",
       "      <th>ash</th>\n",
       "      <th>sodium</th>\n",
       "      <th>carb</th>\n",
       "      <th>cal</th>\n",
       "    </tr>\n",
       "  </thead>\n",
       "  <tbody>\n",
       "    <tr>\n",
       "      <th>0</th>\n",
       "      <td>-1.371815</td>\n",
       "      <td>1.254181</td>\n",
       "      <td>2.749841</td>\n",
       "      <td>1.953894</td>\n",
       "      <td>2.976687</td>\n",
       "      <td>-1.227511</td>\n",
       "      <td>2.680129</td>\n",
       "    </tr>\n",
       "    <tr>\n",
       "      <th>1</th>\n",
       "      <td>-1.301562</td>\n",
       "      <td>1.227717</td>\n",
       "      <td>2.640475</td>\n",
       "      <td>2.135338</td>\n",
       "      <td>3.030779</td>\n",
       "      <td>-1.213622</td>\n",
       "      <td>2.534733</td>\n",
       "    </tr>\n",
       "    <tr>\n",
       "      <th>2</th>\n",
       "      <td>-1.316242</td>\n",
       "      <td>1.030010</td>\n",
       "      <td>2.851396</td>\n",
       "      <td>1.930227</td>\n",
       "      <td>2.598042</td>\n",
       "      <td>-1.225844</td>\n",
       "      <td>2.712439</td>\n",
       "    </tr>\n",
       "    <tr>\n",
       "      <th>3</th>\n",
       "      <td>-1.085563</td>\n",
       "      <td>1.054918</td>\n",
       "      <td>2.555660</td>\n",
       "      <td>1.701449</td>\n",
       "      <td>2.543950</td>\n",
       "      <td>-1.193622</td>\n",
       "      <td>2.373183</td>\n",
       "    </tr>\n",
       "    <tr>\n",
       "      <th>4</th>\n",
       "      <td>-1.091854</td>\n",
       "      <td>1.230830</td>\n",
       "      <td>2.390494</td>\n",
       "      <td>1.725116</td>\n",
       "      <td>2.625088</td>\n",
       "      <td>-1.172510</td>\n",
       "      <td>2.260097</td>\n",
       "    </tr>\n",
       "    <tr>\n",
       "      <th>...</th>\n",
       "      <td>...</td>\n",
       "      <td>...</td>\n",
       "      <td>...</td>\n",
       "      <td>...</td>\n",
       "      <td>...</td>\n",
       "      <td>...</td>\n",
       "      <td>...</td>\n",
       "    </tr>\n",
       "    <tr>\n",
       "      <th>295</th>\n",
       "      <td>0.420144</td>\n",
       "      <td>-0.358607</td>\n",
       "      <td>-0.360411</td>\n",
       "      <td>-0.112995</td>\n",
       "      <td>-0.025423</td>\n",
       "      <td>0.138627</td>\n",
       "      <td>-0.583199</td>\n",
       "    </tr>\n",
       "    <tr>\n",
       "      <th>296</th>\n",
       "      <td>0.235600</td>\n",
       "      <td>-0.246521</td>\n",
       "      <td>-0.197477</td>\n",
       "      <td>-0.160329</td>\n",
       "      <td>0.001623</td>\n",
       "      <td>0.072514</td>\n",
       "      <td>-0.276252</td>\n",
       "    </tr>\n",
       "    <tr>\n",
       "      <th>297</th>\n",
       "      <td>0.382396</td>\n",
       "      <td>-0.367947</td>\n",
       "      <td>-0.468662</td>\n",
       "      <td>-0.160329</td>\n",
       "      <td>-0.079515</td>\n",
       "      <td>0.173072</td>\n",
       "      <td>-0.567044</td>\n",
       "    </tr>\n",
       "    <tr>\n",
       "      <th>298</th>\n",
       "      <td>0.702202</td>\n",
       "      <td>-0.458238</td>\n",
       "      <td>-0.563521</td>\n",
       "      <td>-0.247106</td>\n",
       "      <td>-0.295884</td>\n",
       "      <td>0.089181</td>\n",
       "      <td>-0.825525</td>\n",
       "    </tr>\n",
       "    <tr>\n",
       "      <th>299</th>\n",
       "      <td>0.622512</td>\n",
       "      <td>-0.539189</td>\n",
       "      <td>-0.527809</td>\n",
       "      <td>-0.286551</td>\n",
       "      <td>-0.268838</td>\n",
       "      <td>0.145294</td>\n",
       "      <td>-0.744750</td>\n",
       "    </tr>\n",
       "  </tbody>\n",
       "</table>\n",
       "<p>300 rows × 7 columns</p>\n",
       "</div>"
      ],
      "text/plain": [
       "         mois      prot       fat       ash    sodium      carb       cal\n",
       "0   -1.371815  1.254181  2.749841  1.953894  2.976687 -1.227511  2.680129\n",
       "1   -1.301562  1.227717  2.640475  2.135338  3.030779 -1.213622  2.534733\n",
       "2   -1.316242  1.030010  2.851396  1.930227  2.598042 -1.225844  2.712439\n",
       "3   -1.085563  1.054918  2.555660  1.701449  2.543950 -1.193622  2.373183\n",
       "4   -1.091854  1.230830  2.390494  1.725116  2.625088 -1.172510  2.260097\n",
       "..        ...       ...       ...       ...       ...       ...       ...\n",
       "295  0.420144 -0.358607 -0.360411 -0.112995 -0.025423  0.138627 -0.583199\n",
       "296  0.235600 -0.246521 -0.197477 -0.160329  0.001623  0.072514 -0.276252\n",
       "297  0.382396 -0.367947 -0.468662 -0.160329 -0.079515  0.173072 -0.567044\n",
       "298  0.702202 -0.458238 -0.563521 -0.247106 -0.295884  0.089181 -0.825525\n",
       "299  0.622512 -0.539189 -0.527809 -0.286551 -0.268838  0.145294 -0.744750\n",
       "\n",
       "[300 rows x 7 columns]"
      ]
     },
     "execution_count": 47,
     "metadata": {},
     "output_type": "execute_result"
    }
   ],
   "source": [
    "df_valores = df.drop(['brand','id'],axis=1)\n",
    "scaler = StandardScaler()\n",
    "df_valores_z = scaler.fit_transform(df_valores)\n",
    "df_valores_z = pd.DataFrame(df_valores_z).rename(columns={\n",
    "    0:'mois',\n",
    "    1:'prot',\n",
    "    2:'fat',\n",
    "    3:'ash',\n",
    "    4:'sodium',\n",
    "    5:'carb',\n",
    "    6:'cal'\n",
    "})\n",
    "\n",
    "df_valores_z"
   ]
  },
  {
   "cell_type": "code",
   "execution_count": 82,
   "metadata": {},
   "outputs": [
    {
     "data": {
      "application/vnd.plotly.v1+json": {
       "config": {
        "plotlyServerURL": "https://plot.ly"
       },
       "data": [
        {
         "type": "heatmap",
         "x": [
          "mois",
          "prot",
          "fat",
          "ash",
          "sodium",
          "carb",
          "cal"
         ],
         "y": [
          "mois",
          "prot",
          "fat",
          "ash",
          "sodium",
          "carb",
          "cal"
         ],
         "z": [
          [
           1,
           0.36024767863525836,
           -0.17131821338592576,
           0.2655555215678747,
           -0.10227889683942697,
           -0.5918016522315356,
           -0.7644405437834777
          ],
          [
           0.36024767863525836,
           1,
           0.4980016690211636,
           0.8238437015894268,
           0.42912951637977675,
           -0.8535422564172037,
           0.07025810050410775
          ],
          [
           -0.17131821338592576,
           0.4980016690211636,
           1,
           0.7916339636537016,
           0.9333252225253865,
           -0.6402381678896945,
           0.7645670984969605
          ],
          [
           0.2655555215678747,
           0.8238437015894268,
           0.7916339636537016,
           1,
           0.808122148694464,
           -0.8989883742745283,
           0.3264684502110807
          ],
          [
           -0.10227889683942697,
           0.42912951637977675,
           0.9333252225253865,
           0.808122148694464,
           1,
           -0.620176336456539,
           0.6719575035222227
          ],
          [
           -0.5918016522315356,
           -0.8535422564172037,
           -0.6402381678896945,
           -0.8989883742745283,
           -0.620176336456539,
           1,
           -0.023484582603574094
          ],
          [
           -0.7644405437834777,
           0.07025810050410775,
           0.7645670984969605,
           0.3264684502110807,
           0.6719575035222227,
           -0.023484582603574094,
           1
          ]
         ]
        }
       ],
       "layout": {
        "template": {
         "data": {
          "bar": [
           {
            "error_x": {
             "color": "#2a3f5f"
            },
            "error_y": {
             "color": "#2a3f5f"
            },
            "marker": {
             "line": {
              "color": "#E5ECF6",
              "width": 0.5
             }
            },
            "type": "bar"
           }
          ],
          "barpolar": [
           {
            "marker": {
             "line": {
              "color": "#E5ECF6",
              "width": 0.5
             }
            },
            "type": "barpolar"
           }
          ],
          "carpet": [
           {
            "aaxis": {
             "endlinecolor": "#2a3f5f",
             "gridcolor": "white",
             "linecolor": "white",
             "minorgridcolor": "white",
             "startlinecolor": "#2a3f5f"
            },
            "baxis": {
             "endlinecolor": "#2a3f5f",
             "gridcolor": "white",
             "linecolor": "white",
             "minorgridcolor": "white",
             "startlinecolor": "#2a3f5f"
            },
            "type": "carpet"
           }
          ],
          "choropleth": [
           {
            "colorbar": {
             "outlinewidth": 0,
             "ticks": ""
            },
            "type": "choropleth"
           }
          ],
          "contour": [
           {
            "colorbar": {
             "outlinewidth": 0,
             "ticks": ""
            },
            "colorscale": [
             [
              0,
              "#0d0887"
             ],
             [
              0.1111111111111111,
              "#46039f"
             ],
             [
              0.2222222222222222,
              "#7201a8"
             ],
             [
              0.3333333333333333,
              "#9c179e"
             ],
             [
              0.4444444444444444,
              "#bd3786"
             ],
             [
              0.5555555555555556,
              "#d8576b"
             ],
             [
              0.6666666666666666,
              "#ed7953"
             ],
             [
              0.7777777777777778,
              "#fb9f3a"
             ],
             [
              0.8888888888888888,
              "#fdca26"
             ],
             [
              1,
              "#f0f921"
             ]
            ],
            "type": "contour"
           }
          ],
          "contourcarpet": [
           {
            "colorbar": {
             "outlinewidth": 0,
             "ticks": ""
            },
            "type": "contourcarpet"
           }
          ],
          "heatmap": [
           {
            "colorbar": {
             "outlinewidth": 0,
             "ticks": ""
            },
            "colorscale": [
             [
              0,
              "#0d0887"
             ],
             [
              0.1111111111111111,
              "#46039f"
             ],
             [
              0.2222222222222222,
              "#7201a8"
             ],
             [
              0.3333333333333333,
              "#9c179e"
             ],
             [
              0.4444444444444444,
              "#bd3786"
             ],
             [
              0.5555555555555556,
              "#d8576b"
             ],
             [
              0.6666666666666666,
              "#ed7953"
             ],
             [
              0.7777777777777778,
              "#fb9f3a"
             ],
             [
              0.8888888888888888,
              "#fdca26"
             ],
             [
              1,
              "#f0f921"
             ]
            ],
            "type": "heatmap"
           }
          ],
          "heatmapgl": [
           {
            "colorbar": {
             "outlinewidth": 0,
             "ticks": ""
            },
            "colorscale": [
             [
              0,
              "#0d0887"
             ],
             [
              0.1111111111111111,
              "#46039f"
             ],
             [
              0.2222222222222222,
              "#7201a8"
             ],
             [
              0.3333333333333333,
              "#9c179e"
             ],
             [
              0.4444444444444444,
              "#bd3786"
             ],
             [
              0.5555555555555556,
              "#d8576b"
             ],
             [
              0.6666666666666666,
              "#ed7953"
             ],
             [
              0.7777777777777778,
              "#fb9f3a"
             ],
             [
              0.8888888888888888,
              "#fdca26"
             ],
             [
              1,
              "#f0f921"
             ]
            ],
            "type": "heatmapgl"
           }
          ],
          "histogram": [
           {
            "marker": {
             "colorbar": {
              "outlinewidth": 0,
              "ticks": ""
             }
            },
            "type": "histogram"
           }
          ],
          "histogram2d": [
           {
            "colorbar": {
             "outlinewidth": 0,
             "ticks": ""
            },
            "colorscale": [
             [
              0,
              "#0d0887"
             ],
             [
              0.1111111111111111,
              "#46039f"
             ],
             [
              0.2222222222222222,
              "#7201a8"
             ],
             [
              0.3333333333333333,
              "#9c179e"
             ],
             [
              0.4444444444444444,
              "#bd3786"
             ],
             [
              0.5555555555555556,
              "#d8576b"
             ],
             [
              0.6666666666666666,
              "#ed7953"
             ],
             [
              0.7777777777777778,
              "#fb9f3a"
             ],
             [
              0.8888888888888888,
              "#fdca26"
             ],
             [
              1,
              "#f0f921"
             ]
            ],
            "type": "histogram2d"
           }
          ],
          "histogram2dcontour": [
           {
            "colorbar": {
             "outlinewidth": 0,
             "ticks": ""
            },
            "colorscale": [
             [
              0,
              "#0d0887"
             ],
             [
              0.1111111111111111,
              "#46039f"
             ],
             [
              0.2222222222222222,
              "#7201a8"
             ],
             [
              0.3333333333333333,
              "#9c179e"
             ],
             [
              0.4444444444444444,
              "#bd3786"
             ],
             [
              0.5555555555555556,
              "#d8576b"
             ],
             [
              0.6666666666666666,
              "#ed7953"
             ],
             [
              0.7777777777777778,
              "#fb9f3a"
             ],
             [
              0.8888888888888888,
              "#fdca26"
             ],
             [
              1,
              "#f0f921"
             ]
            ],
            "type": "histogram2dcontour"
           }
          ],
          "mesh3d": [
           {
            "colorbar": {
             "outlinewidth": 0,
             "ticks": ""
            },
            "type": "mesh3d"
           }
          ],
          "parcoords": [
           {
            "line": {
             "colorbar": {
              "outlinewidth": 0,
              "ticks": ""
             }
            },
            "type": "parcoords"
           }
          ],
          "pie": [
           {
            "automargin": true,
            "type": "pie"
           }
          ],
          "scatter": [
           {
            "marker": {
             "colorbar": {
              "outlinewidth": 0,
              "ticks": ""
             }
            },
            "type": "scatter"
           }
          ],
          "scatter3d": [
           {
            "line": {
             "colorbar": {
              "outlinewidth": 0,
              "ticks": ""
             }
            },
            "marker": {
             "colorbar": {
              "outlinewidth": 0,
              "ticks": ""
             }
            },
            "type": "scatter3d"
           }
          ],
          "scattercarpet": [
           {
            "marker": {
             "colorbar": {
              "outlinewidth": 0,
              "ticks": ""
             }
            },
            "type": "scattercarpet"
           }
          ],
          "scattergeo": [
           {
            "marker": {
             "colorbar": {
              "outlinewidth": 0,
              "ticks": ""
             }
            },
            "type": "scattergeo"
           }
          ],
          "scattergl": [
           {
            "marker": {
             "colorbar": {
              "outlinewidth": 0,
              "ticks": ""
             }
            },
            "type": "scattergl"
           }
          ],
          "scattermapbox": [
           {
            "marker": {
             "colorbar": {
              "outlinewidth": 0,
              "ticks": ""
             }
            },
            "type": "scattermapbox"
           }
          ],
          "scatterpolar": [
           {
            "marker": {
             "colorbar": {
              "outlinewidth": 0,
              "ticks": ""
             }
            },
            "type": "scatterpolar"
           }
          ],
          "scatterpolargl": [
           {
            "marker": {
             "colorbar": {
              "outlinewidth": 0,
              "ticks": ""
             }
            },
            "type": "scatterpolargl"
           }
          ],
          "scatterternary": [
           {
            "marker": {
             "colorbar": {
              "outlinewidth": 0,
              "ticks": ""
             }
            },
            "type": "scatterternary"
           }
          ],
          "surface": [
           {
            "colorbar": {
             "outlinewidth": 0,
             "ticks": ""
            },
            "colorscale": [
             [
              0,
              "#0d0887"
             ],
             [
              0.1111111111111111,
              "#46039f"
             ],
             [
              0.2222222222222222,
              "#7201a8"
             ],
             [
              0.3333333333333333,
              "#9c179e"
             ],
             [
              0.4444444444444444,
              "#bd3786"
             ],
             [
              0.5555555555555556,
              "#d8576b"
             ],
             [
              0.6666666666666666,
              "#ed7953"
             ],
             [
              0.7777777777777778,
              "#fb9f3a"
             ],
             [
              0.8888888888888888,
              "#fdca26"
             ],
             [
              1,
              "#f0f921"
             ]
            ],
            "type": "surface"
           }
          ],
          "table": [
           {
            "cells": {
             "fill": {
              "color": "#EBF0F8"
             },
             "line": {
              "color": "white"
             }
            },
            "header": {
             "fill": {
              "color": "#C8D4E3"
             },
             "line": {
              "color": "white"
             }
            },
            "type": "table"
           }
          ]
         },
         "layout": {
          "annotationdefaults": {
           "arrowcolor": "#2a3f5f",
           "arrowhead": 0,
           "arrowwidth": 1
          },
          "coloraxis": {
           "colorbar": {
            "outlinewidth": 0,
            "ticks": ""
           }
          },
          "colorscale": {
           "diverging": [
            [
             0,
             "#8e0152"
            ],
            [
             0.1,
             "#c51b7d"
            ],
            [
             0.2,
             "#de77ae"
            ],
            [
             0.3,
             "#f1b6da"
            ],
            [
             0.4,
             "#fde0ef"
            ],
            [
             0.5,
             "#f7f7f7"
            ],
            [
             0.6,
             "#e6f5d0"
            ],
            [
             0.7,
             "#b8e186"
            ],
            [
             0.8,
             "#7fbc41"
            ],
            [
             0.9,
             "#4d9221"
            ],
            [
             1,
             "#276419"
            ]
           ],
           "sequential": [
            [
             0,
             "#0d0887"
            ],
            [
             0.1111111111111111,
             "#46039f"
            ],
            [
             0.2222222222222222,
             "#7201a8"
            ],
            [
             0.3333333333333333,
             "#9c179e"
            ],
            [
             0.4444444444444444,
             "#bd3786"
            ],
            [
             0.5555555555555556,
             "#d8576b"
            ],
            [
             0.6666666666666666,
             "#ed7953"
            ],
            [
             0.7777777777777778,
             "#fb9f3a"
            ],
            [
             0.8888888888888888,
             "#fdca26"
            ],
            [
             1,
             "#f0f921"
            ]
           ],
           "sequentialminus": [
            [
             0,
             "#0d0887"
            ],
            [
             0.1111111111111111,
             "#46039f"
            ],
            [
             0.2222222222222222,
             "#7201a8"
            ],
            [
             0.3333333333333333,
             "#9c179e"
            ],
            [
             0.4444444444444444,
             "#bd3786"
            ],
            [
             0.5555555555555556,
             "#d8576b"
            ],
            [
             0.6666666666666666,
             "#ed7953"
            ],
            [
             0.7777777777777778,
             "#fb9f3a"
            ],
            [
             0.8888888888888888,
             "#fdca26"
            ],
            [
             1,
             "#f0f921"
            ]
           ]
          },
          "colorway": [
           "#636efa",
           "#EF553B",
           "#00cc96",
           "#ab63fa",
           "#FFA15A",
           "#19d3f3",
           "#FF6692",
           "#B6E880",
           "#FF97FF",
           "#FECB52"
          ],
          "font": {
           "color": "#2a3f5f"
          },
          "geo": {
           "bgcolor": "white",
           "lakecolor": "white",
           "landcolor": "#E5ECF6",
           "showlakes": true,
           "showland": true,
           "subunitcolor": "white"
          },
          "hoverlabel": {
           "align": "left"
          },
          "hovermode": "closest",
          "mapbox": {
           "style": "light"
          },
          "paper_bgcolor": "white",
          "plot_bgcolor": "#E5ECF6",
          "polar": {
           "angularaxis": {
            "gridcolor": "white",
            "linecolor": "white",
            "ticks": ""
           },
           "bgcolor": "#E5ECF6",
           "radialaxis": {
            "gridcolor": "white",
            "linecolor": "white",
            "ticks": ""
           }
          },
          "scene": {
           "xaxis": {
            "backgroundcolor": "#E5ECF6",
            "gridcolor": "white",
            "gridwidth": 2,
            "linecolor": "white",
            "showbackground": true,
            "ticks": "",
            "zerolinecolor": "white"
           },
           "yaxis": {
            "backgroundcolor": "#E5ECF6",
            "gridcolor": "white",
            "gridwidth": 2,
            "linecolor": "white",
            "showbackground": true,
            "ticks": "",
            "zerolinecolor": "white"
           },
           "zaxis": {
            "backgroundcolor": "#E5ECF6",
            "gridcolor": "white",
            "gridwidth": 2,
            "linecolor": "white",
            "showbackground": true,
            "ticks": "",
            "zerolinecolor": "white"
           }
          },
          "shapedefaults": {
           "line": {
            "color": "#2a3f5f"
           }
          },
          "ternary": {
           "aaxis": {
            "gridcolor": "white",
            "linecolor": "white",
            "ticks": ""
           },
           "baxis": {
            "gridcolor": "white",
            "linecolor": "white",
            "ticks": ""
           },
           "bgcolor": "#E5ECF6",
           "caxis": {
            "gridcolor": "white",
            "linecolor": "white",
            "ticks": ""
           }
          },
          "title": {
           "x": 0.05
          },
          "xaxis": {
           "automargin": true,
           "gridcolor": "white",
           "linecolor": "white",
           "ticks": "",
           "title": {
            "standoff": 15
           },
           "zerolinecolor": "white",
           "zerolinewidth": 2
          },
          "yaxis": {
           "automargin": true,
           "gridcolor": "white",
           "linecolor": "white",
           "ticks": "",
           "title": {
            "standoff": 15
           },
           "zerolinecolor": "white",
           "zerolinewidth": 2
          }
         }
        }
       }
      },
      "text/html": [
       "<div>\n",
       "        \n",
       "        \n",
       "            <div id=\"6b7d4828-f2bc-4aad-a217-30f26404fb9a\" class=\"plotly-graph-div\" style=\"height:525px; width:100%;\"></div>\n",
       "            <script type=\"text/javascript\">\n",
       "                require([\"plotly\"], function(Plotly) {\n",
       "                    window.PLOTLYENV=window.PLOTLYENV || {};\n",
       "                    \n",
       "                if (document.getElementById(\"6b7d4828-f2bc-4aad-a217-30f26404fb9a\")) {\n",
       "                    Plotly.newPlot(\n",
       "                        '6b7d4828-f2bc-4aad-a217-30f26404fb9a',\n",
       "                        [{\"type\": \"heatmap\", \"x\": [\"mois\", \"prot\", \"fat\", \"ash\", \"sodium\", \"carb\", \"cal\"], \"y\": [\"mois\", \"prot\", \"fat\", \"ash\", \"sodium\", \"carb\", \"cal\"], \"z\": [[1.0, 0.36024767863525836, -0.17131821338592576, 0.2655555215678747, -0.10227889683942697, -0.5918016522315356, -0.7644405437834777], [0.36024767863525836, 1.0, 0.4980016690211636, 0.8238437015894268, 0.42912951637977675, -0.8535422564172037, 0.07025810050410775], [-0.17131821338592576, 0.4980016690211636, 1.0, 0.7916339636537016, 0.9333252225253865, -0.6402381678896945, 0.7645670984969605], [0.2655555215678747, 0.8238437015894268, 0.7916339636537016, 1.0, 0.808122148694464, -0.8989883742745283, 0.3264684502110807], [-0.10227889683942697, 0.42912951637977675, 0.9333252225253865, 0.808122148694464, 1.0, -0.620176336456539, 0.6719575035222227], [-0.5918016522315356, -0.8535422564172037, -0.6402381678896945, -0.8989883742745283, -0.620176336456539, 1.0, -0.023484582603574094], [-0.7644405437834777, 0.07025810050410775, 0.7645670984969605, 0.3264684502110807, 0.6719575035222227, -0.023484582603574094, 1.0]]}],\n",
       "                        {\"template\": {\"data\": {\"bar\": [{\"error_x\": {\"color\": \"#2a3f5f\"}, \"error_y\": {\"color\": \"#2a3f5f\"}, \"marker\": {\"line\": {\"color\": \"#E5ECF6\", \"width\": 0.5}}, \"type\": \"bar\"}], \"barpolar\": [{\"marker\": {\"line\": {\"color\": \"#E5ECF6\", \"width\": 0.5}}, \"type\": \"barpolar\"}], \"carpet\": [{\"aaxis\": {\"endlinecolor\": \"#2a3f5f\", \"gridcolor\": \"white\", \"linecolor\": \"white\", \"minorgridcolor\": \"white\", \"startlinecolor\": \"#2a3f5f\"}, \"baxis\": {\"endlinecolor\": \"#2a3f5f\", \"gridcolor\": \"white\", \"linecolor\": \"white\", \"minorgridcolor\": \"white\", \"startlinecolor\": \"#2a3f5f\"}, \"type\": \"carpet\"}], \"choropleth\": [{\"colorbar\": {\"outlinewidth\": 0, \"ticks\": \"\"}, \"type\": \"choropleth\"}], \"contour\": [{\"colorbar\": {\"outlinewidth\": 0, \"ticks\": \"\"}, \"colorscale\": [[0.0, \"#0d0887\"], [0.1111111111111111, \"#46039f\"], [0.2222222222222222, \"#7201a8\"], [0.3333333333333333, \"#9c179e\"], [0.4444444444444444, \"#bd3786\"], [0.5555555555555556, \"#d8576b\"], [0.6666666666666666, \"#ed7953\"], [0.7777777777777778, \"#fb9f3a\"], [0.8888888888888888, \"#fdca26\"], [1.0, \"#f0f921\"]], \"type\": \"contour\"}], \"contourcarpet\": [{\"colorbar\": {\"outlinewidth\": 0, \"ticks\": \"\"}, \"type\": \"contourcarpet\"}], \"heatmap\": [{\"colorbar\": {\"outlinewidth\": 0, \"ticks\": \"\"}, \"colorscale\": [[0.0, \"#0d0887\"], [0.1111111111111111, \"#46039f\"], [0.2222222222222222, \"#7201a8\"], [0.3333333333333333, \"#9c179e\"], [0.4444444444444444, \"#bd3786\"], [0.5555555555555556, \"#d8576b\"], [0.6666666666666666, \"#ed7953\"], [0.7777777777777778, \"#fb9f3a\"], [0.8888888888888888, \"#fdca26\"], [1.0, \"#f0f921\"]], \"type\": \"heatmap\"}], \"heatmapgl\": [{\"colorbar\": {\"outlinewidth\": 0, \"ticks\": \"\"}, \"colorscale\": [[0.0, \"#0d0887\"], [0.1111111111111111, \"#46039f\"], [0.2222222222222222, \"#7201a8\"], [0.3333333333333333, \"#9c179e\"], [0.4444444444444444, \"#bd3786\"], [0.5555555555555556, \"#d8576b\"], [0.6666666666666666, \"#ed7953\"], [0.7777777777777778, \"#fb9f3a\"], [0.8888888888888888, \"#fdca26\"], [1.0, \"#f0f921\"]], \"type\": \"heatmapgl\"}], \"histogram\": [{\"marker\": {\"colorbar\": {\"outlinewidth\": 0, \"ticks\": \"\"}}, \"type\": \"histogram\"}], \"histogram2d\": [{\"colorbar\": {\"outlinewidth\": 0, \"ticks\": \"\"}, \"colorscale\": [[0.0, \"#0d0887\"], [0.1111111111111111, \"#46039f\"], [0.2222222222222222, \"#7201a8\"], [0.3333333333333333, \"#9c179e\"], [0.4444444444444444, \"#bd3786\"], [0.5555555555555556, \"#d8576b\"], [0.6666666666666666, \"#ed7953\"], [0.7777777777777778, \"#fb9f3a\"], [0.8888888888888888, \"#fdca26\"], [1.0, \"#f0f921\"]], \"type\": \"histogram2d\"}], \"histogram2dcontour\": [{\"colorbar\": {\"outlinewidth\": 0, \"ticks\": \"\"}, \"colorscale\": [[0.0, \"#0d0887\"], [0.1111111111111111, \"#46039f\"], [0.2222222222222222, \"#7201a8\"], [0.3333333333333333, \"#9c179e\"], [0.4444444444444444, \"#bd3786\"], [0.5555555555555556, \"#d8576b\"], [0.6666666666666666, \"#ed7953\"], [0.7777777777777778, \"#fb9f3a\"], [0.8888888888888888, \"#fdca26\"], [1.0, \"#f0f921\"]], \"type\": \"histogram2dcontour\"}], \"mesh3d\": [{\"colorbar\": {\"outlinewidth\": 0, \"ticks\": \"\"}, \"type\": \"mesh3d\"}], \"parcoords\": [{\"line\": {\"colorbar\": {\"outlinewidth\": 0, \"ticks\": \"\"}}, \"type\": \"parcoords\"}], \"pie\": [{\"automargin\": true, \"type\": \"pie\"}], \"scatter\": [{\"marker\": {\"colorbar\": {\"outlinewidth\": 0, \"ticks\": \"\"}}, \"type\": \"scatter\"}], \"scatter3d\": [{\"line\": {\"colorbar\": {\"outlinewidth\": 0, \"ticks\": \"\"}}, \"marker\": {\"colorbar\": {\"outlinewidth\": 0, \"ticks\": \"\"}}, \"type\": \"scatter3d\"}], \"scattercarpet\": [{\"marker\": {\"colorbar\": {\"outlinewidth\": 0, \"ticks\": \"\"}}, \"type\": \"scattercarpet\"}], \"scattergeo\": [{\"marker\": {\"colorbar\": {\"outlinewidth\": 0, \"ticks\": \"\"}}, \"type\": \"scattergeo\"}], \"scattergl\": [{\"marker\": {\"colorbar\": {\"outlinewidth\": 0, \"ticks\": \"\"}}, \"type\": \"scattergl\"}], \"scattermapbox\": [{\"marker\": {\"colorbar\": {\"outlinewidth\": 0, \"ticks\": \"\"}}, \"type\": \"scattermapbox\"}], \"scatterpolar\": [{\"marker\": {\"colorbar\": {\"outlinewidth\": 0, \"ticks\": \"\"}}, \"type\": \"scatterpolar\"}], \"scatterpolargl\": [{\"marker\": {\"colorbar\": {\"outlinewidth\": 0, \"ticks\": \"\"}}, \"type\": \"scatterpolargl\"}], \"scatterternary\": [{\"marker\": {\"colorbar\": {\"outlinewidth\": 0, \"ticks\": \"\"}}, \"type\": \"scatterternary\"}], \"surface\": [{\"colorbar\": {\"outlinewidth\": 0, \"ticks\": \"\"}, \"colorscale\": [[0.0, \"#0d0887\"], [0.1111111111111111, \"#46039f\"], [0.2222222222222222, \"#7201a8\"], [0.3333333333333333, \"#9c179e\"], [0.4444444444444444, \"#bd3786\"], [0.5555555555555556, \"#d8576b\"], [0.6666666666666666, \"#ed7953\"], [0.7777777777777778, \"#fb9f3a\"], [0.8888888888888888, \"#fdca26\"], [1.0, \"#f0f921\"]], \"type\": \"surface\"}], \"table\": [{\"cells\": {\"fill\": {\"color\": \"#EBF0F8\"}, \"line\": {\"color\": \"white\"}}, \"header\": {\"fill\": {\"color\": \"#C8D4E3\"}, \"line\": {\"color\": \"white\"}}, \"type\": \"table\"}]}, \"layout\": {\"annotationdefaults\": {\"arrowcolor\": \"#2a3f5f\", \"arrowhead\": 0, \"arrowwidth\": 1}, \"coloraxis\": {\"colorbar\": {\"outlinewidth\": 0, \"ticks\": \"\"}}, \"colorscale\": {\"diverging\": [[0, \"#8e0152\"], [0.1, \"#c51b7d\"], [0.2, \"#de77ae\"], [0.3, \"#f1b6da\"], [0.4, \"#fde0ef\"], [0.5, \"#f7f7f7\"], [0.6, \"#e6f5d0\"], [0.7, \"#b8e186\"], [0.8, \"#7fbc41\"], [0.9, \"#4d9221\"], [1, \"#276419\"]], \"sequential\": [[0.0, \"#0d0887\"], [0.1111111111111111, \"#46039f\"], [0.2222222222222222, \"#7201a8\"], [0.3333333333333333, \"#9c179e\"], [0.4444444444444444, \"#bd3786\"], [0.5555555555555556, \"#d8576b\"], [0.6666666666666666, \"#ed7953\"], [0.7777777777777778, \"#fb9f3a\"], [0.8888888888888888, \"#fdca26\"], [1.0, \"#f0f921\"]], \"sequentialminus\": [[0.0, \"#0d0887\"], [0.1111111111111111, \"#46039f\"], [0.2222222222222222, \"#7201a8\"], [0.3333333333333333, \"#9c179e\"], [0.4444444444444444, \"#bd3786\"], [0.5555555555555556, \"#d8576b\"], [0.6666666666666666, \"#ed7953\"], [0.7777777777777778, \"#fb9f3a\"], [0.8888888888888888, \"#fdca26\"], [1.0, \"#f0f921\"]]}, \"colorway\": [\"#636efa\", \"#EF553B\", \"#00cc96\", \"#ab63fa\", \"#FFA15A\", \"#19d3f3\", \"#FF6692\", \"#B6E880\", \"#FF97FF\", \"#FECB52\"], \"font\": {\"color\": \"#2a3f5f\"}, \"geo\": {\"bgcolor\": \"white\", \"lakecolor\": \"white\", \"landcolor\": \"#E5ECF6\", \"showlakes\": true, \"showland\": true, \"subunitcolor\": \"white\"}, \"hoverlabel\": {\"align\": \"left\"}, \"hovermode\": \"closest\", \"mapbox\": {\"style\": \"light\"}, \"paper_bgcolor\": \"white\", \"plot_bgcolor\": \"#E5ECF6\", \"polar\": {\"angularaxis\": {\"gridcolor\": \"white\", \"linecolor\": \"white\", \"ticks\": \"\"}, \"bgcolor\": \"#E5ECF6\", \"radialaxis\": {\"gridcolor\": \"white\", \"linecolor\": \"white\", \"ticks\": \"\"}}, \"scene\": {\"xaxis\": {\"backgroundcolor\": \"#E5ECF6\", \"gridcolor\": \"white\", \"gridwidth\": 2, \"linecolor\": \"white\", \"showbackground\": true, \"ticks\": \"\", \"zerolinecolor\": \"white\"}, \"yaxis\": {\"backgroundcolor\": \"#E5ECF6\", \"gridcolor\": \"white\", \"gridwidth\": 2, \"linecolor\": \"white\", \"showbackground\": true, \"ticks\": \"\", \"zerolinecolor\": \"white\"}, \"zaxis\": {\"backgroundcolor\": \"#E5ECF6\", \"gridcolor\": \"white\", \"gridwidth\": 2, \"linecolor\": \"white\", \"showbackground\": true, \"ticks\": \"\", \"zerolinecolor\": \"white\"}}, \"shapedefaults\": {\"line\": {\"color\": \"#2a3f5f\"}}, \"ternary\": {\"aaxis\": {\"gridcolor\": \"white\", \"linecolor\": \"white\", \"ticks\": \"\"}, \"baxis\": {\"gridcolor\": \"white\", \"linecolor\": \"white\", \"ticks\": \"\"}, \"bgcolor\": \"#E5ECF6\", \"caxis\": {\"gridcolor\": \"white\", \"linecolor\": \"white\", \"ticks\": \"\"}}, \"title\": {\"x\": 0.05}, \"xaxis\": {\"automargin\": true, \"gridcolor\": \"white\", \"linecolor\": \"white\", \"ticks\": \"\", \"title\": {\"standoff\": 15}, \"zerolinecolor\": \"white\", \"zerolinewidth\": 2}, \"yaxis\": {\"automargin\": true, \"gridcolor\": \"white\", \"linecolor\": \"white\", \"ticks\": \"\", \"title\": {\"standoff\": 15}, \"zerolinecolor\": \"white\", \"zerolinewidth\": 2}}}},\n",
       "                        {\"responsive\": true}\n",
       "                    ).then(function(){\n",
       "                            \n",
       "var gd = document.getElementById('6b7d4828-f2bc-4aad-a217-30f26404fb9a');\n",
       "var x = new MutationObserver(function (mutations, observer) {{\n",
       "        var display = window.getComputedStyle(gd).display;\n",
       "        if (!display || display === 'none') {{\n",
       "            console.log([gd, 'removed!']);\n",
       "            Plotly.purge(gd);\n",
       "            observer.disconnect();\n",
       "        }}\n",
       "}});\n",
       "\n",
       "// Listen for the removal of the full notebook cells\n",
       "var notebookContainer = gd.closest('#notebook-container');\n",
       "if (notebookContainer) {{\n",
       "    x.observe(notebookContainer, {childList: true});\n",
       "}}\n",
       "\n",
       "// Listen for the clearing of the current output cell\n",
       "var outputEl = gd.closest('.output');\n",
       "if (outputEl) {{\n",
       "    x.observe(outputEl, {childList: true});\n",
       "}}\n",
       "\n",
       "                        })\n",
       "                };\n",
       "                });\n",
       "            </script>\n",
       "        </div>"
      ]
     },
     "metadata": {},
     "output_type": "display_data"
    }
   ],
   "source": [
    "cor = df_valores.corr()\n",
    "fig = go.Figure(go.Heatmap(x=cor.columns,y=cor.index,z=cor.values))\n",
    "fig.show()"
   ]
  },
  {
   "cell_type": "code",
   "execution_count": 38,
   "metadata": {},
   "outputs": [
    {
     "data": {
      "text/html": [
       "<div>\n",
       "<style scoped>\n",
       "    .dataframe tbody tr th:only-of-type {\n",
       "        vertical-align: middle;\n",
       "    }\n",
       "\n",
       "    .dataframe tbody tr th {\n",
       "        vertical-align: top;\n",
       "    }\n",
       "\n",
       "    .dataframe thead th {\n",
       "        text-align: right;\n",
       "    }\n",
       "</style>\n",
       "<table border=\"1\" class=\"dataframe\">\n",
       "  <thead>\n",
       "    <tr style=\"text-align: right;\">\n",
       "      <th></th>\n",
       "      <th>mois</th>\n",
       "      <th>prot</th>\n",
       "      <th>fat</th>\n",
       "      <th>ash</th>\n",
       "      <th>sodium</th>\n",
       "      <th>carb</th>\n",
       "      <th>cal</th>\n",
       "      <th>Componente 1</th>\n",
       "      <th>Componente 2</th>\n",
       "      <th>Componente 3</th>\n",
       "      <th>Componente 4</th>\n",
       "      <th>Componente 5</th>\n",
       "      <th>Componente 6</th>\n",
       "      <th>Componente 7</th>\n",
       "    </tr>\n",
       "  </thead>\n",
       "  <tbody>\n",
       "    <tr>\n",
       "      <th>0</th>\n",
       "      <td>-1.371815</td>\n",
       "      <td>1.254181</td>\n",
       "      <td>2.749841</td>\n",
       "      <td>1.953894</td>\n",
       "      <td>2.976687</td>\n",
       "      <td>-1.227511</td>\n",
       "      <td>2.680129</td>\n",
       "      <td>5.010343</td>\n",
       "      <td>2.679215</td>\n",
       "      <td>-0.039327</td>\n",
       "      <td>0.144106</td>\n",
       "      <td>-0.284015</td>\n",
       "      <td>0.002339</td>\n",
       "      <td>-0.000960</td>\n",
       "    </tr>\n",
       "    <tr>\n",
       "      <th>1</th>\n",
       "      <td>-1.301562</td>\n",
       "      <td>1.227717</td>\n",
       "      <td>2.640475</td>\n",
       "      <td>2.135338</td>\n",
       "      <td>3.030779</td>\n",
       "      <td>-1.213622</td>\n",
       "      <td>2.534733</td>\n",
       "      <td>5.023755</td>\n",
       "      <td>2.529295</td>\n",
       "      <td>-0.097056</td>\n",
       "      <td>0.353950</td>\n",
       "      <td>-0.215269</td>\n",
       "      <td>-0.002952</td>\n",
       "      <td>-0.001022</td>\n",
       "    </tr>\n",
       "    <tr>\n",
       "      <th>2</th>\n",
       "      <td>-1.316242</td>\n",
       "      <td>1.030010</td>\n",
       "      <td>2.851396</td>\n",
       "      <td>1.930227</td>\n",
       "      <td>2.598042</td>\n",
       "      <td>-1.225844</td>\n",
       "      <td>2.712439</td>\n",
       "      <td>4.805439</td>\n",
       "      <td>2.673700</td>\n",
       "      <td>-0.075475</td>\n",
       "      <td>-0.107798</td>\n",
       "      <td>0.035038</td>\n",
       "      <td>-0.005424</td>\n",
       "      <td>-0.000832</td>\n",
       "    </tr>\n",
       "    <tr>\n",
       "      <th>3</th>\n",
       "      <td>-1.085563</td>\n",
       "      <td>1.054918</td>\n",
       "      <td>2.555660</td>\n",
       "      <td>1.701449</td>\n",
       "      <td>2.543950</td>\n",
       "      <td>-1.193622</td>\n",
       "      <td>2.373183</td>\n",
       "      <td>4.469543</td>\n",
       "      <td>2.285029</td>\n",
       "      <td>-0.120233</td>\n",
       "      <td>-0.054028</td>\n",
       "      <td>-0.174501</td>\n",
       "      <td>-0.005627</td>\n",
       "      <td>-0.000946</td>\n",
       "    </tr>\n",
       "    <tr>\n",
       "      <th>4</th>\n",
       "      <td>-1.091854</td>\n",
       "      <td>1.230830</td>\n",
       "      <td>2.390494</td>\n",
       "      <td>1.725116</td>\n",
       "      <td>2.625088</td>\n",
       "      <td>-1.172510</td>\n",
       "      <td>2.260097</td>\n",
       "      <td>4.471893</td>\n",
       "      <td>2.159152</td>\n",
       "      <td>-0.000738</td>\n",
       "      <td>0.117166</td>\n",
       "      <td>-0.313027</td>\n",
       "      <td>-0.001689</td>\n",
       "      <td>-0.000968</td>\n",
       "    </tr>\n",
       "    <tr>\n",
       "      <th>...</th>\n",
       "      <td>...</td>\n",
       "      <td>...</td>\n",
       "      <td>...</td>\n",
       "      <td>...</td>\n",
       "      <td>...</td>\n",
       "      <td>...</td>\n",
       "      <td>...</td>\n",
       "      <td>...</td>\n",
       "      <td>...</td>\n",
       "      <td>...</td>\n",
       "      <td>...</td>\n",
       "      <td>...</td>\n",
       "      <td>...</td>\n",
       "      <td>...</td>\n",
       "    </tr>\n",
       "    <tr>\n",
       "      <th>295</th>\n",
       "      <td>0.420144</td>\n",
       "      <td>-0.358607</td>\n",
       "      <td>-0.360411</td>\n",
       "      <td>-0.112995</td>\n",
       "      <td>-0.025423</td>\n",
       "      <td>0.138627</td>\n",
       "      <td>-0.583199</td>\n",
       "      <td>-0.535510</td>\n",
       "      <td>-0.530843</td>\n",
       "      <td>-0.426490</td>\n",
       "      <td>0.229258</td>\n",
       "      <td>-0.031016</td>\n",
       "      <td>-0.050825</td>\n",
       "      <td>0.034726</td>\n",
       "    </tr>\n",
       "    <tr>\n",
       "      <th>296</th>\n",
       "      <td>0.235600</td>\n",
       "      <td>-0.246521</td>\n",
       "      <td>-0.197477</td>\n",
       "      <td>-0.160329</td>\n",
       "      <td>0.001623</td>\n",
       "      <td>0.072514</td>\n",
       "      <td>-0.276252</td>\n",
       "      <td>-0.339636</td>\n",
       "      <td>-0.243230</td>\n",
       "      <td>-0.281174</td>\n",
       "      <td>0.064289</td>\n",
       "      <td>-0.069664</td>\n",
       "      <td>0.000082</td>\n",
       "      <td>-0.000233</td>\n",
       "    </tr>\n",
       "    <tr>\n",
       "      <th>297</th>\n",
       "      <td>0.382396</td>\n",
       "      <td>-0.367947</td>\n",
       "      <td>-0.468662</td>\n",
       "      <td>-0.160329</td>\n",
       "      <td>-0.079515</td>\n",
       "      <td>0.173072</td>\n",
       "      <td>-0.567044</td>\n",
       "      <td>-0.646433</td>\n",
       "      <td>-0.515434</td>\n",
       "      <td>-0.370378</td>\n",
       "      <td>0.249294</td>\n",
       "      <td>-0.043557</td>\n",
       "      <td>-0.002110</td>\n",
       "      <td>-0.000239</td>\n",
       "    </tr>\n",
       "    <tr>\n",
       "      <th>298</th>\n",
       "      <td>0.702202</td>\n",
       "      <td>-0.458238</td>\n",
       "      <td>-0.563521</td>\n",
       "      <td>-0.247106</td>\n",
       "      <td>-0.295884</td>\n",
       "      <td>0.089181</td>\n",
       "      <td>-0.825525</td>\n",
       "      <td>-0.865078</td>\n",
       "      <td>-0.921790</td>\n",
       "      <td>-0.493755</td>\n",
       "      <td>0.127400</td>\n",
       "      <td>0.024342</td>\n",
       "      <td>-0.001823</td>\n",
       "      <td>-0.000163</td>\n",
       "    </tr>\n",
       "    <tr>\n",
       "      <th>299</th>\n",
       "      <td>0.622512</td>\n",
       "      <td>-0.539189</td>\n",
       "      <td>-0.527809</td>\n",
       "      <td>-0.286551</td>\n",
       "      <td>-0.268838</td>\n",
       "      <td>0.145294</td>\n",
       "      <td>-0.744750</td>\n",
       "      <td>-0.895868</td>\n",
       "      <td>-0.767878</td>\n",
       "      <td>-0.530108</td>\n",
       "      <td>0.114224</td>\n",
       "      <td>0.026413</td>\n",
       "      <td>-0.000102</td>\n",
       "      <td>-0.000138</td>\n",
       "    </tr>\n",
       "  </tbody>\n",
       "</table>\n",
       "<p>300 rows × 14 columns</p>\n",
       "</div>"
      ],
      "text/plain": [
       "         mois      prot       fat       ash    sodium      carb       cal  \\\n",
       "0   -1.371815  1.254181  2.749841  1.953894  2.976687 -1.227511  2.680129   \n",
       "1   -1.301562  1.227717  2.640475  2.135338  3.030779 -1.213622  2.534733   \n",
       "2   -1.316242  1.030010  2.851396  1.930227  2.598042 -1.225844  2.712439   \n",
       "3   -1.085563  1.054918  2.555660  1.701449  2.543950 -1.193622  2.373183   \n",
       "4   -1.091854  1.230830  2.390494  1.725116  2.625088 -1.172510  2.260097   \n",
       "..        ...       ...       ...       ...       ...       ...       ...   \n",
       "295  0.420144 -0.358607 -0.360411 -0.112995 -0.025423  0.138627 -0.583199   \n",
       "296  0.235600 -0.246521 -0.197477 -0.160329  0.001623  0.072514 -0.276252   \n",
       "297  0.382396 -0.367947 -0.468662 -0.160329 -0.079515  0.173072 -0.567044   \n",
       "298  0.702202 -0.458238 -0.563521 -0.247106 -0.295884  0.089181 -0.825525   \n",
       "299  0.622512 -0.539189 -0.527809 -0.286551 -0.268838  0.145294 -0.744750   \n",
       "\n",
       "     Componente 1  Componente 2  Componente 3  Componente 4  Componente 5  \\\n",
       "0        5.010343      2.679215     -0.039327      0.144106     -0.284015   \n",
       "1        5.023755      2.529295     -0.097056      0.353950     -0.215269   \n",
       "2        4.805439      2.673700     -0.075475     -0.107798      0.035038   \n",
       "3        4.469543      2.285029     -0.120233     -0.054028     -0.174501   \n",
       "4        4.471893      2.159152     -0.000738      0.117166     -0.313027   \n",
       "..            ...           ...           ...           ...           ...   \n",
       "295     -0.535510     -0.530843     -0.426490      0.229258     -0.031016   \n",
       "296     -0.339636     -0.243230     -0.281174      0.064289     -0.069664   \n",
       "297     -0.646433     -0.515434     -0.370378      0.249294     -0.043557   \n",
       "298     -0.865078     -0.921790     -0.493755      0.127400      0.024342   \n",
       "299     -0.895868     -0.767878     -0.530108      0.114224      0.026413   \n",
       "\n",
       "     Componente 6  Componente 7  \n",
       "0        0.002339     -0.000960  \n",
       "1       -0.002952     -0.001022  \n",
       "2       -0.005424     -0.000832  \n",
       "3       -0.005627     -0.000946  \n",
       "4       -0.001689     -0.000968  \n",
       "..            ...           ...  \n",
       "295     -0.050825      0.034726  \n",
       "296      0.000082     -0.000233  \n",
       "297     -0.002110     -0.000239  \n",
       "298     -0.001823     -0.000163  \n",
       "299     -0.000102     -0.000138  \n",
       "\n",
       "[300 rows x 14 columns]"
      ]
     },
     "execution_count": 38,
     "metadata": {},
     "output_type": "execute_result"
    }
   ],
   "source": [
    "pca = PCA(n_components=7)\n",
    "principalComponents = pca.fit_transform(df_valores_z)\n",
    "PCA_components = pd.DataFrame(principalComponents)\n",
    "PCA_components.rename(columns={\n",
    "    0:'Componente 1',\n",
    "    1:'Componente 2',\n",
    "    2:'Componente 3',\n",
    "    3:'Componente 4',\n",
    "    4:'Componente 5',\n",
    "    5:'Componente 6',\n",
    "    6:'Componente 7',\n",
    "},inplace=True)\n",
    "\n",
    "df_pca = pd.concat([df_valores_z.reset_index(),PCA_components],axis=1,sort=False).drop('index',axis=1)\n",
    "df_pca"
   ]
  },
  {
   "cell_type": "markdown",
   "metadata": {},
   "source": [
    "# Análisis del modelo"
   ]
  },
  {
   "cell_type": "code",
   "execution_count": 49,
   "metadata": {},
   "outputs": [
    {
     "data": {
      "text/plain": [
       "([<matplotlib.axis.XTick at 0x7f88a588ac50>,\n",
       "  <matplotlib.axis.XTick at 0x7f88a55b0c10>,\n",
       "  <matplotlib.axis.XTick at 0x7f88a595fdd0>,\n",
       "  <matplotlib.axis.XTick at 0x7f88a3cc4bd0>,\n",
       "  <matplotlib.axis.XTick at 0x7f88a3cc3150>,\n",
       "  <matplotlib.axis.XTick at 0x7f88a3cc3790>,\n",
       "  <matplotlib.axis.XTick at 0x7f88a3cc3610>],\n",
       " [Text(0, 0, ''),\n",
       "  Text(0, 0, ''),\n",
       "  Text(0, 0, ''),\n",
       "  Text(0, 0, ''),\n",
       "  Text(0, 0, ''),\n",
       "  Text(0, 0, ''),\n",
       "  Text(0, 0, '')])"
      ]
     },
     "execution_count": 49,
     "metadata": {},
     "output_type": "execute_result"
    },
    {
     "data": {
      "image/png": "[encoded data removed]",
      "text/plain": [
       "<Figure size 432x288 with 1 Axes>"
      ]
     },
     "metadata": {
      "needs_background": "light"
     },
     "output_type": "display_data"
    }
   ],
   "source": [
    "features = range(pca.n_components_)\n",
    "plt.bar(features, pca.explained_variance_ratio_.cumsum(), color='black')\n",
    "plt.xlabel('PCA features')\n",
    "plt.ylabel('variance %')\n",
    "plt.xticks(features)"
   ]
  },
  {
   "cell_type": "code",
   "execution_count": 250,
   "metadata": {},
   "outputs": [
    {
     "data": {
      "text/html": [
       "<div>\n",
       "<style scoped>\n",
       "    .dataframe tbody tr th:only-of-type {\n",
       "        vertical-align: middle;\n",
       "    }\n",
       "\n",
       "    .dataframe tbody tr th {\n",
       "        vertical-align: top;\n",
       "    }\n",
       "\n",
       "    .dataframe thead th {\n",
       "        text-align: right;\n",
       "    }\n",
       "</style>\n",
       "<table border=\"1\" class=\"dataframe\">\n",
       "  <thead>\n",
       "    <tr style=\"text-align: right;\">\n",
       "      <th></th>\n",
       "      <th>mois</th>\n",
       "      <th>prot</th>\n",
       "      <th>fat</th>\n",
       "      <th>ash</th>\n",
       "      <th>sodium</th>\n",
       "      <th>carb</th>\n",
       "      <th>cal</th>\n",
       "    </tr>\n",
       "    <tr>\n",
       "      <th>var</th>\n",
       "      <th></th>\n",
       "      <th></th>\n",
       "      <th></th>\n",
       "      <th></th>\n",
       "      <th></th>\n",
       "      <th></th>\n",
       "      <th></th>\n",
       "    </tr>\n",
       "  </thead>\n",
       "  <tbody>\n",
       "    <tr>\n",
       "      <th>mois</th>\n",
       "      <td>0.064709</td>\n",
       "      <td>0.378761</td>\n",
       "      <td>0.446666</td>\n",
       "      <td>0.471890</td>\n",
       "      <td>0.435703</td>\n",
       "      <td>-0.424914</td>\n",
       "      <td>0.244487</td>\n",
       "    </tr>\n",
       "    <tr>\n",
       "      <th>prot</th>\n",
       "      <td>-0.628276</td>\n",
       "      <td>-0.269707</td>\n",
       "      <td>0.234379</td>\n",
       "      <td>-0.110990</td>\n",
       "      <td>0.201662</td>\n",
       "      <td>0.320312</td>\n",
       "      <td>0.567458</td>\n",
       "    </tr>\n",
       "    <tr>\n",
       "      <th>fat</th>\n",
       "      <td>-0.421669</td>\n",
       "      <td>0.746027</td>\n",
       "      <td>-0.199309</td>\n",
       "      <td>0.056273</td>\n",
       "      <td>-0.455169</td>\n",
       "      <td>0.052237</td>\n",
       "      <td>0.113316</td>\n",
       "    </tr>\n",
       "    <tr>\n",
       "      <th>ash</th>\n",
       "      <td>-0.220722</td>\n",
       "      <td>-0.010593</td>\n",
       "      <td>-0.507042</td>\n",
       "      <td>0.552399</td>\n",
       "      <td>0.446277</td>\n",
       "      <td>0.334339</td>\n",
       "      <td>-0.279263</td>\n",
       "    </tr>\n",
       "    <tr>\n",
       "      <th>sodium</th>\n",
       "      <td>-0.006470</td>\n",
       "      <td>-0.387983</td>\n",
       "      <td>0.173368</td>\n",
       "      <td>0.670886</td>\n",
       "      <td>-0.602614</td>\n",
       "      <td>0.007437</td>\n",
       "      <td>0.078003</td>\n",
       "    </tr>\n",
       "    <tr>\n",
       "      <th>carb</th>\n",
       "      <td>0.446450</td>\n",
       "      <td>-0.000172</td>\n",
       "      <td>-0.525403</td>\n",
       "      <td>0.058861</td>\n",
       "      <td>0.003131</td>\n",
       "      <td>-0.000509</td>\n",
       "      <td>0.721914</td>\n",
       "    </tr>\n",
       "    <tr>\n",
       "      <th>cal</th>\n",
       "      <td>0.418569</td>\n",
       "      <td>0.276765</td>\n",
       "      <td>0.377672</td>\n",
       "      <td>0.056021</td>\n",
       "      <td>-0.000524</td>\n",
       "      <td>0.776068</td>\n",
       "      <td>0.012060</td>\n",
       "    </tr>\n",
       "  </tbody>\n",
       "</table>\n",
       "</div>"
      ],
      "text/plain": [
       "            mois      prot       fat       ash    sodium      carb       cal\n",
       "var                                                                         \n",
       "mois    0.064709  0.378761  0.446666  0.471890  0.435703 -0.424914  0.244487\n",
       "prot   -0.628276 -0.269707  0.234379 -0.110990  0.201662  0.320312  0.567458\n",
       "fat    -0.421669  0.746027 -0.199309  0.056273 -0.455169  0.052237  0.113316\n",
       "ash    -0.220722 -0.010593 -0.507042  0.552399  0.446277  0.334339 -0.279263\n",
       "sodium -0.006470 -0.387983  0.173368  0.670886 -0.602614  0.007437  0.078003\n",
       "carb    0.446450 -0.000172 -0.525403  0.058861  0.003131 -0.000509  0.721914\n",
       "cal     0.418569  0.276765  0.377672  0.056021 -0.000524  0.776068  0.012060"
      ]
     },
     "execution_count": 250,
     "metadata": {},
     "output_type": "execute_result"
    }
   ],
   "source": [
    "cols = ['mois' ,'prot' ,'fat' ,'ash' ,'sodium','carb','cal']\n",
    "componentes = pd.DataFrame(pca.components_)\n",
    "componentes.insert(0,'var',cols)\n",
    "componentes.set_index('var',inplace=True)\n",
    "componentes.rename(columns={i:cols[i] for i in range(len(cols))},inplace=True)\n",
    "componentes"
   ]
  },
  {
   "cell_type": "markdown",
   "metadata": {},
   "source": [
    "## Descripción de las componentes"
   ]
  },
  {
   "cell_type": "markdown",
   "metadata": {},
   "source": [
    "+ Componente 1: Bajo en proteína, bajo en grasa, alto en carbohidratos, alto en calorías (pizzas medio sintéticas, mucho pan)\n",
    "\n",
    "+ Componente 2: Alto en humedad, alto en grasa, baja en sodio (liru sisa)"
   ]
  },
  {
   "cell_type": "code",
   "execution_count": 253,
   "metadata": {},
   "outputs": [
    {
     "data": {
      "application/vnd.plotly.v1+json": {
       "config": {
        "plotlyServerURL": "https://plot.ly"
       },
       "data": [
        {
         "customdata": [
          [
           "14069",
           "A",
           27.82,
           21.43,
           44.87,
           5.11,
           1.77,
           0.77,
           4.93
          ],
          [
           "14053",
           "A",
           28.49,
           21.26,
           43.89,
           5.34,
           1.79,
           1.02,
           4.84
          ],
          [
           "14025",
           "A",
           28.35,
           19.99,
           45.78,
           5.08,
           1.63,
           0.8,
           4.95
          ],
          [
           "14016",
           "A",
           30.55,
           20.15,
           43.13,
           4.79,
           1.61,
           1.38,
           4.74
          ],
          [
           "14005",
           "A",
           30.49,
           21.28,
           41.65,
           4.82,
           1.64,
           1.76,
           4.67
          ],
          [
           "14075",
           "A",
           31.14,
           20.23,
           42.31,
           4.92,
           1.65,
           1.4,
           4.67
          ],
          [
           "14082",
           "A",
           31.21,
           20.97,
           41.34,
           4.71,
           1.58,
           1.77,
           4.63
          ],
          [
           "14097",
           "A",
           28.76,
           21.41,
           41.6,
           5.28,
           1.75,
           2.95,
           4.72
          ],
          [
           "14117",
           "A",
           28.22,
           20.48,
           45.1,
           5.02,
           1.71,
           1.18,
           4.93
          ],
          [
           "14133",
           "A",
           27.72,
           21.19,
           45.29,
           5.16,
           1.66,
           0.64,
           4.95
          ],
          [
           "14101",
           "A",
           27.35,
           21.2,
           45.59,
           4.94,
           1.65,
           0.92,
           4.98
          ],
          [
           "14108",
           "A",
           26.98,
           21.2,
           45.03,
           5.15,
           1.67,
           1.64,
           4.97
          ],
          [
           "14164",
           "A",
           28.7,
           20,
           45.12,
           4.93,
           1.56,
           1.25,
           4.91
          ],
          [
           "14154",
           "A",
           30.91,
           19.65,
           42.45,
           4.81,
           1.65,
           2.81,
           4.72
          ],
          [
           "24005",
           "A",
           30.91,
           20.77,
           42.03,
           4.9,
           1.61,
           1.39,
           4.67
          ],
          [
           "24026",
           "A",
           30.83,
           17.88,
           44.33,
           5.26,
           1.76,
           1.7,
           4.77
          ],
          [
           "24094",
           "A",
           32.73,
           20.06,
           39.74,
           5.24,
           1.69,
           2.23,
           4.47
          ],
          [
           "24108",
           "A",
           34.58,
           17.53,
           40.87,
           5.05,
           1.61,
           1.97,
           4.46
          ],
          [
           "24102",
           "A",
           31.8,
           20.35,
           40.44,
           5.43,
           1.61,
           1.98,
           4.53
          ],
          [
           "24082",
           "A",
           31.02,
           19.05,
           42.29,
           5.27,
           1.71,
           2.37,
           4.66
          ],
          [
           "34017",
           "A",
           27.02,
           19.56,
           47.2,
           4.95,
           1.65,
           1.27,
           5.08
          ],
          [
           "34020",
           "A",
           27.78,
           20.01,
           45.59,
           4.97,
           1.7,
           1.65,
           4.97
          ],
          [
           "24136",
           "A",
           30.88,
           20.58,
           42.26,
           4.96,
           1.63,
           1.32,
           4.68
          ],
          [
           "24122",
           "A",
           32.2,
           19.25,
           43.42,
           4.62,
           1.5,
           0.51,
           4.7
          ],
          [
           "24115",
           "A",
           33.19,
           18.05,
           41.88,
           5.22,
           1.7,
           1.66,
           4.56
          ],
          [
           "34012",
           "A",
           30.43,
           19.78,
           44.2,
           4.8,
           1.61,
           0.79,
           4.8
          ],
          [
           "34006",
           "A",
           28.93,
           19.99,
           45.2,
           4.78,
           1.62,
           1.1,
           4.91
          ],
          [
           "24146",
           "A",
           30.41,
           18.71,
           43.99,
           4.86,
           1.62,
           2.03,
           4.79
          ],
          [
           "24138",
           "A",
           29.62,
           21.1,
           43.37,
           5.05,
           1.69,
           0.86,
           4.78
          ]
         ],
         "hovertemplate": "brand=%{customdata[1]}<br>Componente 1=%{x}<br>Componente 2=%{y}<br>id=%{customdata[0]}<br>mois=%{customdata[2]}<br>prot=%{customdata[3]}<br>fat=%{customdata[4]}<br>ash=%{customdata[5]}<br>sodium=%{customdata[6]}<br>carb=%{customdata[7]}<br>cal=%{customdata[8]}<extra></extra>",
         "legendgroup": "A",
         "marker": {
          "color": "#636efa",
          "symbol": "circle"
         },
         "mode": "markers",
         "name": "A",
         "orientation": "v",
         "showlegend": true,
         "type": "scatter",
         "x": [
          5.010342835150375,
          5.0237553822520775,
          4.805439298547558,
          4.4695433997286225,
          4.471892555296011,
          4.5047997792509555,
          4.315357808764861,
          4.757851667733031,
          4.854619335014716,
          4.916406310605949,
          4.840995818199379,
          4.891368713261431,
          4.610754070558892,
          4.421532542062542,
          4.466776778902417,
          4.753434669967486,
          4.445130826432417,
          4.202017924892798,
          4.496871917530368,
          4.607561667928181,
          4.857268335478805,
          4.8226524920355915,
          4.518341419751811,
          4.2539563893888275,
          4.489750637486471,
          4.541598296551267,
          4.634117747795121,
          4.468801830361202,
          4.75034835396493
         ],
         "xaxis": "x",
         "y": [
          2.679215322870461,
          2.5292945548558103,
          2.6737003252531015,
          2.2850292281532365,
          2.159152401842946,
          2.16797296277134,
          2.057043278390636,
          2.353085867875091,
          2.6812190403304665,
          2.6585131449557418,
          2.7366083875375256,
          2.7425017324662044,
          2.5792536528475587,
          2.291698533083844,
          2.1328849245646326,
          2.4671364263505873,
          1.8283651227732383,
          1.8014833119296376,
          1.8860501499758389,
          2.235072601855861,
          2.9663435557005333,
          2.7867123223275967,
          2.162431031933392,
          2.124442781267487,
          2.0179968034215072,
          2.38008587027329,
          2.6098036686258643,
          2.4339357284041294,
          2.3609690681718343
         ],
         "yaxis": "y"
        },
        {
         "customdata": [
          [
           "14015",
           "B",
           49.57,
           13.7,
           29.07,
           3.62,
           1.1,
           4.04,
           3.33
          ],
          [
           "14006",
           "B",
           52.68,
           14.38,
           25.72,
           3.26,
           0.93,
           3.96,
           3.05
          ],
          [
           "14024",
           "B",
           48.53,
           13.14,
           30.38,
           3.55,
           0.99,
           4.4,
           3.44
          ],
          [
           "14052",
           "B",
           50.19,
           13.78,
           28.39,
           3.56,
           1,
           4.08,
           3.27
          ],
          [
           "14062",
           "B",
           50.67,
           13.21,
           27.66,
           3.64,
           1,
           4.82,
           3.21
          ],
          [
           "14047",
           "B",
           49.99,
           13.35,
           29.2,
           3.52,
           1.05,
           3.94,
           3.32
          ],
          [
           "14074",
           "B",
           50.72,
           12.93,
           29.88,
           3.6,
           1.03,
           2.87,
           3.32
          ],
          [
           "14083",
           "B",
           50.81,
           12.56,
           29.95,
           2.99,
           0.81,
           3.69,
           3.35
          ],
          [
           "14094",
           "B",
           54.08,
           13.28,
           25.25,
           3.1,
           0.8,
           4.29,
           2.98
          ],
          [
           "14124",
           "B",
           51.9,
           14.27,
           24.92,
           3.85,
           1.06,
           5.06,
           3.02
          ],
          [
           "24019",
           "B",
           50.33,
           13.96,
           29.25,
           3.42,
           0.96,
           3.04,
           3.31
          ],
          [
           "24012",
           "B",
           49.69,
           13.63,
           29.59,
           3.41,
           0.98,
           3.68,
           3.36
          ],
          [
           "14132",
           "B",
           51.12,
           14.02,
           27.37,
           3.71,
           1.11,
           3.78,
           3.18
          ],
          [
           "14146",
           "B",
           49.77,
           13.24,
           28.91,
           3.59,
           1.06,
           4.49,
           3.31
          ],
          [
           "14149",
           "B",
           54.96,
           14.26,
           22.99,
           3.19,
           0.9,
           4.6,
           2.82
          ],
          [
           "14161",
           "B",
           55.11,
           14.87,
           21.9,
           3.29,
           0.86,
           4.83,
           2.76
          ],
          [
           "14113",
           "B",
           54.12,
           14.06,
           24.95,
           3.14,
           0.82,
           3.73,
           2.96
          ],
          [
           "24008",
           "B",
           49.34,
           13.79,
           29.57,
           3.52,
           0.95,
           3.78,
           3.36
          ],
          [
           "24029",
           "B",
           50.65,
           13.14,
           28.79,
           3.73,
           1.09,
           3.69,
           3.26
          ],
          [
           "24045",
           "B",
           52.46,
           14.18,
           24.6,
           3.57,
           1.12,
           5.19,
           2.99
          ],
          [
           "24040",
           "B",
           49.96,
           13.4,
           28.84,
           3.48,
           0.98,
           4.32,
           3.3
          ],
          [
           "24093",
           "B",
           49.57,
           13.17,
           29.39,
           3.59,
           1.06,
           4.28,
           3.35
          ],
          [
           "24083",
           "B",
           49.34,
           13.06,
           29.46,
           3.51,
           1.04,
           4.63,
           3.36
          ],
          [
           "24049",
           "B",
           50.87,
           13.85,
           27.64,
           3.71,
           1.1,
           3.93,
           3.2
          ],
          [
           "24101",
           "B",
           51.03,
           13.9,
           27.56,
           3.73,
           1.08,
           3.78,
           3.19
          ],
          [
           "34011",
           "B",
           53.98,
           14.05,
           24.73,
           3.32,
           0.92,
           3.92,
           2.94
          ],
          [
           "24125",
           "B",
           52.23,
           13.64,
           27.04,
           3.57,
           0.98,
           3.52,
           3.12
          ],
          [
           "24145",
           "B",
           51.74,
           13.95,
           27.75,
           3.6,
           1.04,
           2.96,
           3.17
          ],
          [
           "24151",
           "B",
           51.52,
           13.72,
           28.28,
           3.62,
           1.05,
           2.86,
           3.21
          ],
          [
           "34005",
           "B",
           51.86,
           13.13,
           28.82,
           2.94,
           0.8,
           3.25,
           3.25
          ],
          [
           "24118",
           "B",
           51.75,
           13.18,
           28.38,
           3.04,
           0.86,
           3.65,
           3.23
          ]
         ],
         "hovertemplate": "brand=%{customdata[1]}<br>Componente 1=%{x}<br>Componente 2=%{y}<br>id=%{customdata[0]}<br>mois=%{customdata[2]}<br>prot=%{customdata[3]}<br>fat=%{customdata[4]}<br>ash=%{customdata[5]}<br>sodium=%{customdata[6]}<br>carb=%{customdata[7]}<br>cal=%{customdata[8]}<extra></extra>",
         "legendgroup": "B",
         "marker": {
          "color": "#EF553B",
          "symbol": "circle"
         },
         "mode": "markers",
         "name": "B",
         "orientation": "v",
         "showlegend": true,
         "type": "scatter",
         "x": [
          1.8611845546661552,
          1.312344078430946,
          1.7656737707307308,
          1.6713931861482973,
          1.5932665152072096,
          1.7521411710716797,
          1.797698435050106,
          1.286140998467125,
          0.9853615191646081,
          1.5957021658155357,
          1.6669213610647686,
          1.684554698445019,
          1.79800953024257,
          1.7506161532775657,
          1.017292626547284,
          0.9609073801109274,
          1.0604493755906677,
          1.6938538736756907,
          1.83131551981949,
          1.5297949855337345,
          1.6226917764436306,
          1.7898146824811458,
          1.727595251766546,
          1.7923226305284028,
          1.775837226378229,
          1.220407386660391,
          1.5438146687702,
          1.709000860835321,
          1.7577545651675368,
          1.2110393977225957,
          1.281897322138319
         ],
         "xaxis": "x",
         "y": [
          -0.48587897492463245,
          -1.1262402751076532,
          -0.30620877204600755,
          -0.6514482747227262,
          -0.7270713395566742,
          -0.524913586527096,
          -0.5745375918835446,
          -0.5875865613508434,
          -1.2997702489641212,
          -1.0798454414010794,
          -0.6371304734760931,
          -0.5032106411636036,
          -0.7904533007042756,
          -0.5134422171938438,
          -1.5525019452785072,
          -1.697989245400539,
          -1.3638958694152086,
          -0.5116089219587179,
          -0.6263232598842781,
          -1.0892751592892178,
          -0.5807019342288541,
          -0.4518403697054461,
          -0.4187469470852772,
          -0.7442342147041955,
          -0.7834625514666006,
          -1.336180251428781,
          -0.9745303670798279,
          -0.8707259365994194,
          -0.7941204241515014,
          -0.8108262486159487,
          -0.804435357653156
         ],
         "yaxis": "y"
        },
        {
         "customdata": [
          [
           "14058",
           "C",
           48.4,
           26.05,
           21.4,
           3.44,
           0.5,
           0.71,
           3
          ],
          [
           "14022",
           "C",
           48.69,
           28.48,
           17.37,
           3.53,
           0.43,
           1.93,
           2.78
          ],
          [
           "14036",
           "C",
           48.88,
           25.23,
           20.89,
           3.22,
           0.47,
           1.78,
           2.96
          ],
          [
           "14093",
           "C",
           48.97,
           25.63,
           19.28,
           3.48,
           0.55,
           2.64,
           2.87
          ],
          [
           "14080",
           "C",
           48.84,
           23.98,
           23.37,
           3,
           0.52,
           0.81,
           3.09
          ],
          [
           "14029",
           "C",
           49.73,
           25.65,
           19.98,
           2.51,
           0.52,
           2.13,
           2.91
          ],
          [
           "14106",
           "C",
           50.18,
           28.3,
           15.79,
           3.47,
           0.45,
           2.26,
           2.64
          ],
          [
           "14014",
           "C",
           48.15,
           27.98,
           18.69,
           3.58,
           0.48,
           1.7,
           2.87
          ],
          [
           "14073",
           "C",
           49.72,
           27.31,
           16.89,
           3.08,
           0.25,
           3,
           2.73
          ],
          [
           "14151",
           "C",
           51.59,
           26.24,
           16.41,
           3.61,
           0.6,
           2.15,
           2.61
          ],
          [
           "14162",
           "C",
           52.26,
           26.31,
           14.77,
           3.51,
           0.53,
           3.15,
           2.51
          ],
          [
           "14139",
           "C",
           49.35,
           25.23,
           20.03,
           3.02,
           0.44,
           2.37,
           2.91
          ],
          [
           "14115",
           "C",
           47.91,
           26.03,
           21.54,
           3.71,
           0.6,
           0.81,
           3.01
          ],
          [
           "24006",
           "C",
           47.83,
           25.82,
           20.79,
           3.33,
           0.54,
           2.23,
           2.99
          ],
          [
           "24020",
           "C",
           47.9,
           25.55,
           21.1,
           3.04,
           0.43,
           2.41,
           3.02
          ],
          [
           "24031",
           "C",
           49.1,
           24.53,
           21.08,
           2.84,
           0.34,
           2.45,
           2.98
          ],
          [
           "24038",
           "C",
           50.04,
           24.13,
           19.75,
           3.21,
           0.52,
           2.87,
           2.86
          ],
          [
           "24043",
           "C",
           52.19,
           26,
           16.64,
           4.17,
           0.61,
           1,
           2.58
          ],
          [
           "24152",
           "C",
           47.11,
           26.17,
           21.29,
           3.36,
           0.48,
           2.07,
           3.05
          ],
          [
           "24144",
           "C",
           48.48,
           26.76,
           19.99,
           3.64,
           0.46,
           1.13,
           2.91
          ],
          [
           "24135",
           "C",
           52.22,
           26.25,
           16.45,
           3.92,
           0.38,
           1.16,
           2.58
          ],
          [
           "24124",
           "C",
           49.57,
           26.91,
           18,
           2.21,
           0.41,
           3.31,
           2.83
          ],
          [
           "24113",
           "C",
           51.71,
           24.98,
           17.2,
           3.01,
           0.34,
           3.1,
           2.67
          ],
          [
           "24058",
           "C",
           49.27,
           27.42,
           17.42,
           3.05,
           0.33,
           2.84,
           2.78
          ],
          [
           "24091",
           "C",
           47.25,
           23.95,
           24.24,
           3.47,
           0.57,
           1.09,
           3.18
          ],
          [
           "34010",
           "C",
           50.98,
           26.34,
           16.47,
           3.2,
           0.43,
           3.01,
           2.66
          ],
          [
           "34003",
           "C",
           49.57,
           25.46,
           20.79,
           3.04,
           0.37,
           1.14,
           2.94
          ]
         ],
         "hovertemplate": "brand=%{customdata[1]}<br>Componente 1=%{x}<br>Componente 2=%{y}<br>id=%{customdata[0]}<br>mois=%{customdata[2]}<br>prot=%{customdata[3]}<br>fat=%{customdata[4]}<br>ash=%{customdata[5]}<br>sodium=%{customdata[6]}<br>carb=%{customdata[7]}<br>cal=%{customdata[8]}<extra></extra>",
         "legendgroup": "C",
         "marker": {
          "color": "#00cc96",
          "symbol": "circle"
         },
         "mode": "markers",
         "name": "C",
         "orientation": "v",
         "showlegend": true,
         "type": "scatter",
         "x": [
          1.3733350957315178,
          1.1530212188461908,
          1.1445105315652562,
          1.2236652362761313,
          1.2454221176825382,
          0.8962800809884008,
          1.011904544384054,
          1.3041845891861445,
          0.642454670144616,
          1.150537862238478,
          0.8946427208741637,
          0.9613484757472304,
          1.5957516393708286,
          1.2918537830771015,
          1.0618789615948383,
          0.8116282589110018,
          1.020664486557195,
          1.3874755547987363,
          1.3004685953761828,
          1.3273125171630475,
          1.0250719670298971,
          0.5700321165656684,
          0.5879633870877993,
          0.7789363232099827,
          1.5390559918219506,
          0.8017742429278,
          0.9801293115751935
         ],
         "xaxis": "x",
         "y": [
          -1.8012234506721896,
          -2.2537952471948466,
          -1.8264830538828873,
          -1.9376523933243543,
          -1.5580496842861096,
          -1.8740859426128393,
          -2.4920302754903605,
          -2.0613960530473627,
          -2.3706484079135883,
          -2.4421138622982346,
          -2.6353881425102474,
          -1.914127835565073,
          -1.7225945237434381,
          -1.7206419849300838,
          -1.7097069045633215,
          -1.813989697063138,
          -1.930663861474106,
          -2.557093287891397,
          -1.6580223215005612,
          -1.9875447752555198,
          -2.6752442876195737,
          -2.0543059821188585,
          -2.3938154134901097,
          -2.2425099016735266,
          -1.3556823943065484,
          -2.4002384774854146,
          -1.9527155513708088
         ],
         "yaxis": "y"
        },
        {
         "customdata": [
          [
           "14092",
           "D",
           46.64,
           21.38,
           24.96,
           4.6,
           0.77,
           2.42,
           3.2
          ],
          [
           "14081",
           "D",
           45.93,
           21.6,
           25.87,
           4.51,
           0.73,
           2.09,
           3.28
          ],
          [
           "14072",
           "D",
           47.6,
           22.07,
           21.13,
           4.07,
           0.72,
           5.13,
           2.99
          ],
          [
           "14116",
           "D",
           47.61,
           22.44,
           19.61,
           4.06,
           0.6,
           6.28,
           2.91
          ],
          [
           "14128",
           "D",
           46.91,
           21.79,
           21.17,
           4.06,
           0.76,
           6.07,
           3.02
          ],
          [
           "14107",
           "D",
           46.88,
           21.71,
           23.6,
           4.59,
           0.75,
           3.22,
           3.12
          ],
          [
           "14050",
           "D",
           47.49,
           21.75,
           20.83,
           4.01,
           0.67,
           5.92,
           2.98
          ],
          [
           "14013",
           "D",
           48.03,
           21.96,
           20.88,
           4.02,
           0.7,
           5.11,
           2.96
          ],
          [
           "14004",
           "D",
           49.16,
           27.99,
           17.49,
           3.29,
           0.39,
           2.07,
           2.78
          ],
          [
           "14003",
           "D",
           47.17,
           22.29,
           21.3,
           4.08,
           0.74,
           5.16,
           3.02
          ],
          [
           "14037",
           "D",
           47.29,
           21.48,
           21.69,
           4.03,
           0.67,
           5.51,
           3.03
          ],
          [
           "14023",
           "D",
           47.53,
           21.11,
           21.54,
           4.02,
           0.7,
           5.8,
           3.02
          ],
          [
           "14059",
           "D",
           47.86,
           22.25,
           19.53,
           4.04,
           0.68,
           6.32,
           2.9
          ],
          [
           "14163",
           "D",
           48.09,
           22.65,
           21.59,
           5.22,
           0.93,
           2.45,
           2.95
          ],
          [
           "14150",
           "D",
           47.73,
           22.38,
           21.39,
           5.21,
           0.99,
           3.29,
           2.95
          ],
          [
           "14140",
           "D",
           48.44,
           22.73,
           21.05,
           5.22,
           0.98,
           2.56,
           2.91
          ],
          [
           "24007",
           "D",
           47.43,
           22.13,
           21.01,
           4.09,
           0.72,
           5.34,
           2.99
          ],
          [
           "24021",
           "D",
           47.68,
           21.84,
           20.45,
           4.06,
           0.71,
           5.97,
           2.95
          ],
          [
           "24011",
           "D",
           48.05,
           22.05,
           20.57,
           4.04,
           0.7,
           5.29,
           2.94
          ],
          [
           "24030",
           "D",
           48.01,
           21.31,
           21.05,
           4.01,
           0.73,
           5.62,
           2.97
          ],
          [
           "34009",
           "D",
           47.45,
           22.37,
           20.97,
           4.06,
           0.7,
           5.15,
           2.99
          ],
          [
           "24039",
           "D",
           47.8,
           22.36,
           20.39,
           4.02,
           0.7,
           5.43,
           2.95
          ],
          [
           "24044",
           "D",
           48.31,
           22.49,
           19.53,
           4.18,
           0.62,
           5.49,
           2.88
          ],
          [
           "34004",
           "D",
           46.19,
           21.19,
           25.18,
           4.66,
           0.8,
           2.78,
           3.23
          ],
          [
           "24153",
           "D",
           48.81,
           22.43,
           18.68,
           4.1,
           0.72,
           5.98,
           2.82
          ],
          [
           "24143",
           "D",
           48.89,
           22.95,
           21.93,
           5.26,
           0.85,
           0.97,
           2.93
          ],
          [
           "24134",
           "D",
           47.91,
           22.22,
           20.4,
           4.07,
           0.56,
           5.4,
           2.94
          ],
          [
           "24123",
           "D",
           46.28,
           21.51,
           25.44,
           4.58,
           0.6,
           2.19,
           3.24
          ],
          [
           "24114",
           "D",
           46.29,
           21.43,
           26,
           4.71,
           0.69,
           1.57,
           3.26
          ],
          [
           "24084",
           "D",
           47.03,
           20.84,
           25.68,
           4.52,
           0.69,
           1.93,
           3.22
          ],
          [
           "24092",
           "D",
           46.8,
           20.7,
           25.1,
           4.55,
           0.7,
           2.85,
           3.2
          ],
          [
           "24043",
           "D",
           52.19,
           26,
           16.64,
           4.17,
           0.61,
           1,
           2.58
          ]
         ],
         "hovertemplate": "brand=%{customdata[1]}<br>Componente 1=%{x}<br>Componente 2=%{y}<br>id=%{customdata[0]}<br>mois=%{customdata[2]}<br>prot=%{customdata[3]}<br>fat=%{customdata[4]}<br>ash=%{customdata[5]}<br>sodium=%{customdata[6]}<br>carb=%{customdata[7]}<br>cal=%{customdata[8]}<extra></extra>",
         "legendgroup": "D",
         "marker": {
          "color": "#ab63fa",
          "symbol": "circle"
         },
         "mode": "markers",
         "name": "D",
         "orientation": "v",
         "showlegend": true,
         "type": "scatter",
         "x": [
          2.0521176204210727,
          2.0643808682706974,
          1.5052601024033496,
          1.2474999190255118,
          1.5191347808456954,
          1.9276377564200373,
          1.3668359143874105,
          1.4356713770583085,
          0.9935142800570184,
          1.562220215776926,
          1.4293001682083122,
          1.4224687654142218,
          1.315938280240631,
          2.288754056098642,
          2.3075736927988175,
          2.309452937058967,
          1.504150719144214,
          1.4072098940383235,
          1.4209578462084849,
          1.429223173696095,
          1.4861929127252032,
          1.4217671274587866,
          1.3262503369251637,
          2.1098666161391213,
          1.3365281375260714,
          2.2764762562074154,
          1.2651524899678004,
          1.8947213872573827,
          2.0949734922270333,
          1.9542265841493964,
          1.9088341405061484,
          1.3874755547987363
         ],
         "xaxis": "x",
         "y": [
          -1.1366156460354597,
          -1.021747588272295,
          -1.4541600690097582,
          -1.6275595423852038,
          -1.3289803228911872,
          -1.2709893669434869,
          -1.458450912611662,
          -1.5187961537819459,
          -2.259356525835854,
          -1.3925546846815482,
          -1.3746552999390422,
          -1.365622945854671,
          -1.6012151106964547,
          -1.569277205677841,
          -1.4909076178246385,
          -1.617258711199571,
          -1.4466330034020312,
          -1.4938593877266746,
          -1.5488836115763502,
          -1.4502597812069349,
          -1.470736214642829,
          -1.5367283421348386,
          -1.7190247278380957,
          -1.0482217557627165,
          -1.7564151212330843,
          -1.7174893571749095,
          -1.6282724064308185,
          -1.1641959546390923,
          -1.101842125862001,
          -1.1478161247565353,
          -1.1410923786925595,
          -2.557093287891397
         ],
         "yaxis": "y"
        },
        {
         "customdata": [
          [
           "14089",
           "E",
           34.58,
           7.44,
           16.24,
           1.31,
           0.39,
           40.43,
           3.38
          ],
          [
           "14056",
           "E",
           36.84,
           7.77,
           17.07,
           1.37,
           0.4,
           36.95,
           3.33
          ],
          [
           "14099",
           "E",
           35.14,
           8.05,
           15.77,
           1.38,
           0.41,
           39.66,
           3.33
          ],
          [
           "14033",
           "E",
           39.25,
           8.67,
           4.44,
           1.54,
           0.51,
           46.1,
           2.59
          ],
          [
           "14063",
           "E",
           34.51,
           7.75,
           14.87,
           1.42,
           0.42,
           41.45,
           3.31
          ],
          [
           "14029",
           "E",
           39.59,
           8.36,
           4.39,
           1.52,
           0.48,
           46.14,
           2.58
          ],
          [
           "14039",
           "E",
           34.94,
           7.81,
           13.67,
           1.36,
           0.4,
           42.22,
           3.23
          ],
          [
           "14142",
           "E",
           39.36,
           8.1,
           16.44,
           1.45,
           0.44,
           34.65,
           3.19
          ],
          [
           "14122",
           "E",
           36.04,
           7.74,
           15.49,
           1.45,
           0.45,
           39.28,
           3.27
          ],
          [
           "14078",
           "E",
           36.54,
           7.75,
           15.67,
           1.43,
           0.44,
           38.61,
           3.26
          ],
          [
           "14126",
           "E",
           37.78,
           8.3,
           13.05,
           1.64,
           0.49,
           39.23,
           3.08
          ],
          [
           "14109",
           "E",
           35.3,
           7.92,
           13.85,
           1.46,
           0.4,
           41.47,
           3.22
          ],
          [
           "14155",
           "E",
           34.47,
           7.62,
           19.07,
           1.44,
           0.44,
           37.4,
           3.52
          ],
          [
           "14160",
           "E",
           33.24,
           7.54,
           19.56,
           1.32,
           0.43,
           38.34,
           3.6
          ],
          [
           "24110",
           "E",
           37.34,
           7.33,
           19.61,
           1.6,
           0.45,
           34.12,
           3.42
          ],
          [
           "24088",
           "E",
           37.59,
           7.93,
           13.58,
           1.43,
           0.45,
           39.47,
           3.12
          ],
          [
           "24053",
           "E",
           36.5,
           7.52,
           12.46,
           1.51,
           0.47,
           42.01,
           3.1
          ],
          [
           "24110",
           "E",
           37.34,
           7.33,
           19.61,
           1.6,
           0.45,
           34.12,
           3.42
          ],
          [
           "24035",
           "E",
           34.31,
           7.98,
           14.54,
           1.46,
           0.49,
           41.71,
           3.3
          ],
          [
           "24099",
           "E",
           36.69,
           7.8,
           14.77,
           1.46,
           0.46,
           39.28,
           3.21
          ],
          [
           "24140",
           "E",
           34.23,
           7.75,
           17.94,
           1.61,
           0.44,
           38.47,
           3.46
          ],
          [
           "34031",
           "E",
           35.54,
           7.47,
           17.67,
           1.44,
           0.47,
           37.88,
           3.4
          ],
          [
           "34030",
           "E",
           35.21,
           6.98,
           20.02,
           1.35,
           0.46,
           36.44,
           3.54
          ],
          [
           "34032",
           "E",
           33.65,
           7.11,
           19.5,
           1.48,
           0.45,
           38.26,
           3.57
          ],
          [
           "24142",
           "E",
           34.77,
           7.26,
           18.8,
           1.58,
           0.43,
           37.59,
           3.49
          ],
          [
           "34033",
           "E",
           37.32,
           7.4,
           8.18,
           1.63,
           0.53,
           45.47,
           2.85
          ],
          [
           "14126",
           "E",
           37.78,
           8.3,
           13.05,
           1.64,
           0.49,
           39.23,
           3.08
          ],
          [
           "24104",
           "E",
           34.48,
           7.54,
           13.93,
           1.45,
           0.44,
           42.6,
           3.26
          ]
         ],
         "hovertemplate": "brand=%{customdata[1]}<br>Componente 1=%{x}<br>Componente 2=%{y}<br>id=%{customdata[0]}<br>mois=%{customdata[2]}<br>prot=%{customdata[3]}<br>fat=%{customdata[4]}<br>ash=%{customdata[5]}<br>sodium=%{customdata[6]}<br>carb=%{customdata[7]}<br>cal=%{customdata[8]}<extra></extra>",
         "legendgroup": "E",
         "marker": {
          "color": "#FFA15A",
          "symbol": "circle"
         },
         "mode": "markers",
         "name": "E",
         "orientation": "v",
         "showlegend": true,
         "type": "scatter",
         "x": [
          -1.7850837427491206,
          -1.6123951913682186,
          -1.720689146063776,
          -2.487918244824997,
          -1.8109961021345606,
          -2.554073811711556,
          -1.9600365807068523,
          -1.5313255187950847,
          -1.688351277426347,
          -1.6827591825092318,
          -1.7211502466579356,
          -1.8911532624952905,
          -1.4000092468225167,
          -1.4356956663539648,
          -1.261437930626362,
          -1.8330160891849234,
          -1.9349268593046625,
          -1.261437930626362,
          -1.727949622227451,
          -1.7244848022104609,
          -1.4359717566825885,
          -1.494755675650332,
          -1.3647441232559907,
          -1.3880884832829965,
          -1.408660216160214,
          -2.2148310056392004,
          -1.7211502466579356,
          -1.8825986645853146
         ],
         "xaxis": "x",
         "y": [
          0.937302225300552,
          0.6887093890320479,
          0.8077456832801446,
          -0.30864105174854195,
          0.8537746303026732,
          -0.3423981473331747,
          0.7262496626068159,
          0.3379040912922674,
          0.7080692806963836,
          0.6546256260618181,
          0.33622006016687894,
          0.6713536122861616,
          1.1013241032599035,
          1.293648105682712,
          0.7799588670421247,
          0.4156456670286942,
          0.506140691414744,
          0.7799588670421247,
          0.8787977820841232,
          0.593471806818964,
          1.031271861456833,
          0.9154106994040114,
          1.1243343616056736,
          1.251096394885901,
          1.0477805255201924,
          0.19981725028456837,
          0.33622006016687894,
          0.8228907816169772
         ],
         "yaxis": "y"
        },
        {
         "customdata": [
          [
           "34037",
           "F",
           28.03,
           7.65,
           18.39,
           1.53,
           0.49,
           44.4,
           3.74
          ],
          [
           "14054",
           "F",
           30.09,
           7.99,
           15.16,
           1.46,
           0.48,
           45.3,
           3.5
          ],
          [
           "14118",
           "F",
           29.79,
           8.17,
           14.35,
           1.49,
           0.46,
           46.2,
           3.46
          ],
          [
           "14110",
           "F",
           30.07,
           8.02,
           20.39,
           1.45,
           0.45,
           40.07,
           3.76
          ],
          [
           "14096",
           "F",
           28.46,
           7.7,
           18.88,
           1.4,
           0.43,
           43.56,
           3.75
          ],
          [
           "14079",
           "F",
           30.29,
           8.09,
           14.82,
           1.52,
           0.51,
           45.28,
           3.47
          ],
          [
           "14065",
           "F",
           28.66,
           7.67,
           16.12,
           1.41,
           0.43,
           46.14,
           3.6
          ],
          [
           "14084",
           "F",
           30.96,
           8.31,
           13.42,
           1.49,
           0.43,
           45.82,
           3.37
          ],
          [
           "14018",
           "F",
           29.78,
           8.2,
           14.51,
           1.5,
           0.5,
           46.01,
           3.47
          ],
          [
           "14038",
           "F",
           30.28,
           7.76,
           16.04,
           1.4,
           0.42,
           44.52,
           3.53
          ],
          [
           "14152",
           "F",
           29.92,
           8.11,
           19.23,
           1.51,
           0.48,
           41.23,
           3.7
          ],
          [
           "14143",
           "F",
           29.54,
           7.79,
           15.08,
           1.41,
           0.45,
           46.18,
           3.52
          ],
          [
           "14130",
           "F",
           28.93,
           8.18,
           19.35,
           1.39,
           0.58,
           42.15,
           3.75
          ],
          [
           "14165",
           "F",
           29.89,
           7.95,
           15.08,
           1.45,
           0.47,
           45.63,
           3.5
          ],
          [
           "24035",
           "F",
           27.65,
           7.78,
           17.3,
           1.29,
           0.4,
           46.25,
           3.72
          ],
          [
           "24049",
           "F",
           28.33,
           7.82,
           17.96,
           1.41,
           0.45,
           44.48,
           3.71
          ],
          [
           "24042",
           "F",
           29.1,
           8.07,
           20.05,
           1.45,
           0.45,
           41.33,
           3.78
          ],
          [
           "24046",
           "F",
           29.59,
           8.05,
           14.07,
           1.44,
           0.45,
           46.22,
           3.49
          ],
          [
           "24055",
           "F",
           27.93,
           7.88,
           17.49,
           1.44,
           0.47,
           45.26,
           3.96
          ],
          [
           "24086",
           "F",
           30.53,
           8.02,
           14.17,
           1.49,
           0.47,
           45.79,
           3.43
          ],
          [
           "24097",
           "F",
           30.68,
           8.11,
           12.92,
           1.56,
           0.47,
           46.73,
           3.36
          ],
          [
           "24103",
           "F",
           30.15,
           8.06,
           12.23,
           1.5,
           0.47,
           48.06,
           3.35
          ],
          [
           "24109",
           "F",
           29.3,
           8.02,
           16.34,
           1.43,
           0.45,
           44.91,
           3.59
          ],
          [
           "24150",
           "F",
           29.69,
           7.63,
           15.71,
           1.63,
           0.46,
           45.34,
           3.53
          ],
          [
           "24157",
           "F",
           29,
           7.51,
           17.78,
           1.58,
           0.43,
           44.13,
           3.67
          ],
          [
           "34035",
           "F",
           28.98,
           7.7,
           16.67,
           1.48,
           0.47,
           45.17,
           3.62
          ],
          [
           "24106",
           "F",
           28.84,
           7.88,
           17.21,
           1.42,
           0.46,
           44.65,
           3.65
          ],
          [
           "34036",
           "F",
           28.34,
           7.6,
           18.51,
           1.45,
           0.46,
           44.1,
           3.73
          ],
          [
           "34034",
           "F",
           28.36,
           7.62,
           19.29,
           1.45,
           0.47,
           43.28,
           3.77
          ],
          [
           "24137",
           "F",
           30.97,
           7.6,
           14.22,
           1.78,
           0.45,
           45.43,
           3.4
          ]
         ],
         "hovertemplate": "brand=%{customdata[1]}<br>Componente 1=%{x}<br>Componente 2=%{y}<br>id=%{customdata[0]}<br>mois=%{customdata[2]}<br>prot=%{customdata[3]}<br>fat=%{customdata[4]}<br>ash=%{customdata[5]}<br>sodium=%{customdata[6]}<br>carb=%{customdata[7]}<br>cal=%{customdata[8]}<extra></extra>",
         "legendgroup": "F",
         "marker": {
          "color": "#19d3f3",
          "symbol": "circle"
         },
         "mode": "markers",
         "name": "F",
         "orientation": "v",
         "showlegend": true,
         "type": "scatter",
         "x": [
          -1.4617616300865777,
          -1.7426256710805517,
          -1.8238690506440507,
          -1.2932099220489963,
          -1.5267904164410362,
          -1.7060091920454257,
          -1.781209341664028,
          -1.9159625993851572,
          -1.7548986038929755,
          -1.7738103725577732,
          -1.3401377626429845,
          -1.8289779801952672,
          -1.265547369772172,
          -1.7736259577078328,
          -1.757980960331289,
          -1.5766827059126212,
          -1.335636441219417,
          -1.865279361208199,
          -1.48422145734423,
          -1.8270514652197822,
          -1.906815691913326,
          -2.005437403780719,
          -1.6891632467257551,
          -1.6885280805595244,
          -1.5672068162490496,
          -1.645860278817005,
          -1.6192747088007227,
          -1.5186260217534258,
          -1.431489716805729,
          -1.765299243924419
         ],
         "xaxis": "x",
         "y": [
          1.852168290882573,
          1.4143754763860088,
          1.371205999680847,
          1.6810246597618068,
          1.8074352580588229,
          1.3713591964615943,
          1.6308545750613324,
          1.1582952800005235,
          1.4015173906701226,
          1.4206834490774671,
          1.6335337598203399,
          1.478922982351521,
          1.8262091054841958,
          1.4284318438582428,
          1.8297468088877988,
          1.7766322983275835,
          1.774690155170939,
          1.4088777604361737,
          2.0395157286382077,
          1.2947025931114173,
          1.1947740441098644,
          1.2334946580276906,
          1.5578535714871413,
          1.4726480076135782,
          1.672111046689856,
          1.6396607403284125,
          1.6734981935113091,
          1.8131207125244442,
          1.8588965867892657,
          1.2144498914297805
         ],
         "yaxis": "y"
        },
        {
         "customdata": [
          [
           "14145",
           "G",
           28.15,
           8.23,
           15.45,
           1.41,
           0.45,
           46.76,
           3.59
          ],
          [
           "24015",
           "G",
           28.35,
           8.19,
           14.9,
           1.4,
           0.43,
           47.16,
           3.56
          ],
          [
           "24004",
           "G",
           30.85,
           8.03,
           13.67,
           1.41,
           0.42,
           46.04,
           3.39
          ],
          [
           "14095",
           "G",
           28.21,
           8.3,
           15,
           1.41,
           0.43,
           47.08,
           3.57
          ],
          [
           "14153",
           "G",
           28.83,
           8.26,
           20.1,
           1.37,
           0.42,
           41.44,
           3.8
          ],
          [
           "14017",
           "G",
           28.29,
           8.05,
           16.72,
           1.31,
           0.43,
           45.63,
           3.65
          ],
          [
           "14010",
           "G",
           28.68,
           8.3,
           16.07,
           1.41,
           0.45,
           45.54,
           3.6
          ],
          [
           "14055",
           "G",
           27.71,
           8.28,
           15.62,
           1.53,
           0.5,
           46.86,
           3.61
          ],
          [
           "14040",
           "G",
           28.03,
           8.27,
           16.4,
           1.37,
           0.41,
           45.93,
           3.64
          ],
          [
           "14026",
           "G",
           28.13,
           8.34,
           16.19,
           1.42,
           0.45,
           45.92,
           3.63
          ],
          [
           "14119",
           "G",
           28.09,
           8.42,
           14.06,
           1.47,
           0.45,
           47.96,
           3.52
          ],
          [
           "14131",
           "G",
           28.19,
           8.57,
           14.16,
           1.76,
           0.42,
           47.32,
           3.51
          ],
          [
           "14112",
           "G",
           28.63,
           8.42,
           15.24,
           1.43,
           0.43,
           46.28,
           3.56
          ],
          [
           "14077",
           "G",
           33.09,
           7.87,
           12.07,
           1.37,
           0.44,
           45.6,
           3.23
          ],
          [
           "14066",
           "G",
           26.33,
           8.03,
           19.98,
           1.43,
           0.45,
           44.23,
           3.89
          ],
          [
           "14085",
           "G",
           27.28,
           8.55,
           15.18,
           1.51,
           0.46,
           47.48,
           3.61
          ],
          [
           "14166",
           "G",
           27.56,
           8.25,
           14.65,
           1.45,
           0.46,
           48.09,
           3.57
          ],
          [
           "24022",
           "G",
           27.72,
           8.06,
           15.34,
           1.35,
           0.42,
           47.53,
           3.6
          ],
          [
           "24041",
           "G",
           30.63,
           8.21,
           17.33,
           1.39,
           0.42,
           42.44,
           3.59
          ],
          [
           "24047",
           "G",
           29.06,
           8.46,
           14.12,
           1.47,
           0.47,
           46.89,
           3.48
          ],
          [
           "24033",
           "G",
           28.55,
           8.25,
           17.3,
           1.48,
           0.47,
           44.42,
           3.66
          ],
          [
           "24119",
           "G",
           27.16,
           8.27,
           14.68,
           1.79,
           0.46,
           48.1,
           3.58
          ],
          [
           "24121",
           "G",
           28.33,
           8.17,
           13.64,
           1.45,
           0.47,
           48.41,
           3.49
          ],
          [
           "24156",
           "G",
           26.19,
           7.99,
           17.53,
           1.42,
           0.44,
           46.87,
           3.77
          ],
          [
           "34008",
           "G",
           26.45,
           7.89,
           17.97,
           1.3,
           0.39,
           46.39,
           3.79
          ],
          [
           "34018",
           "G",
           27.72,
           8.24,
           15.16,
           1.46,
           0.45,
           47.42,
           3.59
          ],
          [
           "24059",
           "G",
           25,
           8.49,
           16.87,
           1.45,
           0.47,
           48.19,
           3.79
          ],
          [
           "34013",
           "G",
           29.14,
           8.46,
           12.25,
           1.51,
           0.46,
           48.64,
           3.39
          ],
          [
           "24149",
           "G",
           28.64,
           8.01,
           16.02,
           1.43,
           0.45,
           45.9,
           3.6
          ]
         ],
         "hovertemplate": "brand=%{customdata[1]}<br>Componente 1=%{x}<br>Componente 2=%{y}<br>id=%{customdata[0]}<br>mois=%{customdata[2]}<br>prot=%{customdata[3]}<br>fat=%{customdata[4]}<br>ash=%{customdata[5]}<br>sodium=%{customdata[6]}<br>carb=%{customdata[7]}<br>cal=%{customdata[8]}<extra></extra>",
         "legendgroup": "G",
         "marker": {
          "color": "#FF6692",
          "symbol": "circle"
         },
         "mode": "markers",
         "name": "G",
         "orientation": "v",
         "showlegend": true,
         "type": "scatter",
         "x": [
          -1.7800657331262149,
          -1.8570658775802102,
          -1.9596164620297145,
          -1.8369841393146207,
          -1.3836038892808498,
          -1.7368441535355437,
          -1.7086869141896472,
          -1.6624978064153504,
          -1.7538511607696083,
          -1.6974772299981447,
          -1.872197545842019,
          -1.7739254390733594,
          -1.7927143815442925,
          -2.077738866215544,
          -1.3927370493910065,
          -1.7406457761159968,
          -1.8353891467786994,
          -1.8704060050293545,
          -1.611521365038665,
          -1.8272382049892293,
          -1.5514402390968414,
          -1.7051435696552386,
          -1.9125953391593216,
          -1.643396534931919,
          -1.7099576632105156,
          -1.7938164371048289,
          -1.6316296073142238,
          -1.9936624188516143,
          -1.7296031433406676
         ],
         "xaxis": "x",
         "y": [
          1.6361890054944979,
          1.579890481335254,
          1.2076373276988683,
          1.5939785401678528,
          1.7967418781082671,
          1.700485037413424,
          1.6020087639131955,
          1.7044001571940222,
          1.6800155627589075,
          1.6730892904924524,
          1.5477365778402945,
          1.4751555006866452,
          1.5423943215463751,
          0.8848430730245977,
          2.111217603379304,
          1.7008500557906963,
          1.660576918384908,
          1.6805377053408772,
          1.43133918398772,
          1.4389232963882694,
          1.6846966900107911,
          1.6664480121027627,
          1.524602399000723,
          1.9904303104648626,
          1.9820388300049483,
          1.6638781106046907,
          2.086128283128952,
          1.324420286460029,
          1.620167294797312
         ],
         "yaxis": "y"
        },
        {
         "customdata": [
          [
           "14127",
           "H",
           36.12,
           8.33,
           11.9,
           1.42,
           0.39,
           42.23,
           3.09
          ],
          [
           "24001",
           "H",
           35.1,
           8.04,
           19.07,
           1.36,
           0.41,
           36.43,
           3.5
          ],
          [
           "14144",
           "H",
           35.48,
           7.66,
           15.39,
           1.37,
           0.46,
           40.1,
           3.3
          ],
          [
           "14123",
           "H",
           35.66,
           9.04,
           6.24,
           1.5,
           0.42,
           47.56,
           2.83
          ],
          [
           "14111",
           "H",
           35.61,
           8.07,
           16.15,
           1.41,
           0.4,
           38.81,
           3.33
          ],
          [
           "14088",
           "H",
           35.68,
           8.01,
           16.36,
           1.3,
           0.39,
           38.65,
           3.34
          ],
          [
           "14028",
           "H",
           40.72,
           8.34,
           4.96,
           1.42,
           0.43,
           44.56,
           2.56
          ],
          [
           "14009",
           "H",
           35.55,
           7.32,
           16.4,
           1.76,
           0.36,
           38.97,
           3.33
          ],
          [
           "14007",
           "H",
           33.05,
           7.34,
           15.78,
           1.34,
           0.42,
           42.49,
           3.41
          ],
          [
           "14057",
           "H",
           33.75,
           8.07,
           14.93,
           1.31,
           0.4,
           41.94,
           3.34
          ],
          [
           "14032",
           "H",
           38.84,
           8.55,
           4.38,
           1.41,
           0.43,
           46.82,
           2.61
          ],
          [
           "14100",
           "H",
           33.44,
           7.45,
           18.49,
           1.39,
           0.4,
           39.23,
           3.53
          ],
          [
           "14041",
           "H",
           36.43,
           8.67,
           15.05,
           1.35,
           0.38,
           38.5,
           3.24
          ],
          [
           "14064",
           "H",
           35.84,
           7.9,
           14.09,
           1.25,
           0.42,
           40.92,
           3.22
          ],
          [
           "14076",
           "H",
           36.63,
           8.38,
           12.59,
           1.36,
           0.41,
           41.04,
           3.11
          ],
          [
           "14159",
           "H",
           35.5,
           8.11,
           13.45,
           1.34,
           0.42,
           41.59,
           3.2
          ],
          [
           "14156",
           "H",
           36.87,
           7.82,
           14.58,
           1.32,
           0.4,
           39.41,
           3.2
          ],
          [
           "24009",
           "H",
           35.5,
           7.51,
           15.63,
           1.42,
           0.42,
           39.94,
           3.3
          ],
          [
           "24016",
           "H",
           33.9,
           7.76,
           15.84,
           1.3,
           0.42,
           41.2,
           3.38
          ],
          [
           "24024",
           "H",
           35.8,
           7.82,
           14.08,
           1.43,
           0.42,
           40.87,
           3.21
          ],
          [
           "24089",
           "H",
           35.74,
           7.86,
           14.27,
           1.4,
           0.44,
           40.73,
           3.23
          ],
          [
           "24054",
           "H",
           35.74,
           7.47,
           19.14,
           1.34,
           0.4,
           36.31,
           3.47
          ],
          [
           "24037",
           "H",
           35.99,
           8.23,
           16.6,
           1.4,
           0.45,
           37.78,
           3.33
          ],
          [
           "24034",
           "H",
           35.5,
           7.9,
           13.83,
           1.41,
           0.46,
           41.36,
           3.22
          ],
          [
           "24120",
           "H",
           35.91,
           7.41,
           16.41,
           1.75,
           0.43,
           38.52,
           3.31
          ],
          [
           "34028",
           "H",
           36.01,
           7.7,
           15.6,
           1.37,
           0.43,
           39.32,
           3.28
          ],
          [
           "34007",
           "H",
           36.73,
           7.42,
           18.16,
           1.17,
           0.39,
           36.52,
           3.39
          ],
          [
           "24139",
           "H",
           35.86,
           7.47,
           14.72,
           1.67,
           0.4,
           40.28,
           3.23
          ],
          [
           "34029",
           "H",
           36.32,
           8.06,
           12.54,
           1.35,
           0.43,
           41.73,
           3.12
          ],
          [
           "24100",
           "H",
           34.61,
           7.17,
           17.88,
           1.29,
           0.4,
           39.05,
           3.46
          ],
          [
           "24132",
           "H",
           36.67,
           7.81,
           9.34,
           1.64,
           0.44,
           44.54,
           2.93
          ],
          [
           "24112",
           "H",
           35.94,
           7.97,
           13.5,
           1.45,
           0.42,
           41.14,
           3.18
          ],
          [
           "24089",
           "H",
           35.74,
           7.86,
           14.27,
           1.4,
           0.44,
           40.73,
           3.23
          ]
         ],
         "hovertemplate": "brand=%{customdata[1]}<br>Componente 1=%{x}<br>Componente 2=%{y}<br>id=%{customdata[0]}<br>mois=%{customdata[2]}<br>prot=%{customdata[3]}<br>fat=%{customdata[4]}<br>ash=%{customdata[5]}<br>sodium=%{customdata[6]}<br>carb=%{customdata[7]}<br>cal=%{customdata[8]}<extra></extra>",
         "legendgroup": "H",
         "marker": {
          "color": "#B6E880",
          "symbol": "circle"
         },
         "mode": "markers",
         "name": "H",
         "orientation": "v",
         "showlegend": true,
         "type": "scatter",
         "x": [
          -2.054578940653507,
          -1.4211044634853747,
          -1.727358562390025,
          -2.461354807841076,
          -1.6779291553581883,
          -1.7155308396704174,
          -2.5859207566367384,
          -1.6307162774093023,
          -1.814551626745798,
          -1.8585293868076194,
          -2.652531194917076,
          -1.5509333113811732,
          -1.7659528834605374,
          -1.9183298238331712,
          -1.9765523043785331,
          -1.9303684999746167,
          -1.8613955976801575,
          -1.748849661165475,
          -1.7773159962613998,
          -1.8595778310176685,
          -1.8245510168751067,
          -1.475127601440131,
          -1.5639729339571475,
          -1.837284928585166,
          -1.5409792918861571,
          -1.735774265934564,
          -1.6318337190450252,
          -1.7603018810214965,
          -1.992509904081946,
          -1.6505370259625145,
          -2.1860250517472837,
          -1.889472442900391,
          -1.8245510168751067
         ],
         "xaxis": "x",
         "y": [
          0.44151230638619754,
          0.9972330828791919,
          0.8002570242009142,
          0.15981745402704411,
          0.7626759487386042,
          0.776573966149207,
          -0.4660570264422476,
          0.7550425146752844,
          1.108157618309852,
          0.9269201138865317,
          -0.27926545164168615,
          1.1854391793257009,
          0.5610153344969037,
          0.6624052973739453,
          0.43718332159980283,
          0.6449543534154641,
          0.548483909874345,
          0.782473152313293,
          0.9891411637972631,
          0.6423200038162868,
          0.6789412586767031,
          0.9474943863081734,
          0.7525120904882564,
          0.6936400834149055,
          0.7405214602389072,
          0.7205778395758627,
          0.7985711953856406,
          0.6457155479432815,
          0.5029632352124205,
          1.0455449115282744,
          0.2625904047769107,
          0.5871801177349708,
          0.6789412586767031
         ],
         "yaxis": "y"
        },
        {
         "customdata": [
          [
           "14134",
           "I",
           54.64,
           10.36,
           12.89,
           2.21,
           0.53,
           19.9,
           2.37
          ],
          [
           "14046",
           "I",
           54.52,
           9.85,
           13.55,
           2.04,
           0.47,
           20.05,
           2.42
          ],
          [
           "14019",
           "I",
           53.84,
           10.22,
           13.05,
           2.07,
           0.48,
           20.82,
           2.42
          ],
          [
           "24107",
           "I",
           54.32,
           10.66,
           14.04,
           2.03,
           0.46,
           18.95,
           2.45
          ],
          [
           "24111",
           "I",
           52.9,
           10.19,
           14.35,
           2.02,
           0.49,
           20.54,
           2.52
          ],
          [
           "24128",
           "I",
           55,
           11.11,
           11.3,
           2.05,
           0.47,
           20.54,
           2.28
          ],
          [
           "24052",
           "I",
           56.24,
           9.06,
           11.49,
           1.93,
           0.48,
           21.28,
           2.25
          ],
          [
           "14068",
           "I",
           56.25,
           9.96,
           13.22,
           2.05,
           0.46,
           18.52,
           2.33
          ],
          [
           "14157",
           "I",
           54.43,
           9.61,
           12.18,
           2.16,
           0.51,
           21.62,
           2.35
          ],
          [
           "14158",
           "I",
           53.69,
           11,
           15.23,
           2.25,
           0.55,
           17.83,
           2.52
          ],
          [
           "14102",
           "I",
           54.69,
           10.32,
           13.77,
           2.15,
           0.48,
           19.07,
           2.41
          ],
          [
           "14103",
           "I",
           53.16,
           11.17,
           13.83,
           2.18,
           0.47,
           19.66,
           2.48
          ],
          [
           "14031",
           "I",
           55.15,
           10.92,
           12.51,
           2.2,
           0.51,
           19.22,
           2.33
          ],
          [
           "14067",
           "I",
           54.87,
           10.78,
           13.65,
           2.08,
           0.5,
           18.62,
           2.4
          ],
          [
           "14030",
           "I",
           55.43,
           10.46,
           12.37,
           2.17,
           0.51,
           19.57,
           2.31
          ],
          [
           "24023",
           "I",
           55.6,
           9.69,
           13.89,
           1.99,
           0.48,
           18.83,
           2.39
          ],
          [
           "14114",
           "I",
           54.51,
           9.93,
           12.66,
           2.07,
           0.53,
           20.83,
           2.37
          ],
          [
           "14098",
           "I",
           54.74,
           10.18,
           12.6,
           2.06,
           0.48,
           20.42,
           2.36
          ],
          [
           "14125",
           "I",
           54.17,
           10.67,
           12.18,
           2.08,
           0.49,
           20.9,
           2.36
          ],
          [
           "24048",
           "I",
           52.75,
           10.78,
           12.98,
           2.12,
           0.49,
           21.37,
           2.45
          ],
          [
           "34023",
           "I",
           54.36,
           11.43,
           13.09,
           2.24,
           0.48,
           18.88,
           2.39
          ],
          [
           "34022",
           "I",
           54.28,
           10.75,
           13.87,
           2.13,
           0.46,
           18.97,
           2.4
          ],
          [
           "34021",
           "I",
           54.54,
           10.4,
           13.22,
           2.1,
           0.47,
           19.74,
           2.4
          ],
          [
           "24141",
           "I",
           54.06,
           10.68,
           13.53,
           2.04,
           0.46,
           19.69,
           2.43
          ],
          [
           "34019",
           "I",
           57.22,
           9.66,
           10.95,
           2.04,
           0.47,
           20.13,
           2.18
          ],
          [
           "34027",
           "I",
           54.8,
           10.57,
           13.42,
           2.08,
           0.5,
           19.13,
           2.4
          ],
          [
           "34026",
           "I",
           54.17,
           10.13,
           13.25,
           2.07,
           0.46,
           20.38,
           2.41
          ],
          [
           "34025",
           "I",
           53.57,
           10.73,
           12.78,
           2.16,
           0.48,
           20.76,
           2.41
          ],
          [
           "34024",
           "I",
           55.29,
           9.84,
           12.91,
           2.08,
           0.51,
           19.88,
           2.35
          ]
         ],
         "hovertemplate": "brand=%{customdata[1]}<br>Componente 1=%{x}<br>Componente 2=%{y}<br>id=%{customdata[0]}<br>mois=%{customdata[2]}<br>prot=%{customdata[3]}<br>fat=%{customdata[4]}<br>ash=%{customdata[5]}<br>sodium=%{customdata[6]}<br>carb=%{customdata[7]}<br>cal=%{customdata[8]}<extra></extra>",
         "legendgroup": "I",
         "marker": {
          "color": "#FF97FF",
          "symbol": "circle"
         },
         "mode": "markers",
         "name": "I",
         "orientation": "v",
         "showlegend": true,
         "type": "scatter",
         "x": [
          -1.0580467492405277,
          -1.1738153790748076,
          -1.1767615248006829,
          -1.0806769711610598,
          -1.0808292461246893,
          -1.2715616838665442,
          -1.4367585745175904,
          -1.1795312780448892,
          -1.2297703271308553,
          -0.7635427536879495,
          -1.0620642199901227,
          -1.0062315892310527,
          -1.0675458320904394,
          -1.0355187960401973,
          -1.1270776635092004,
          -1.1488518510510635,
          -1.1698198348320994,
          -1.2134230532977566,
          -1.2014361688008368,
          -1.1253641558721965,
          -1.0026600324541723,
          -1.0671095685223855,
          -1.1359446255005332,
          -1.1283296933283455,
          -1.3929834230864844,
          -1.0718804005764064,
          -1.1869905105714673,
          -1.1310100630865745,
          -1.162690756196596
         ],
         "xaxis": "x",
         "y": [
          -1.8881081220780411,
          -1.8108604242883988,
          -1.7781471065682475,
          -1.8155289353301816,
          -1.584436851142464,
          -2.0747347297016563,
          -2.0637528309848627,
          -2.054141128896037,
          -1.8556118628179856,
          -1.6831107979590447,
          -1.8668230409812239,
          -1.7335600739677366,
          -2.0139603439532094,
          -1.9012713509635997,
          -2.026233602017505,
          -1.9057773258419612,
          -1.8386978008638761,
          -1.908774207300789,
          -1.8905383572231365,
          -1.6933184538351898,
          -1.9390709167354048,
          -1.8753558433043929,
          -1.8730069178918287,
          -1.8186219031227475,
          -2.26735068902272,
          -1.8847830609423932,
          -1.8187822098836395,
          -1.8069509030091955,
          -1.9267885058598977
         ],
         "yaxis": "y"
        },
        {
         "customdata": [
          [
           "34042",
           "J",
           46.16,
           10.34,
           16.14,
           2.47,
           0.67,
           24.89,
           2.86
          ],
          [
           "34045",
           "J",
           43.8,
           10.97,
           16.49,
           2.46,
           0.65,
           26.28,
           2.97
          ],
          [
           "14044",
           "J",
           47.6,
           10.43,
           15.18,
           2.32,
           0.56,
           24.47,
           2.76
          ],
          [
           "14045",
           "J",
           46.84,
           9.91,
           15.5,
           2.27,
           0.57,
           25.48,
           2.81
          ],
          [
           "14042",
           "J",
           46.1,
           9.87,
           15.97,
           2.19,
           0.53,
           25.87,
           2.87
          ],
          [
           "14043",
           "J",
           47.84,
           10.16,
           14.56,
           2.27,
           0.54,
           25.17,
           2.72
          ],
          [
           "24065",
           "J",
           45.86,
           10.5,
           17.07,
           2.33,
           0.61,
           24.24,
           2.93
          ],
          [
           "24064",
           "J",
           46.55,
           10.75,
           16.72,
           2.24,
           0.61,
           23.74,
           2.88
          ],
          [
           "24063",
           "J",
           46.13,
           10.71,
           17.24,
           2.36,
           0.61,
           23.56,
           2.92
          ],
          [
           "24062",
           "J",
           48.58,
           9.76,
           16.01,
           2.3,
           0.6,
           23.35,
           2.77
          ],
          [
           "24074",
           "J",
           44.76,
           12.91,
           15.56,
           2.34,
           0.61,
           24.43,
           2.89
          ],
          [
           "24073",
           "J",
           46.13,
           10.84,
           13.99,
           2.38,
           0.64,
           26.66,
           2.76
          ],
          [
           "24072",
           "J",
           47.43,
           10.45,
           16.5,
           2.35,
           0.61,
           23.27,
           2.83
          ],
          [
           "24071",
           "J",
           46.22,
           11.26,
           15.93,
           2.47,
           0.63,
           24.12,
           2.85
          ],
          [
           "24068",
           "J",
           45.2,
           10.67,
           16.38,
           2.44,
           0.6,
           25.31,
           2.91
          ],
          [
           "24078",
           "J",
           47.05,
           10.46,
           15.16,
           2.34,
           0.64,
           24.99,
           2.78
          ],
          [
           "24056",
           "J",
           43.45,
           10.81,
           19.49,
           2.51,
           0.68,
           23.74,
           3.14
          ],
          [
           "34038",
           "J",
           47.74,
           10.23,
           16.31,
           2.5,
           0.67,
           23.22,
           2.81
          ],
          [
           "34041",
           "J",
           45.17,
           10.42,
           17.2,
           2.34,
           0.61,
           24.87,
           2.96
          ],
          [
           "34040",
           "J",
           44.77,
           10.52,
           16.12,
           2.44,
           0.66,
           26.15,
           2.92
          ],
          [
           "24067",
           "J",
           47.91,
           10.75,
           16,
           2.4,
           0.64,
           22.94,
           2.79
          ],
          [
           "24066",
           "J",
           45.69,
           10.23,
           16.5,
           2.3,
           0.59,
           25.28,
           2.91
          ],
          [
           "24076",
           "J",
           46.12,
           10.3,
           16.38,
           2.35,
           0.61,
           24.85,
           2.88
          ],
          [
           "24077",
           "J",
           47.35,
           10.31,
           15.45,
           2.34,
           0.62,
           24.55,
           2.78
          ],
          [
           "24070",
           "J",
           45.21,
           9.39,
           16.23,
           2.14,
           0.55,
           27.03,
           2.92
          ],
          [
           "24075",
           "J",
           46.34,
           10,
           17.73,
           2.32,
           0.59,
           23.61,
           2.94
          ],
          [
           "34043",
           "J",
           44.07,
           10.96,
           18.39,
           2.56,
           0.66,
           24.02,
           3.05
          ],
          [
           "34044",
           "J",
           44.91,
           11.07,
           17,
           2.49,
           0.66,
           25.36,
           2.91
          ],
          [
           "24069",
           "J",
           43.15,
           11.79,
           18.46,
           2.43,
           0.67,
           24.17,
           3.1
          ],
          [
           "34039",
           "J",
           44.55,
           11.01,
           16.03,
           2.43,
           0.64,
           25.98,
           2.92
          ],
          [
           "14044",
           "J",
           47.6,
           10.43,
           15.18,
           2.32,
           0.56,
           24.47,
           2.76
          ],
          [
           "14045",
           "J",
           46.84,
           9.91,
           15.5,
           2.27,
           0.57,
           25.48,
           2.81
          ]
         ],
         "hovertemplate": "brand=%{customdata[1]}<br>Componente 1=%{x}<br>Componente 2=%{y}<br>id=%{customdata[0]}<br>mois=%{customdata[2]}<br>prot=%{customdata[3]}<br>fat=%{customdata[4]}<br>ash=%{customdata[5]}<br>sodium=%{customdata[6]}<br>carb=%{customdata[7]}<br>cal=%{customdata[8]}<extra></extra>",
         "legendgroup": "J",
         "marker": {
          "color": "#FECB52",
          "symbol": "circle"
         },
         "mode": "markers",
         "name": "J",
         "orientation": "v",
         "showlegend": true,
         "type": "scatter",
         "x": [
          -0.6172551040640234,
          -0.5953316422386601,
          -0.8650782697399588,
          -0.8958684139969996,
          -0.9422456376082383,
          -0.9847803928793231,
          -0.6433278819960957,
          -0.682801233300383,
          -0.5973686137009583,
          -0.7864810799063336,
          -0.6005204691067301,
          -0.8452860218051149,
          -0.673189675344772,
          -0.6059782250573339,
          -0.676170053976969,
          -0.7706965344249689,
          -0.2765268053097468,
          -0.5737038585117632,
          -0.645546936669108,
          -0.6460681997659454,
          -0.6312105619438272,
          -0.7560010194701228,
          -0.714454418391312,
          -0.7762309066317662,
          -0.9663071203047225,
          -0.6451223263800063,
          -0.3654195538963408,
          -0.5355097377815894,
          -0.3396361600078823,
          -0.6464326956565782,
          -0.8650782697399588,
          -0.8958684139969996
         ],
         "xaxis": "x",
         "y": [
          -0.6520289830907936,
          -0.39831153621028126,
          -0.9217904251426896,
          -0.7678784729621979,
          -0.6580239347898721,
          -0.9732244307958966,
          -0.582520548110141,
          -0.6944813243924656,
          -0.628573023766498,
          -0.9237053498139475,
          -0.6849026763182116,
          -0.795939522352131,
          -0.8094438828946997,
          -0.7447884242987179,
          -0.5786062400144775,
          -0.8178702952654782,
          -0.1674389214957773,
          -0.8252319653426963,
          -0.49246838641615115,
          -0.4939412567006964,
          -0.8972964658493915,
          -0.5830030840335054,
          -0.6460318594603395,
          -0.8424884894241869,
          -0.49067329763828493,
          -0.5879617717455741,
          -0.33616233862035505,
          -0.5308427233236178,
          -0.243230177966777,
          -0.5154336036793862,
          -0.9217904251426896,
          -0.7678784729621979
         ],
         "yaxis": "y"
        },
        {
         "line": {
          "color": "rgb(255,51,0)"
         },
         "name": "mois",
         "type": "scatter",
         "x": [
          0,
          0.13216850844681888
         ],
         "y": [
          0,
          -0.9508488499283347
         ]
        },
        {
         "line": {
          "color": "rgb(0,0,0)"
         },
         "name": "prot",
         "type": "scatter",
         "x": [
          0,
          0.7736168879891882
         ],
         "y": [
          0,
          -0.4081809792187271
         ]
        },
        {
         "line": {
          "color": "rgb(0, 127, 254)"
         },
         "name": "fat",
         "type": "scatter",
         "x": [
          0,
          0.9123124686550161
         ],
         "y": [
          0,
          0.35471533328120136
         ]
        },
        {
         "line": {
          "color": "rgb(254,246,0)"
         },
         "name": "ash",
         "type": "scatter",
         "x": [
          0,
          0.9638315441796124
         ],
         "y": [
          0,
          -0.1679757505991908
         ]
        },
        {
         "line": {
          "color": "rgb( 0, 254, 62 )"
         },
         "name": "sodium",
         "type": "scatter",
         "x": [
          0,
          0.8899205497108584
         ],
         "y": [
          0,
          0.3051999298857184
         ]
        },
        {
         "line": {
          "color": "rgb(254, 0, 142)"
         },
         "name": "carb",
         "type": "scatter",
         "x": [
          0,
          -0.8678837228879509
         ],
         "y": [
          0,
          0.4847685356060525
         ]
        },
        {
         "line": {
          "color": "rgb(254, 142, 0)"
         },
         "name": "cal",
         "type": "scatter",
         "x": [
          0,
          0.4993638603900244
         ],
         "y": [
          0,
          0.8588048613536262
         ]
        }
       ],
       "layout": {
        "height": 600,
        "legend": {
         "title": {
          "text": "brand"
         },
         "tracegroupgap": 0
        },
        "margin": {
         "t": 60
        },
        "paper_bgcolor": "rgba(0, 0, 0, 0)",
        "shapes": [
         {
          "line": {
           "color": "LightSeaGreen"
          },
          "type": "circle",
          "x0": 1,
          "x1": -1,
          "xref": "x",
          "y0": 1,
          "y1": -1,
          "yref": "y"
         }
        ],
        "showlegend": true,
        "template": {
         "data": {
          "bar": [
           {
            "error_x": {
             "color": "#2a3f5f"
            },
            "error_y": {
             "color": "#2a3f5f"
            },
            "marker": {
             "line": {
              "color": "#E5ECF6",
              "width": 0.5
             }
            },
            "type": "bar"
           }
          ],
          "barpolar": [
           {
            "marker": {
             "line": {
              "color": "#E5ECF6",
              "width": 0.5
             }
            },
            "type": "barpolar"
           }
          ],
          "carpet": [
           {
            "aaxis": {
             "endlinecolor": "#2a3f5f",
             "gridcolor": "white",
             "linecolor": "white",
             "minorgridcolor": "white",
             "startlinecolor": "#2a3f5f"
            },
            "baxis": {
             "endlinecolor": "#2a3f5f",
             "gridcolor": "white",
             "linecolor": "white",
             "minorgridcolor": "white",
             "startlinecolor": "#2a3f5f"
            },
            "type": "carpet"
           }
          ],
          "choropleth": [
           {
            "colorbar": {
             "outlinewidth": 0,
             "ticks": ""
            },
            "type": "choropleth"
           }
          ],
          "contour": [
           {
            "colorbar": {
             "outlinewidth": 0,
             "ticks": ""
            },
            "colorscale": [
             [
              0,
              "#0d0887"
             ],
             [
              0.1111111111111111,
              "#46039f"
             ],
             [
              0.2222222222222222,
              "#7201a8"
             ],
             [
              0.3333333333333333,
              "#9c179e"
             ],
             [
              0.4444444444444444,
              "#bd3786"
             ],
             [
              0.5555555555555556,
              "#d8576b"
             ],
             [
              0.6666666666666666,
              "#ed7953"
             ],
             [
              0.7777777777777778,
              "#fb9f3a"
             ],
             [
              0.8888888888888888,
              "#fdca26"
             ],
             [
              1,
              "#f0f921"
             ]
            ],
            "type": "contour"
           }
          ],
          "contourcarpet": [
           {
            "colorbar": {
             "outlinewidth": 0,
             "ticks": ""
            },
            "type": "contourcarpet"
           }
          ],
          "heatmap": [
           {
            "colorbar": {
             "outlinewidth": 0,
             "ticks": ""
            },
            "colorscale": [
             [
              0,
              "#0d0887"
             ],
             [
              0.1111111111111111,
              "#46039f"
             ],
             [
              0.2222222222222222,
              "#7201a8"
             ],
             [
              0.3333333333333333,
              "#9c179e"
             ],
             [
              0.4444444444444444,
              "#bd3786"
             ],
             [
              0.5555555555555556,
              "#d8576b"
             ],
             [
              0.6666666666666666,
              "#ed7953"
             ],
             [
              0.7777777777777778,
              "#fb9f3a"
             ],
             [
              0.8888888888888888,
              "#fdca26"
             ],
             [
              1,
              "#f0f921"
             ]
            ],
            "type": "heatmap"
           }
          ],
          "heatmapgl": [
           {
            "colorbar": {
             "outlinewidth": 0,
             "ticks": ""
            },
            "colorscale": [
             [
              0,
              "#0d0887"
             ],
             [
              0.1111111111111111,
              "#46039f"
             ],
             [
              0.2222222222222222,
              "#7201a8"
             ],
             [
              0.3333333333333333,
              "#9c179e"
             ],
             [
              0.4444444444444444,
              "#bd3786"
             ],
             [
              0.5555555555555556,
              "#d8576b"
             ],
             [
              0.6666666666666666,
              "#ed7953"
             ],
             [
              0.7777777777777778,
              "#fb9f3a"
             ],
             [
              0.8888888888888888,
              "#fdca26"
             ],
             [
              1,
              "#f0f921"
             ]
            ],
            "type": "heatmapgl"
           }
          ],
          "histogram": [
           {
            "marker": {
             "colorbar": {
              "outlinewidth": 0,
              "ticks": ""
             }
            },
            "type": "histogram"
           }
          ],
          "histogram2d": [
           {
            "colorbar": {
             "outlinewidth": 0,
             "ticks": ""
            },
            "colorscale": [
             [
              0,
              "#0d0887"
             ],
             [
              0.1111111111111111,
              "#46039f"
             ],
             [
              0.2222222222222222,
              "#7201a8"
             ],
             [
              0.3333333333333333,
              "#9c179e"
             ],
             [
              0.4444444444444444,
              "#bd3786"
             ],
             [
              0.5555555555555556,
              "#d8576b"
             ],
             [
              0.6666666666666666,
              "#ed7953"
             ],
             [
              0.7777777777777778,
              "#fb9f3a"
             ],
             [
              0.8888888888888888,
              "#fdca26"
             ],
             [
              1,
              "#f0f921"
             ]
            ],
            "type": "histogram2d"
           }
          ],
          "histogram2dcontour": [
           {
            "colorbar": {
             "outlinewidth": 0,
             "ticks": ""
            },
            "colorscale": [
             [
              0,
              "#0d0887"
             ],
             [
              0.1111111111111111,
              "#46039f"
             ],
             [
              0.2222222222222222,
              "#7201a8"
             ],
             [
              0.3333333333333333,
              "#9c179e"
             ],
             [
              0.4444444444444444,
              "#bd3786"
             ],
             [
              0.5555555555555556,
              "#d8576b"
             ],
             [
              0.6666666666666666,
              "#ed7953"
             ],
             [
              0.7777777777777778,
              "#fb9f3a"
             ],
             [
              0.8888888888888888,
              "#fdca26"
             ],
             [
              1,
              "#f0f921"
             ]
            ],
            "type": "histogram2dcontour"
           }
          ],
          "mesh3d": [
           {
            "colorbar": {
             "outlinewidth": 0,
             "ticks": ""
            },
            "type": "mesh3d"
           }
          ],
          "parcoords": [
           {
            "line": {
             "colorbar": {
              "outlinewidth": 0,
              "ticks": ""
             }
            },
            "type": "parcoords"
           }
          ],
          "pie": [
           {
            "automargin": true,
            "type": "pie"
           }
          ],
          "scatter": [
           {
            "marker": {
             "colorbar": {
              "outlinewidth": 0,
              "ticks": ""
             }
            },
            "type": "scatter"
           }
          ],
          "scatter3d": [
           {
            "line": {
             "colorbar": {
              "outlinewidth": 0,
              "ticks": ""
             }
            },
            "marker": {
             "colorbar": {
              "outlinewidth": 0,
              "ticks": ""
             }
            },
            "type": "scatter3d"
           }
          ],
          "scattercarpet": [
           {
            "marker": {
             "colorbar": {
              "outlinewidth": 0,
              "ticks": ""
             }
            },
            "type": "scattercarpet"
           }
          ],
          "scattergeo": [
           {
            "marker": {
             "colorbar": {
              "outlinewidth": 0,
              "ticks": ""
             }
            },
            "type": "scattergeo"
           }
          ],
          "scattergl": [
           {
            "marker": {
             "colorbar": {
              "outlinewidth": 0,
              "ticks": ""
             }
            },
            "type": "scattergl"
           }
          ],
          "scattermapbox": [
           {
            "marker": {
             "colorbar": {
              "outlinewidth": 0,
              "ticks": ""
             }
            },
            "type": "scattermapbox"
           }
          ],
          "scatterpolar": [
           {
            "marker": {
             "colorbar": {
              "outlinewidth": 0,
              "ticks": ""
             }
            },
            "type": "scatterpolar"
           }
          ],
          "scatterpolargl": [
           {
            "marker": {
             "colorbar": {
              "outlinewidth": 0,
              "ticks": ""
             }
            },
            "type": "scatterpolargl"
           }
          ],
          "scatterternary": [
           {
            "marker": {
             "colorbar": {
              "outlinewidth": 0,
              "ticks": ""
             }
            },
            "type": "scatterternary"
           }
          ],
          "surface": [
           {
            "colorbar": {
             "outlinewidth": 0,
             "ticks": ""
            },
            "colorscale": [
             [
              0,
              "#0d0887"
             ],
             [
              0.1111111111111111,
              "#46039f"
             ],
             [
              0.2222222222222222,
              "#7201a8"
             ],
             [
              0.3333333333333333,
              "#9c179e"
             ],
             [
              0.4444444444444444,
              "#bd3786"
             ],
             [
              0.5555555555555556,
              "#d8576b"
             ],
             [
              0.6666666666666666,
              "#ed7953"
             ],
             [
              0.7777777777777778,
              "#fb9f3a"
             ],
             [
              0.8888888888888888,
              "#fdca26"
             ],
             [
              1,
              "#f0f921"
             ]
            ],
            "type": "surface"
           }
          ],
          "table": [
           {
            "cells": {
             "fill": {
              "color": "#EBF0F8"
             },
             "line": {
              "color": "white"
             }
            },
            "header": {
             "fill": {
              "color": "#C8D4E3"
             },
             "line": {
              "color": "white"
             }
            },
            "type": "table"
           }
          ]
         },
         "layout": {
          "annotationdefaults": {
           "arrowcolor": "#2a3f5f",
           "arrowhead": 0,
           "arrowwidth": 1
          },
          "coloraxis": {
           "colorbar": {
            "outlinewidth": 0,
            "ticks": ""
           }
          },
          "colorscale": {
           "diverging": [
            [
             0,
             "#8e0152"
            ],
            [
             0.1,
             "#c51b7d"
            ],
            [
             0.2,
             "#de77ae"
            ],
            [
             0.3,
             "#f1b6da"
            ],
            [
             0.4,
             "#fde0ef"
            ],
            [
             0.5,
             "#f7f7f7"
            ],
            [
             0.6,
             "#e6f5d0"
            ],
            [
             0.7,
             "#b8e186"
            ],
            [
             0.8,
             "#7fbc41"
            ],
            [
             0.9,
             "#4d9221"
            ],
            [
             1,
             "#276419"
            ]
           ],
           "sequential": [
            [
             0,
             "#0d0887"
            ],
            [
             0.1111111111111111,
             "#46039f"
            ],
            [
             0.2222222222222222,
             "#7201a8"
            ],
            [
             0.3333333333333333,
             "#9c179e"
            ],
            [
             0.4444444444444444,
             "#bd3786"
            ],
            [
             0.5555555555555556,
             "#d8576b"
            ],
            [
             0.6666666666666666,
             "#ed7953"
            ],
            [
             0.7777777777777778,
             "#fb9f3a"
            ],
            [
             0.8888888888888888,
             "#fdca26"
            ],
            [
             1,
             "#f0f921"
            ]
           ],
           "sequentialminus": [
            [
             0,
             "#0d0887"
            ],
            [
             0.1111111111111111,
             "#46039f"
            ],
            [
             0.2222222222222222,
             "#7201a8"
            ],
            [
             0.3333333333333333,
             "#9c179e"
            ],
            [
             0.4444444444444444,
             "#bd3786"
            ],
            [
             0.5555555555555556,
             "#d8576b"
            ],
            [
             0.6666666666666666,
             "#ed7953"
            ],
            [
             0.7777777777777778,
             "#fb9f3a"
            ],
            [
             0.8888888888888888,
             "#fdca26"
            ],
            [
             1,
             "#f0f921"
            ]
           ]
          },
          "colorway": [
           "#636efa",
           "#EF553B",
           "#00cc96",
           "#ab63fa",
           "#FFA15A",
           "#19d3f3",
           "#FF6692",
           "#B6E880",
           "#FF97FF",
           "#FECB52"
          ],
          "font": {
           "color": "#2a3f5f"
          },
          "geo": {
           "bgcolor": "white",
           "lakecolor": "white",
           "landcolor": "#E5ECF6",
           "showlakes": true,
           "showland": true,
           "subunitcolor": "white"
          },
          "hoverlabel": {
           "align": "left"
          },
          "hovermode": "closest",
          "mapbox": {
           "style": "light"
          },
          "paper_bgcolor": "white",
          "plot_bgcolor": "#E5ECF6",
          "polar": {
           "angularaxis": {
            "gridcolor": "white",
            "linecolor": "white",
            "ticks": ""
           },
           "bgcolor": "#E5ECF6",
           "radialaxis": {
            "gridcolor": "white",
            "linecolor": "white",
            "ticks": ""
           }
          },
          "scene": {
           "xaxis": {
            "backgroundcolor": "#E5ECF6",
            "gridcolor": "white",
            "gridwidth": 2,
            "linecolor": "white",
            "showbackground": true,
            "ticks": "",
            "zerolinecolor": "white"
           },
           "yaxis": {
            "backgroundcolor": "#E5ECF6",
            "gridcolor": "white",
            "gridwidth": 2,
            "linecolor": "white",
            "showbackground": true,
            "ticks": "",
            "zerolinecolor": "white"
           },
           "zaxis": {
            "backgroundcolor": "#E5ECF6",
            "gridcolor": "white",
            "gridwidth": 2,
            "linecolor": "white",
            "showbackground": true,
            "ticks": "",
            "zerolinecolor": "white"
           }
          },
          "shapedefaults": {
           "line": {
            "color": "#2a3f5f"
           }
          },
          "ternary": {
           "aaxis": {
            "gridcolor": "white",
            "linecolor": "white",
            "ticks": ""
           },
           "baxis": {
            "gridcolor": "white",
            "linecolor": "white",
            "ticks": ""
           },
           "bgcolor": "#E5ECF6",
           "caxis": {
            "gridcolor": "white",
            "linecolor": "white",
            "ticks": ""
           }
          },
          "title": {
           "x": 0.05
          },
          "xaxis": {
           "automargin": true,
           "gridcolor": "white",
           "linecolor": "white",
           "ticks": "",
           "title": {
            "standoff": 15
           },
           "zerolinecolor": "white",
           "zerolinewidth": 2
          },
          "yaxis": {
           "automargin": true,
           "gridcolor": "white",
           "linecolor": "white",
           "ticks": "",
           "title": {
            "standoff": 15
           },
           "zerolinecolor": "white",
           "zerolinewidth": 2
          }
         }
        },
        "width": 800,
        "xaxis": {
         "anchor": "y",
         "domain": [
          0,
          1
         ],
         "title": {
          "text": "Componente 1"
         }
        },
        "yaxis": {
         "anchor": "x",
         "domain": [
          0,
          1
         ],
         "title": {
          "text": "Componente 2"
         }
        }
       }
      },
      "text/html": [
       "<div>\n",
       "        \n",
       "        \n",
       "            <div id=\"3834b7d3-8bf3-4149-8c91-91e4861399e3\" class=\"plotly-graph-div\" style=\"height:600px; width:800px;\"></div>\n",
       "            <script type=\"text/javascript\">\n",
       "                require([\"plotly\"], function(Plotly) {\n",
       "                    window.PLOTLYENV=window.PLOTLYENV || {};\n",
       "                    \n",
       "                if (document.getElementById(\"3834b7d3-8bf3-4149-8c91-91e4861399e3\")) {\n",
       "                    Plotly.newPlot(\n",
       "                        '3834b7d3-8bf3-4149-8c91-91e4861399e3',\n",
       "                        [{\"customdata\": [[\"14069\", \"A\", 27.82, 21.43, 44.87, 5.11, 1.77, 0.77, 4.93], [\"14053\", \"A\", 28.49, 21.26, 43.89, 5.34, 1.79, 1.02, 4.84], [\"14025\", \"A\", 28.35, 19.99, 45.78, 5.08, 1.63, 0.8, 4.95], [\"14016\", \"A\", 30.55, 20.15, 43.13, 4.79, 1.61, 1.38, 4.74], [\"14005\", \"A\", 30.49, 21.28, 41.65, 4.82, 1.64, 1.76, 4.67], [\"14075\", \"A\", 31.14, 20.23, 42.31, 4.92, 1.65, 1.4, 4.67], [\"14082\", \"A\", 31.21, 20.97, 41.34, 4.71, 1.58, 1.77, 4.63], [\"14097\", \"A\", 28.76, 21.41, 41.6, 5.28, 1.75, 2.95, 4.72], [\"14117\", \"A\", 28.22, 20.48, 45.1, 5.02, 1.71, 1.18, 4.93], [\"14133\", \"A\", 27.72, 21.19, 45.29, 5.16, 1.66, 0.64, 4.95], [\"14101\", \"A\", 27.35, 21.2, 45.59, 4.94, 1.65, 0.92, 4.98], [\"14108\", \"A\", 26.98, 21.2, 45.03, 5.15, 1.67, 1.64, 4.97], [\"14164\", \"A\", 28.7, 20.0, 45.12, 4.93, 1.56, 1.25, 4.91], [\"14154\", \"A\", 30.91, 19.65, 42.45, 4.81, 1.65, 2.81, 4.72], [\"24005\", \"A\", 30.91, 20.77, 42.03, 4.9, 1.61, 1.39, 4.67], [\"24026\", \"A\", 30.83, 17.88, 44.33, 5.26, 1.76, 1.7, 4.77], [\"24094\", \"A\", 32.73, 20.06, 39.74, 5.24, 1.69, 2.23, 4.47], [\"24108\", \"A\", 34.58, 17.53, 40.87, 5.05, 1.61, 1.97, 4.46], [\"24102\", \"A\", 31.8, 20.35, 40.44, 5.43, 1.61, 1.98, 4.53], [\"24082\", \"A\", 31.02, 19.05, 42.29, 5.27, 1.71, 2.37, 4.66], [\"34017\", \"A\", 27.02, 19.56, 47.2, 4.95, 1.65, 1.27, 5.08], [\"34020\", \"A\", 27.78, 20.01, 45.59, 4.97, 1.7, 1.65, 4.97], [\"24136\", \"A\", 30.88, 20.58, 42.26, 4.96, 1.63, 1.32, 4.68], [\"24122\", \"A\", 32.2, 19.25, 43.42, 4.62, 1.5, 0.51, 4.7], [\"24115\", \"A\", 33.19, 18.05, 41.88, 5.22, 1.7, 1.66, 4.56], [\"34012\", \"A\", 30.43, 19.78, 44.2, 4.8, 1.61, 0.79, 4.8], [\"34006\", \"A\", 28.93, 19.99, 45.2, 4.78, 1.62, 1.1, 4.91], [\"24146\", \"A\", 30.41, 18.71, 43.99, 4.86, 1.62, 2.03, 4.79], [\"24138\", \"A\", 29.62, 21.1, 43.37, 5.05, 1.69, 0.86, 4.78]], \"hovertemplate\": \"brand=%{customdata[1]}<br>Componente 1=%{x}<br>Componente 2=%{y}<br>id=%{customdata[0]}<br>mois=%{customdata[2]}<br>prot=%{customdata[3]}<br>fat=%{customdata[4]}<br>ash=%{customdata[5]}<br>sodium=%{customdata[6]}<br>carb=%{customdata[7]}<br>cal=%{customdata[8]}<extra></extra>\", \"legendgroup\": \"A\", \"marker\": {\"color\": \"#636efa\", \"symbol\": \"circle\"}, \"mode\": \"markers\", \"name\": \"A\", \"orientation\": \"v\", \"showlegend\": true, \"type\": \"scatter\", \"x\": [5.010342835150375, 5.0237553822520775, 4.805439298547558, 4.4695433997286225, 4.471892555296011, 4.5047997792509555, 4.315357808764861, 4.757851667733031, 4.854619335014716, 4.916406310605949, 4.840995818199379, 4.891368713261431, 4.610754070558892, 4.421532542062542, 4.466776778902417, 4.753434669967486, 4.445130826432417, 4.202017924892798, 4.496871917530368, 4.607561667928181, 4.857268335478805, 4.8226524920355915, 4.518341419751811, 4.2539563893888275, 4.489750637486471, 4.541598296551267, 4.634117747795121, 4.468801830361202, 4.75034835396493], \"xaxis\": \"x\", \"y\": [2.679215322870461, 2.5292945548558103, 2.6737003252531015, 2.2850292281532365, 2.159152401842946, 2.16797296277134, 2.057043278390636, 2.353085867875091, 2.6812190403304665, 2.6585131449557418, 2.7366083875375256, 2.7425017324662044, 2.5792536528475587, 2.291698533083844, 2.1328849245646326, 2.4671364263505873, 1.8283651227732383, 1.8014833119296376, 1.8860501499758389, 2.235072601855861, 2.9663435557005333, 2.7867123223275967, 2.162431031933392, 2.124442781267487, 2.0179968034215072, 2.38008587027329, 2.6098036686258643, 2.4339357284041294, 2.3609690681718343], \"yaxis\": \"y\"}, {\"customdata\": [[\"14015\", \"B\", 49.57, 13.7, 29.07, 3.62, 1.1, 4.04, 3.33], [\"14006\", \"B\", 52.68, 14.38, 25.72, 3.26, 0.93, 3.96, 3.05], [\"14024\", \"B\", 48.53, 13.14, 30.38, 3.55, 0.99, 4.4, 3.44], [\"14052\", \"B\", 50.19, 13.78, 28.39, 3.56, 1.0, 4.08, 3.27], [\"14062\", \"B\", 50.67, 13.21, 27.66, 3.64, 1.0, 4.82, 3.21], [\"14047\", \"B\", 49.99, 13.35, 29.2, 3.52, 1.05, 3.94, 3.32], [\"14074\", \"B\", 50.72, 12.93, 29.88, 3.6, 1.03, 2.87, 3.32], [\"14083\", \"B\", 50.81, 12.56, 29.95, 2.99, 0.81, 3.69, 3.35], [\"14094\", \"B\", 54.08, 13.28, 25.25, 3.1, 0.8, 4.29, 2.98], [\"14124\", \"B\", 51.9, 14.27, 24.92, 3.85, 1.06, 5.06, 3.02], [\"24019\", \"B\", 50.33, 13.96, 29.25, 3.42, 0.96, 3.04, 3.31], [\"24012\", \"B\", 49.69, 13.63, 29.59, 3.41, 0.98, 3.68, 3.36], [\"14132\", \"B\", 51.12, 14.02, 27.37, 3.71, 1.11, 3.78, 3.18], [\"14146\", \"B\", 49.77, 13.24, 28.91, 3.59, 1.06, 4.49, 3.31], [\"14149\", \"B\", 54.96, 14.26, 22.99, 3.19, 0.9, 4.6, 2.82], [\"14161\", \"B\", 55.11, 14.87, 21.9, 3.29, 0.86, 4.83, 2.76], [\"14113\", \"B\", 54.12, 14.06, 24.95, 3.14, 0.82, 3.73, 2.96], [\"24008\", \"B\", 49.34, 13.79, 29.57, 3.52, 0.95, 3.78, 3.36], [\"24029\", \"B\", 50.65, 13.14, 28.79, 3.73, 1.09, 3.69, 3.26], [\"24045\", \"B\", 52.46, 14.18, 24.6, 3.57, 1.12, 5.19, 2.99], [\"24040\", \"B\", 49.96, 13.4, 28.84, 3.48, 0.98, 4.32, 3.3], [\"24093\", \"B\", 49.57, 13.17, 29.39, 3.59, 1.06, 4.28, 3.35], [\"24083\", \"B\", 49.34, 13.06, 29.46, 3.51, 1.04, 4.63, 3.36], [\"24049\", \"B\", 50.87, 13.85, 27.64, 3.71, 1.1, 3.93, 3.2], [\"24101\", \"B\", 51.03, 13.9, 27.56, 3.73, 1.08, 3.78, 3.19], [\"34011\", \"B\", 53.98, 14.05, 24.73, 3.32, 0.92, 3.92, 2.94], [\"24125\", \"B\", 52.23, 13.64, 27.04, 3.57, 0.98, 3.52, 3.12], [\"24145\", \"B\", 51.74, 13.95, 27.75, 3.6, 1.04, 2.96, 3.17], [\"24151\", \"B\", 51.52, 13.72, 28.28, 3.62, 1.05, 2.86, 3.21], [\"34005\", \"B\", 51.86, 13.13, 28.82, 2.94, 0.8, 3.25, 3.25], [\"24118\", \"B\", 51.75, 13.18, 28.38, 3.04, 0.86, 3.65, 3.23]], \"hovertemplate\": \"brand=%{customdata[1]}<br>Componente 1=%{x}<br>Componente 2=%{y}<br>id=%{customdata[0]}<br>mois=%{customdata[2]}<br>prot=%{customdata[3]}<br>fat=%{customdata[4]}<br>ash=%{customdata[5]}<br>sodium=%{customdata[6]}<br>carb=%{customdata[7]}<br>cal=%{customdata[8]}<extra></extra>\", \"legendgroup\": \"B\", \"marker\": {\"color\": \"#EF553B\", \"symbol\": \"circle\"}, \"mode\": \"markers\", \"name\": \"B\", \"orientation\": \"v\", \"showlegend\": true, \"type\": \"scatter\", \"x\": [1.8611845546661552, 1.312344078430946, 1.7656737707307308, 1.6713931861482973, 1.5932665152072096, 1.7521411710716797, 1.797698435050106, 1.286140998467125, 0.9853615191646081, 1.5957021658155357, 1.6669213610647686, 1.684554698445019, 1.79800953024257, 1.7506161532775657, 1.017292626547284, 0.9609073801109274, 1.0604493755906677, 1.6938538736756907, 1.83131551981949, 1.5297949855337345, 1.6226917764436306, 1.7898146824811458, 1.727595251766546, 1.7923226305284028, 1.775837226378229, 1.220407386660391, 1.5438146687702, 1.709000860835321, 1.7577545651675368, 1.2110393977225957, 1.281897322138319], \"xaxis\": \"x\", \"y\": [-0.48587897492463245, -1.1262402751076532, -0.30620877204600755, -0.6514482747227262, -0.7270713395566742, -0.524913586527096, -0.5745375918835446, -0.5875865613508434, -1.2997702489641212, -1.0798454414010794, -0.6371304734760931, -0.5032106411636036, -0.7904533007042756, -0.5134422171938438, -1.5525019452785072, -1.697989245400539, -1.3638958694152086, -0.5116089219587179, -0.6263232598842781, -1.0892751592892178, -0.5807019342288541, -0.4518403697054461, -0.4187469470852772, -0.7442342147041955, -0.7834625514666006, -1.336180251428781, -0.9745303670798279, -0.8707259365994194, -0.7941204241515014, -0.8108262486159487, -0.804435357653156], \"yaxis\": \"y\"}, {\"customdata\": [[\"14058\", \"C\", 48.4, 26.05, 21.4, 3.44, 0.5, 0.71, 3.0], [\"14022\", \"C\", 48.69, 28.48, 17.37, 3.53, 0.43, 1.93, 2.78], [\"14036\", \"C\", 48.88, 25.23, 20.89, 3.22, 0.47, 1.78, 2.96], [\"14093\", \"C\", 48.97, 25.63, 19.28, 3.48, 0.55, 2.64, 2.87], [\"14080\", \"C\", 48.84, 23.98, 23.37, 3.0, 0.52, 0.81, 3.09], [\"14029\", \"C\", 49.73, 25.65, 19.98, 2.51, 0.52, 2.13, 2.91], [\"14106\", \"C\", 50.18, 28.3, 15.79, 3.47, 0.45, 2.26, 2.64], [\"14014\", \"C\", 48.15, 27.98, 18.69, 3.58, 0.48, 1.7, 2.87], [\"14073\", \"C\", 49.72, 27.31, 16.89, 3.08, 0.25, 3.0, 2.73], [\"14151\", \"C\", 51.59, 26.24, 16.41, 3.61, 0.6, 2.15, 2.61], [\"14162\", \"C\", 52.26, 26.31, 14.77, 3.51, 0.53, 3.15, 2.51], [\"14139\", \"C\", 49.35, 25.23, 20.03, 3.02, 0.44, 2.37, 2.91], [\"14115\", \"C\", 47.91, 26.03, 21.54, 3.71, 0.6, 0.81, 3.01], [\"24006\", \"C\", 47.83, 25.82, 20.79, 3.33, 0.54, 2.23, 2.99], [\"24020\", \"C\", 47.9, 25.55, 21.1, 3.04, 0.43, 2.41, 3.02], [\"24031\", \"C\", 49.1, 24.53, 21.08, 2.84, 0.34, 2.45, 2.98], [\"24038\", \"C\", 50.04, 24.13, 19.75, 3.21, 0.52, 2.87, 2.86], [\"24043\", \"C\", 52.19, 26.0, 16.64, 4.17, 0.61, 1.0, 2.58], [\"24152\", \"C\", 47.11, 26.17, 21.29, 3.36, 0.48, 2.07, 3.05], [\"24144\", \"C\", 48.48, 26.76, 19.99, 3.64, 0.46, 1.13, 2.91], [\"24135\", \"C\", 52.22, 26.25, 16.45, 3.92, 0.38, 1.16, 2.58], [\"24124\", \"C\", 49.57, 26.91, 18.0, 2.21, 0.41, 3.31, 2.83], [\"24113\", \"C\", 51.71, 24.98, 17.2, 3.01, 0.34, 3.1, 2.67], [\"24058\", \"C\", 49.27, 27.42, 17.42, 3.05, 0.33, 2.84, 2.78], [\"24091\", \"C\", 47.25, 23.95, 24.24, 3.47, 0.57, 1.09, 3.18], [\"34010\", \"C\", 50.98, 26.34, 16.47, 3.2, 0.43, 3.01, 2.66], [\"34003\", \"C\", 49.57, 25.46, 20.79, 3.04, 0.37, 1.14, 2.94]], \"hovertemplate\": \"brand=%{customdata[1]}<br>Componente 1=%{x}<br>Componente 2=%{y}<br>id=%{customdata[0]}<br>mois=%{customdata[2]}<br>prot=%{customdata[3]}<br>fat=%{customdata[4]}<br>ash=%{customdata[5]}<br>sodium=%{customdata[6]}<br>carb=%{customdata[7]}<br>cal=%{customdata[8]}<extra></extra>\", \"legendgroup\": \"C\", \"marker\": {\"color\": \"#00cc96\", \"symbol\": \"circle\"}, \"mode\": \"markers\", \"name\": \"C\", \"orientation\": \"v\", \"showlegend\": true, \"type\": \"scatter\", \"x\": [1.3733350957315178, 1.1530212188461908, 1.1445105315652562, 1.2236652362761313, 1.2454221176825382, 0.8962800809884008, 1.011904544384054, 1.3041845891861445, 0.642454670144616, 1.150537862238478, 0.8946427208741637, 0.9613484757472304, 1.5957516393708286, 1.2918537830771015, 1.0618789615948383, 0.8116282589110018, 1.020664486557195, 1.3874755547987363, 1.3004685953761828, 1.3273125171630475, 1.0250719670298971, 0.5700321165656684, 0.5879633870877993, 0.7789363232099827, 1.5390559918219506, 0.8017742429278, 0.9801293115751935], \"xaxis\": \"x\", \"y\": [-1.8012234506721896, -2.2537952471948466, -1.8264830538828873, -1.9376523933243543, -1.5580496842861096, -1.8740859426128393, -2.4920302754903605, -2.0613960530473627, -2.3706484079135883, -2.4421138622982346, -2.6353881425102474, -1.914127835565073, -1.7225945237434381, -1.7206419849300838, -1.7097069045633215, -1.813989697063138, -1.930663861474106, -2.557093287891397, -1.6580223215005612, -1.9875447752555198, -2.6752442876195737, -2.0543059821188585, -2.3938154134901097, -2.2425099016735266, -1.3556823943065484, -2.4002384774854146, -1.9527155513708088], \"yaxis\": \"y\"}, {\"customdata\": [[\"14092\", \"D\", 46.64, 21.38, 24.96, 4.6, 0.77, 2.42, 3.2], [\"14081\", \"D\", 45.93, 21.6, 25.87, 4.51, 0.73, 2.09, 3.28], [\"14072\", \"D\", 47.6, 22.07, 21.13, 4.07, 0.72, 5.13, 2.99], [\"14116\", \"D\", 47.61, 22.44, 19.61, 4.06, 0.6, 6.28, 2.91], [\"14128\", \"D\", 46.91, 21.79, 21.17, 4.06, 0.76, 6.07, 3.02], [\"14107\", \"D\", 46.88, 21.71, 23.6, 4.59, 0.75, 3.22, 3.12], [\"14050\", \"D\", 47.49, 21.75, 20.83, 4.01, 0.67, 5.92, 2.98], [\"14013\", \"D\", 48.03, 21.96, 20.88, 4.02, 0.7, 5.11, 2.96], [\"14004\", \"D\", 49.16, 27.99, 17.49, 3.29, 0.39, 2.07, 2.78], [\"14003\", \"D\", 47.17, 22.29, 21.3, 4.08, 0.74, 5.16, 3.02], [\"14037\", \"D\", 47.29, 21.48, 21.69, 4.03, 0.67, 5.51, 3.03], [\"14023\", \"D\", 47.53, 21.11, 21.54, 4.02, 0.7, 5.8, 3.02], [\"14059\", \"D\", 47.86, 22.25, 19.53, 4.04, 0.68, 6.32, 2.9], [\"14163\", \"D\", 48.09, 22.65, 21.59, 5.22, 0.93, 2.45, 2.95], [\"14150\", \"D\", 47.73, 22.38, 21.39, 5.21, 0.99, 3.29, 2.95], [\"14140\", \"D\", 48.44, 22.73, 21.05, 5.22, 0.98, 2.56, 2.91], [\"24007\", \"D\", 47.43, 22.13, 21.01, 4.09, 0.72, 5.34, 2.99], [\"24021\", \"D\", 47.68, 21.84, 20.45, 4.06, 0.71, 5.97, 2.95], [\"24011\", \"D\", 48.05, 22.05, 20.57, 4.04, 0.7, 5.29, 2.94], [\"24030\", \"D\", 48.01, 21.31, 21.05, 4.01, 0.73, 5.62, 2.97], [\"34009\", \"D\", 47.45, 22.37, 20.97, 4.06, 0.7, 5.15, 2.99], [\"24039\", \"D\", 47.8, 22.36, 20.39, 4.02, 0.7, 5.43, 2.95], [\"24044\", \"D\", 48.31, 22.49, 19.53, 4.18, 0.62, 5.49, 2.88], [\"34004\", \"D\", 46.19, 21.19, 25.18, 4.66, 0.8, 2.78, 3.23], [\"24153\", \"D\", 48.81, 22.43, 18.68, 4.1, 0.72, 5.98, 2.82], [\"24143\", \"D\", 48.89, 22.95, 21.93, 5.26, 0.85, 0.97, 2.93], [\"24134\", \"D\", 47.91, 22.22, 20.4, 4.07, 0.56, 5.4, 2.94], [\"24123\", \"D\", 46.28, 21.51, 25.44, 4.58, 0.6, 2.19, 3.24], [\"24114\", \"D\", 46.29, 21.43, 26.0, 4.71, 0.69, 1.57, 3.26], [\"24084\", \"D\", 47.03, 20.84, 25.68, 4.52, 0.69, 1.93, 3.22], [\"24092\", \"D\", 46.8, 20.7, 25.1, 4.55, 0.7, 2.85, 3.2], [\"24043\", \"D\", 52.19, 26.0, 16.64, 4.17, 0.61, 1.0, 2.58]], \"hovertemplate\": \"brand=%{customdata[1]}<br>Componente 1=%{x}<br>Componente 2=%{y}<br>id=%{customdata[0]}<br>mois=%{customdata[2]}<br>prot=%{customdata[3]}<br>fat=%{customdata[4]}<br>ash=%{customdata[5]}<br>sodium=%{customdata[6]}<br>carb=%{customdata[7]}<br>cal=%{customdata[8]}<extra></extra>\", \"legendgroup\": \"D\", \"marker\": {\"color\": \"#ab63fa\", \"symbol\": \"circle\"}, \"mode\": \"markers\", \"name\": \"D\", \"orientation\": \"v\", \"showlegend\": true, \"type\": \"scatter\", \"x\": [2.0521176204210727, 2.0643808682706974, 1.5052601024033496, 1.2474999190255118, 1.5191347808456954, 1.9276377564200373, 1.3668359143874105, 1.4356713770583085, 0.9935142800570184, 1.562220215776926, 1.4293001682083122, 1.4224687654142218, 1.315938280240631, 2.288754056098642, 2.3075736927988175, 2.309452937058967, 1.504150719144214, 1.4072098940383235, 1.4209578462084849, 1.429223173696095, 1.4861929127252032, 1.4217671274587866, 1.3262503369251637, 2.1098666161391213, 1.3365281375260714, 2.2764762562074154, 1.2651524899678004, 1.8947213872573827, 2.0949734922270333, 1.9542265841493964, 1.9088341405061484, 1.3874755547987363], \"xaxis\": \"x\", \"y\": [-1.1366156460354597, -1.021747588272295, -1.4541600690097582, -1.6275595423852038, -1.3289803228911872, -1.2709893669434869, -1.458450912611662, -1.5187961537819459, -2.259356525835854, -1.3925546846815482, -1.3746552999390422, -1.365622945854671, -1.6012151106964547, -1.569277205677841, -1.4909076178246385, -1.617258711199571, -1.4466330034020312, -1.4938593877266746, -1.5488836115763502, -1.4502597812069349, -1.470736214642829, -1.5367283421348386, -1.7190247278380957, -1.0482217557627165, -1.7564151212330843, -1.7174893571749095, -1.6282724064308185, -1.1641959546390923, -1.101842125862001, -1.1478161247565353, -1.1410923786925595, -2.557093287891397], \"yaxis\": \"y\"}, {\"customdata\": [[\"14089\", \"E\", 34.58, 7.44, 16.24, 1.31, 0.39, 40.43, 3.38], [\"14056\", \"E\", 36.84, 7.77, 17.07, 1.37, 0.4, 36.95, 3.33], [\"14099\", \"E\", 35.14, 8.05, 15.77, 1.38, 0.41, 39.66, 3.33], [\"14033\", \"E\", 39.25, 8.67, 4.44, 1.54, 0.51, 46.1, 2.59], [\"14063\", \"E\", 34.51, 7.75, 14.87, 1.42, 0.42, 41.45, 3.31], [\"14029\", \"E\", 39.59, 8.36, 4.39, 1.52, 0.48, 46.14, 2.58], [\"14039\", \"E\", 34.94, 7.81, 13.67, 1.36, 0.4, 42.22, 3.23], [\"14142\", \"E\", 39.36, 8.1, 16.44, 1.45, 0.44, 34.65, 3.19], [\"14122\", \"E\", 36.04, 7.74, 15.49, 1.45, 0.45, 39.28, 3.27], [\"14078\", \"E\", 36.54, 7.75, 15.67, 1.43, 0.44, 38.61, 3.26], [\"14126\", \"E\", 37.78, 8.3, 13.05, 1.64, 0.49, 39.23, 3.08], [\"14109\", \"E\", 35.3, 7.92, 13.85, 1.46, 0.4, 41.47, 3.22], [\"14155\", \"E\", 34.47, 7.62, 19.07, 1.44, 0.44, 37.4, 3.52], [\"14160\", \"E\", 33.24, 7.54, 19.56, 1.32, 0.43, 38.34, 3.6], [\"24110\", \"E\", 37.34, 7.33, 19.61, 1.6, 0.45, 34.12, 3.42], [\"24088\", \"E\", 37.59, 7.93, 13.58, 1.43, 0.45, 39.47, 3.12], [\"24053\", \"E\", 36.5, 7.52, 12.46, 1.51, 0.47, 42.01, 3.1], [\"24110\", \"E\", 37.34, 7.33, 19.61, 1.6, 0.45, 34.12, 3.42], [\"24035\", \"E\", 34.31, 7.98, 14.54, 1.46, 0.49, 41.71, 3.3], [\"24099\", \"E\", 36.69, 7.8, 14.77, 1.46, 0.46, 39.28, 3.21], [\"24140\", \"E\", 34.23, 7.75, 17.94, 1.61, 0.44, 38.47, 3.46], [\"34031\", \"E\", 35.54, 7.47, 17.67, 1.44, 0.47, 37.88, 3.4], [\"34030\", \"E\", 35.21, 6.98, 20.02, 1.35, 0.46, 36.44, 3.54], [\"34032\", \"E\", 33.65, 7.11, 19.5, 1.48, 0.45, 38.26, 3.57], [\"24142\", \"E\", 34.77, 7.26, 18.8, 1.58, 0.43, 37.59, 3.49], [\"34033\", \"E\", 37.32, 7.4, 8.18, 1.63, 0.53, 45.47, 2.85], [\"14126\", \"E\", 37.78, 8.3, 13.05, 1.64, 0.49, 39.23, 3.08], [\"24104\", \"E\", 34.48, 7.54, 13.93, 1.45, 0.44, 42.6, 3.26]], \"hovertemplate\": \"brand=%{customdata[1]}<br>Componente 1=%{x}<br>Componente 2=%{y}<br>id=%{customdata[0]}<br>mois=%{customdata[2]}<br>prot=%{customdata[3]}<br>fat=%{customdata[4]}<br>ash=%{customdata[5]}<br>sodium=%{customdata[6]}<br>carb=%{customdata[7]}<br>cal=%{customdata[8]}<extra></extra>\", \"legendgroup\": \"E\", \"marker\": {\"color\": \"#FFA15A\", \"symbol\": \"circle\"}, \"mode\": \"markers\", \"name\": \"E\", \"orientation\": \"v\", \"showlegend\": true, \"type\": \"scatter\", \"x\": [-1.7850837427491206, -1.6123951913682186, -1.720689146063776, -2.487918244824997, -1.8109961021345606, -2.554073811711556, -1.9600365807068523, -1.5313255187950847, -1.688351277426347, -1.6827591825092318, -1.7211502466579356, -1.8911532624952905, -1.4000092468225167, -1.4356956663539648, -1.261437930626362, -1.8330160891849234, -1.9349268593046625, -1.261437930626362, -1.727949622227451, -1.7244848022104609, -1.4359717566825885, -1.494755675650332, -1.3647441232559907, -1.3880884832829965, -1.408660216160214, -2.2148310056392004, -1.7211502466579356, -1.8825986645853146], \"xaxis\": \"x\", \"y\": [0.937302225300552, 0.6887093890320479, 0.8077456832801446, -0.30864105174854195, 0.8537746303026732, -0.3423981473331747, 0.7262496626068159, 0.3379040912922674, 0.7080692806963836, 0.6546256260618181, 0.33622006016687894, 0.6713536122861616, 1.1013241032599035, 1.293648105682712, 0.7799588670421247, 0.4156456670286942, 0.506140691414744, 0.7799588670421247, 0.8787977820841232, 0.593471806818964, 1.031271861456833, 0.9154106994040114, 1.1243343616056736, 1.251096394885901, 1.0477805255201924, 0.19981725028456837, 0.33622006016687894, 0.8228907816169772], \"yaxis\": \"y\"}, {\"customdata\": [[\"34037\", \"F\", 28.03, 7.65, 18.39, 1.53, 0.49, 44.4, 3.74], [\"14054\", \"F\", 30.09, 7.99, 15.16, 1.46, 0.48, 45.3, 3.5], [\"14118\", \"F\", 29.79, 8.17, 14.35, 1.49, 0.46, 46.2, 3.46], [\"14110\", \"F\", 30.07, 8.02, 20.39, 1.45, 0.45, 40.07, 3.76], [\"14096\", \"F\", 28.46, 7.7, 18.88, 1.4, 0.43, 43.56, 3.75], [\"14079\", \"F\", 30.29, 8.09, 14.82, 1.52, 0.51, 45.28, 3.47], [\"14065\", \"F\", 28.66, 7.67, 16.12, 1.41, 0.43, 46.14, 3.6], [\"14084\", \"F\", 30.96, 8.31, 13.42, 1.49, 0.43, 45.82, 3.37], [\"14018\", \"F\", 29.78, 8.2, 14.51, 1.5, 0.5, 46.01, 3.47], [\"14038\", \"F\", 30.28, 7.76, 16.04, 1.4, 0.42, 44.52, 3.53], [\"14152\", \"F\", 29.92, 8.11, 19.23, 1.51, 0.48, 41.23, 3.7], [\"14143\", \"F\", 29.54, 7.79, 15.08, 1.41, 0.45, 46.18, 3.52], [\"14130\", \"F\", 28.93, 8.18, 19.35, 1.39, 0.58, 42.15, 3.75], [\"14165\", \"F\", 29.89, 7.95, 15.08, 1.45, 0.47, 45.63, 3.5], [\"24035\", \"F\", 27.65, 7.78, 17.3, 1.29, 0.4, 46.25, 3.72], [\"24049\", \"F\", 28.33, 7.82, 17.96, 1.41, 0.45, 44.48, 3.71], [\"24042\", \"F\", 29.1, 8.07, 20.05, 1.45, 0.45, 41.33, 3.78], [\"24046\", \"F\", 29.59, 8.05, 14.07, 1.44, 0.45, 46.22, 3.49], [\"24055\", \"F\", 27.93, 7.88, 17.49, 1.44, 0.47, 45.26, 3.96], [\"24086\", \"F\", 30.53, 8.02, 14.17, 1.49, 0.47, 45.79, 3.43], [\"24097\", \"F\", 30.68, 8.11, 12.92, 1.56, 0.47, 46.73, 3.36], [\"24103\", \"F\", 30.15, 8.06, 12.23, 1.5, 0.47, 48.06, 3.35], [\"24109\", \"F\", 29.3, 8.02, 16.34, 1.43, 0.45, 44.91, 3.59], [\"24150\", \"F\", 29.69, 7.63, 15.71, 1.63, 0.46, 45.34, 3.53], [\"24157\", \"F\", 29.0, 7.51, 17.78, 1.58, 0.43, 44.13, 3.67], [\"34035\", \"F\", 28.98, 7.7, 16.67, 1.48, 0.47, 45.17, 3.62], [\"24106\", \"F\", 28.84, 7.88, 17.21, 1.42, 0.46, 44.65, 3.65], [\"34036\", \"F\", 28.34, 7.6, 18.51, 1.45, 0.46, 44.1, 3.73], [\"34034\", \"F\", 28.36, 7.62, 19.29, 1.45, 0.47, 43.28, 3.77], [\"24137\", \"F\", 30.97, 7.6, 14.22, 1.78, 0.45, 45.43, 3.4]], \"hovertemplate\": \"brand=%{customdata[1]}<br>Componente 1=%{x}<br>Componente 2=%{y}<br>id=%{customdata[0]}<br>mois=%{customdata[2]}<br>prot=%{customdata[3]}<br>fat=%{customdata[4]}<br>ash=%{customdata[5]}<br>sodium=%{customdata[6]}<br>carb=%{customdata[7]}<br>cal=%{customdata[8]}<extra></extra>\", \"legendgroup\": \"F\", \"marker\": {\"color\": \"#19d3f3\", \"symbol\": \"circle\"}, \"mode\": \"markers\", \"name\": \"F\", \"orientation\": \"v\", \"showlegend\": true, \"type\": \"scatter\", \"x\": [-1.4617616300865777, -1.7426256710805517, -1.8238690506440507, -1.2932099220489963, -1.5267904164410362, -1.7060091920454257, -1.781209341664028, -1.9159625993851572, -1.7548986038929755, -1.7738103725577732, -1.3401377626429845, -1.8289779801952672, -1.265547369772172, -1.7736259577078328, -1.757980960331289, -1.5766827059126212, -1.335636441219417, -1.865279361208199, -1.48422145734423, -1.8270514652197822, -1.906815691913326, -2.005437403780719, -1.6891632467257551, -1.6885280805595244, -1.5672068162490496, -1.645860278817005, -1.6192747088007227, -1.5186260217534258, -1.431489716805729, -1.765299243924419], \"xaxis\": \"x\", \"y\": [1.852168290882573, 1.4143754763860088, 1.371205999680847, 1.6810246597618068, 1.8074352580588229, 1.3713591964615943, 1.6308545750613324, 1.1582952800005235, 1.4015173906701226, 1.4206834490774671, 1.6335337598203399, 1.478922982351521, 1.8262091054841958, 1.4284318438582428, 1.8297468088877988, 1.7766322983275835, 1.774690155170939, 1.4088777604361737, 2.0395157286382077, 1.2947025931114173, 1.1947740441098644, 1.2334946580276906, 1.5578535714871413, 1.4726480076135782, 1.672111046689856, 1.6396607403284125, 1.6734981935113091, 1.8131207125244442, 1.8588965867892657, 1.2144498914297805], \"yaxis\": \"y\"}, {\"customdata\": [[\"14145\", \"G\", 28.15, 8.23, 15.45, 1.41, 0.45, 46.76, 3.59], [\"24015\", \"G\", 28.35, 8.19, 14.9, 1.4, 0.43, 47.16, 3.56], [\"24004\", \"G\", 30.85, 8.03, 13.67, 1.41, 0.42, 46.04, 3.39], [\"14095\", \"G\", 28.21, 8.3, 15.0, 1.41, 0.43, 47.08, 3.57], [\"14153\", \"G\", 28.83, 8.26, 20.1, 1.37, 0.42, 41.44, 3.8], [\"14017\", \"G\", 28.29, 8.05, 16.72, 1.31, 0.43, 45.63, 3.65], [\"14010\", \"G\", 28.68, 8.3, 16.07, 1.41, 0.45, 45.54, 3.6], [\"14055\", \"G\", 27.71, 8.28, 15.62, 1.53, 0.5, 46.86, 3.61], [\"14040\", \"G\", 28.03, 8.27, 16.4, 1.37, 0.41, 45.93, 3.64], [\"14026\", \"G\", 28.13, 8.34, 16.19, 1.42, 0.45, 45.92, 3.63], [\"14119\", \"G\", 28.09, 8.42, 14.06, 1.47, 0.45, 47.96, 3.52], [\"14131\", \"G\", 28.19, 8.57, 14.16, 1.76, 0.42, 47.32, 3.51], [\"14112\", \"G\", 28.63, 8.42, 15.24, 1.43, 0.43, 46.28, 3.56], [\"14077\", \"G\", 33.09, 7.87, 12.07, 1.37, 0.44, 45.6, 3.23], [\"14066\", \"G\", 26.33, 8.03, 19.98, 1.43, 0.45, 44.23, 3.89], [\"14085\", \"G\", 27.28, 8.55, 15.18, 1.51, 0.46, 47.48, 3.61], [\"14166\", \"G\", 27.56, 8.25, 14.65, 1.45, 0.46, 48.09, 3.57], [\"24022\", \"G\", 27.72, 8.06, 15.34, 1.35, 0.42, 47.53, 3.6], [\"24041\", \"G\", 30.63, 8.21, 17.33, 1.39, 0.42, 42.44, 3.59], [\"24047\", \"G\", 29.06, 8.46, 14.12, 1.47, 0.47, 46.89, 3.48], [\"24033\", \"G\", 28.55, 8.25, 17.3, 1.48, 0.47, 44.42, 3.66], [\"24119\", \"G\", 27.16, 8.27, 14.68, 1.79, 0.46, 48.1, 3.58], [\"24121\", \"G\", 28.33, 8.17, 13.64, 1.45, 0.47, 48.41, 3.49], [\"24156\", \"G\", 26.19, 7.99, 17.53, 1.42, 0.44, 46.87, 3.77], [\"34008\", \"G\", 26.45, 7.89, 17.97, 1.3, 0.39, 46.39, 3.79], [\"34018\", \"G\", 27.72, 8.24, 15.16, 1.46, 0.45, 47.42, 3.59], [\"24059\", \"G\", 25.0, 8.49, 16.87, 1.45, 0.47, 48.19, 3.79], [\"34013\", \"G\", 29.14, 8.46, 12.25, 1.51, 0.46, 48.64, 3.39], [\"24149\", \"G\", 28.64, 8.01, 16.02, 1.43, 0.45, 45.9, 3.6]], \"hovertemplate\": \"brand=%{customdata[1]}<br>Componente 1=%{x}<br>Componente 2=%{y}<br>id=%{customdata[0]}<br>mois=%{customdata[2]}<br>prot=%{customdata[3]}<br>fat=%{customdata[4]}<br>ash=%{customdata[5]}<br>sodium=%{customdata[6]}<br>carb=%{customdata[7]}<br>cal=%{customdata[8]}<extra></extra>\", \"legendgroup\": \"G\", \"marker\": {\"color\": \"#FF6692\", \"symbol\": \"circle\"}, \"mode\": \"markers\", \"name\": \"G\", \"orientation\": \"v\", \"showlegend\": true, \"type\": \"scatter\", \"x\": [-1.7800657331262149, -1.8570658775802102, -1.9596164620297145, -1.8369841393146207, -1.3836038892808498, -1.7368441535355437, -1.7086869141896472, -1.6624978064153504, -1.7538511607696083, -1.6974772299981447, -1.872197545842019, -1.7739254390733594, -1.7927143815442925, -2.077738866215544, -1.3927370493910065, -1.7406457761159968, -1.8353891467786994, -1.8704060050293545, -1.611521365038665, -1.8272382049892293, -1.5514402390968414, -1.7051435696552386, -1.9125953391593216, -1.643396534931919, -1.7099576632105156, -1.7938164371048289, -1.6316296073142238, -1.9936624188516143, -1.7296031433406676], \"xaxis\": \"x\", \"y\": [1.6361890054944979, 1.579890481335254, 1.2076373276988683, 1.5939785401678528, 1.7967418781082671, 1.700485037413424, 1.6020087639131955, 1.7044001571940222, 1.6800155627589075, 1.6730892904924524, 1.5477365778402945, 1.4751555006866452, 1.5423943215463751, 0.8848430730245977, 2.111217603379304, 1.7008500557906963, 1.660576918384908, 1.6805377053408772, 1.43133918398772, 1.4389232963882694, 1.6846966900107911, 1.6664480121027627, 1.524602399000723, 1.9904303104648626, 1.9820388300049483, 1.6638781106046907, 2.086128283128952, 1.324420286460029, 1.620167294797312], \"yaxis\": \"y\"}, {\"customdata\": [[\"14127\", \"H\", 36.12, 8.33, 11.9, 1.42, 0.39, 42.23, 3.09], [\"24001\", \"H\", 35.1, 8.04, 19.07, 1.36, 0.41, 36.43, 3.5], [\"14144\", \"H\", 35.48, 7.66, 15.39, 1.37, 0.46, 40.1, 3.3], [\"14123\", \"H\", 35.66, 9.04, 6.24, 1.5, 0.42, 47.56, 2.83], [\"14111\", \"H\", 35.61, 8.07, 16.15, 1.41, 0.4, 38.81, 3.33], [\"14088\", \"H\", 35.68, 8.01, 16.36, 1.3, 0.39, 38.65, 3.34], [\"14028\", \"H\", 40.72, 8.34, 4.96, 1.42, 0.43, 44.56, 2.56], [\"14009\", \"H\", 35.55, 7.32, 16.4, 1.76, 0.36, 38.97, 3.33], [\"14007\", \"H\", 33.05, 7.34, 15.78, 1.34, 0.42, 42.49, 3.41], [\"14057\", \"H\", 33.75, 8.07, 14.93, 1.31, 0.4, 41.94, 3.34], [\"14032\", \"H\", 38.84, 8.55, 4.38, 1.41, 0.43, 46.82, 2.61], [\"14100\", \"H\", 33.44, 7.45, 18.49, 1.39, 0.4, 39.23, 3.53], [\"14041\", \"H\", 36.43, 8.67, 15.05, 1.35, 0.38, 38.5, 3.24], [\"14064\", \"H\", 35.84, 7.9, 14.09, 1.25, 0.42, 40.92, 3.22], [\"14076\", \"H\", 36.63, 8.38, 12.59, 1.36, 0.41, 41.04, 3.11], [\"14159\", \"H\", 35.5, 8.11, 13.45, 1.34, 0.42, 41.59, 3.2], [\"14156\", \"H\", 36.87, 7.82, 14.58, 1.32, 0.4, 39.41, 3.2], [\"24009\", \"H\", 35.5, 7.51, 15.63, 1.42, 0.42, 39.94, 3.3], [\"24016\", \"H\", 33.9, 7.76, 15.84, 1.3, 0.42, 41.2, 3.38], [\"24024\", \"H\", 35.8, 7.82, 14.08, 1.43, 0.42, 40.87, 3.21], [\"24089\", \"H\", 35.74, 7.86, 14.27, 1.4, 0.44, 40.73, 3.23], [\"24054\", \"H\", 35.74, 7.47, 19.14, 1.34, 0.4, 36.31, 3.47], [\"24037\", \"H\", 35.99, 8.23, 16.6, 1.4, 0.45, 37.78, 3.33], [\"24034\", \"H\", 35.5, 7.9, 13.83, 1.41, 0.46, 41.36, 3.22], [\"24120\", \"H\", 35.91, 7.41, 16.41, 1.75, 0.43, 38.52, 3.31], [\"34028\", \"H\", 36.01, 7.7, 15.6, 1.37, 0.43, 39.32, 3.28], [\"34007\", \"H\", 36.73, 7.42, 18.16, 1.17, 0.39, 36.52, 3.39], [\"24139\", \"H\", 35.86, 7.47, 14.72, 1.67, 0.4, 40.28, 3.23], [\"34029\", \"H\", 36.32, 8.06, 12.54, 1.35, 0.43, 41.73, 3.12], [\"24100\", \"H\", 34.61, 7.17, 17.88, 1.29, 0.4, 39.05, 3.46], [\"24132\", \"H\", 36.67, 7.81, 9.34, 1.64, 0.44, 44.54, 2.93], [\"24112\", \"H\", 35.94, 7.97, 13.5, 1.45, 0.42, 41.14, 3.18], [\"24089\", \"H\", 35.74, 7.86, 14.27, 1.4, 0.44, 40.73, 3.23]], \"hovertemplate\": \"brand=%{customdata[1]}<br>Componente 1=%{x}<br>Componente 2=%{y}<br>id=%{customdata[0]}<br>mois=%{customdata[2]}<br>prot=%{customdata[3]}<br>fat=%{customdata[4]}<br>ash=%{customdata[5]}<br>sodium=%{customdata[6]}<br>carb=%{customdata[7]}<br>cal=%{customdata[8]}<extra></extra>\", \"legendgroup\": \"H\", \"marker\": {\"color\": \"#B6E880\", \"symbol\": \"circle\"}, \"mode\": \"markers\", \"name\": \"H\", \"orientation\": \"v\", \"showlegend\": true, \"type\": \"scatter\", \"x\": [-2.054578940653507, -1.4211044634853747, -1.727358562390025, -2.461354807841076, -1.6779291553581883, -1.7155308396704174, -2.5859207566367384, -1.6307162774093023, -1.814551626745798, -1.8585293868076194, -2.652531194917076, -1.5509333113811732, -1.7659528834605374, -1.9183298238331712, -1.9765523043785331, -1.9303684999746167, -1.8613955976801575, -1.748849661165475, -1.7773159962613998, -1.8595778310176685, -1.8245510168751067, -1.475127601440131, -1.5639729339571475, -1.837284928585166, -1.5409792918861571, -1.735774265934564, -1.6318337190450252, -1.7603018810214965, -1.992509904081946, -1.6505370259625145, -2.1860250517472837, -1.889472442900391, -1.8245510168751067], \"xaxis\": \"x\", \"y\": [0.44151230638619754, 0.9972330828791919, 0.8002570242009142, 0.15981745402704411, 0.7626759487386042, 0.776573966149207, -0.4660570264422476, 0.7550425146752844, 1.108157618309852, 0.9269201138865317, -0.27926545164168615, 1.1854391793257009, 0.5610153344969037, 0.6624052973739453, 0.43718332159980283, 0.6449543534154641, 0.548483909874345, 0.782473152313293, 0.9891411637972631, 0.6423200038162868, 0.6789412586767031, 0.9474943863081734, 0.7525120904882564, 0.6936400834149055, 0.7405214602389072, 0.7205778395758627, 0.7985711953856406, 0.6457155479432815, 0.5029632352124205, 1.0455449115282744, 0.2625904047769107, 0.5871801177349708, 0.6789412586767031], \"yaxis\": \"y\"}, {\"customdata\": [[\"14134\", \"I\", 54.64, 10.36, 12.89, 2.21, 0.53, 19.9, 2.37], [\"14046\", \"I\", 54.52, 9.85, 13.55, 2.04, 0.47, 20.05, 2.42], [\"14019\", \"I\", 53.84, 10.22, 13.05, 2.07, 0.48, 20.82, 2.42], [\"24107\", \"I\", 54.32, 10.66, 14.04, 2.03, 0.46, 18.95, 2.45], [\"24111\", \"I\", 52.9, 10.19, 14.35, 2.02, 0.49, 20.54, 2.52], [\"24128\", \"I\", 55.0, 11.11, 11.3, 2.05, 0.47, 20.54, 2.28], [\"24052\", \"I\", 56.24, 9.06, 11.49, 1.93, 0.48, 21.28, 2.25], [\"14068\", \"I\", 56.25, 9.96, 13.22, 2.05, 0.46, 18.52, 2.33], [\"14157\", \"I\", 54.43, 9.61, 12.18, 2.16, 0.51, 21.62, 2.35], [\"14158\", \"I\", 53.69, 11.0, 15.23, 2.25, 0.55, 17.83, 2.52], [\"14102\", \"I\", 54.69, 10.32, 13.77, 2.15, 0.48, 19.07, 2.41], [\"14103\", \"I\", 53.16, 11.17, 13.83, 2.18, 0.47, 19.66, 2.48], [\"14031\", \"I\", 55.15, 10.92, 12.51, 2.2, 0.51, 19.22, 2.33], [\"14067\", \"I\", 54.87, 10.78, 13.65, 2.08, 0.5, 18.62, 2.4], [\"14030\", \"I\", 55.43, 10.46, 12.37, 2.17, 0.51, 19.57, 2.31], [\"24023\", \"I\", 55.6, 9.69, 13.89, 1.99, 0.48, 18.83, 2.39], [\"14114\", \"I\", 54.51, 9.93, 12.66, 2.07, 0.53, 20.83, 2.37], [\"14098\", \"I\", 54.74, 10.18, 12.6, 2.06, 0.48, 20.42, 2.36], [\"14125\", \"I\", 54.17, 10.67, 12.18, 2.08, 0.49, 20.9, 2.36], [\"24048\", \"I\", 52.75, 10.78, 12.98, 2.12, 0.49, 21.37, 2.45], [\"34023\", \"I\", 54.36, 11.43, 13.09, 2.24, 0.48, 18.88, 2.39], [\"34022\", \"I\", 54.28, 10.75, 13.87, 2.13, 0.46, 18.97, 2.4], [\"34021\", \"I\", 54.54, 10.4, 13.22, 2.1, 0.47, 19.74, 2.4], [\"24141\", \"I\", 54.06, 10.68, 13.53, 2.04, 0.46, 19.69, 2.43], [\"34019\", \"I\", 57.22, 9.66, 10.95, 2.04, 0.47, 20.13, 2.18], [\"34027\", \"I\", 54.8, 10.57, 13.42, 2.08, 0.5, 19.13, 2.4], [\"34026\", \"I\", 54.17, 10.13, 13.25, 2.07, 0.46, 20.38, 2.41], [\"34025\", \"I\", 53.57, 10.73, 12.78, 2.16, 0.48, 20.76, 2.41], [\"34024\", \"I\", 55.29, 9.84, 12.91, 2.08, 0.51, 19.88, 2.35]], \"hovertemplate\": \"brand=%{customdata[1]}<br>Componente 1=%{x}<br>Componente 2=%{y}<br>id=%{customdata[0]}<br>mois=%{customdata[2]}<br>prot=%{customdata[3]}<br>fat=%{customdata[4]}<br>ash=%{customdata[5]}<br>sodium=%{customdata[6]}<br>carb=%{customdata[7]}<br>cal=%{customdata[8]}<extra></extra>\", \"legendgroup\": \"I\", \"marker\": {\"color\": \"#FF97FF\", \"symbol\": \"circle\"}, \"mode\": \"markers\", \"name\": \"I\", \"orientation\": \"v\", \"showlegend\": true, \"type\": \"scatter\", \"x\": [-1.0580467492405277, -1.1738153790748076, -1.1767615248006829, -1.0806769711610598, -1.0808292461246893, -1.2715616838665442, -1.4367585745175904, -1.1795312780448892, -1.2297703271308553, -0.7635427536879495, -1.0620642199901227, -1.0062315892310527, -1.0675458320904394, -1.0355187960401973, -1.1270776635092004, -1.1488518510510635, -1.1698198348320994, -1.2134230532977566, -1.2014361688008368, -1.1253641558721965, -1.0026600324541723, -1.0671095685223855, -1.1359446255005332, -1.1283296933283455, -1.3929834230864844, -1.0718804005764064, -1.1869905105714673, -1.1310100630865745, -1.162690756196596], \"xaxis\": \"x\", \"y\": [-1.8881081220780411, -1.8108604242883988, -1.7781471065682475, -1.8155289353301816, -1.584436851142464, -2.0747347297016563, -2.0637528309848627, -2.054141128896037, -1.8556118628179856, -1.6831107979590447, -1.8668230409812239, -1.7335600739677366, -2.0139603439532094, -1.9012713509635997, -2.026233602017505, -1.9057773258419612, -1.8386978008638761, -1.908774207300789, -1.8905383572231365, -1.6933184538351898, -1.9390709167354048, -1.8753558433043929, -1.8730069178918287, -1.8186219031227475, -2.26735068902272, -1.8847830609423932, -1.8187822098836395, -1.8069509030091955, -1.9267885058598977], \"yaxis\": \"y\"}, {\"customdata\": [[\"34042\", \"J\", 46.16, 10.34, 16.14, 2.47, 0.67, 24.89, 2.86], [\"34045\", \"J\", 43.8, 10.97, 16.49, 2.46, 0.65, 26.28, 2.97], [\"14044\", \"J\", 47.6, 10.43, 15.18, 2.32, 0.56, 24.47, 2.76], [\"14045\", \"J\", 46.84, 9.91, 15.5, 2.27, 0.57, 25.48, 2.81], [\"14042\", \"J\", 46.1, 9.87, 15.97, 2.19, 0.53, 25.87, 2.87], [\"14043\", \"J\", 47.84, 10.16, 14.56, 2.27, 0.54, 25.17, 2.72], [\"24065\", \"J\", 45.86, 10.5, 17.07, 2.33, 0.61, 24.24, 2.93], [\"24064\", \"J\", 46.55, 10.75, 16.72, 2.24, 0.61, 23.74, 2.88], [\"24063\", \"J\", 46.13, 10.71, 17.24, 2.36, 0.61, 23.56, 2.92], [\"24062\", \"J\", 48.58, 9.76, 16.01, 2.3, 0.6, 23.35, 2.77], [\"24074\", \"J\", 44.76, 12.91, 15.56, 2.34, 0.61, 24.43, 2.89], [\"24073\", \"J\", 46.13, 10.84, 13.99, 2.38, 0.64, 26.66, 2.76], [\"24072\", \"J\", 47.43, 10.45, 16.5, 2.35, 0.61, 23.27, 2.83], [\"24071\", \"J\", 46.22, 11.26, 15.93, 2.47, 0.63, 24.12, 2.85], [\"24068\", \"J\", 45.2, 10.67, 16.38, 2.44, 0.6, 25.31, 2.91], [\"24078\", \"J\", 47.05, 10.46, 15.16, 2.34, 0.64, 24.99, 2.78], [\"24056\", \"J\", 43.45, 10.81, 19.49, 2.51, 0.68, 23.74, 3.14], [\"34038\", \"J\", 47.74, 10.23, 16.31, 2.5, 0.67, 23.22, 2.81], [\"34041\", \"J\", 45.17, 10.42, 17.2, 2.34, 0.61, 24.87, 2.96], [\"34040\", \"J\", 44.77, 10.52, 16.12, 2.44, 0.66, 26.15, 2.92], [\"24067\", \"J\", 47.91, 10.75, 16.0, 2.4, 0.64, 22.94, 2.79], [\"24066\", \"J\", 45.69, 10.23, 16.5, 2.3, 0.59, 25.28, 2.91], [\"24076\", \"J\", 46.12, 10.3, 16.38, 2.35, 0.61, 24.85, 2.88], [\"24077\", \"J\", 47.35, 10.31, 15.45, 2.34, 0.62, 24.55, 2.78], [\"24070\", \"J\", 45.21, 9.39, 16.23, 2.14, 0.55, 27.03, 2.92], [\"24075\", \"J\", 46.34, 10.0, 17.73, 2.32, 0.59, 23.61, 2.94], [\"34043\", \"J\", 44.07, 10.96, 18.39, 2.56, 0.66, 24.02, 3.05], [\"34044\", \"J\", 44.91, 11.07, 17.0, 2.49, 0.66, 25.36, 2.91], [\"24069\", \"J\", 43.15, 11.79, 18.46, 2.43, 0.67, 24.17, 3.1], [\"34039\", \"J\", 44.55, 11.01, 16.03, 2.43, 0.64, 25.98, 2.92], [\"14044\", \"J\", 47.6, 10.43, 15.18, 2.32, 0.56, 24.47, 2.76], [\"14045\", \"J\", 46.84, 9.91, 15.5, 2.27, 0.57, 25.48, 2.81]], \"hovertemplate\": \"brand=%{customdata[1]}<br>Componente 1=%{x}<br>Componente 2=%{y}<br>id=%{customdata[0]}<br>mois=%{customdata[2]}<br>prot=%{customdata[3]}<br>fat=%{customdata[4]}<br>ash=%{customdata[5]}<br>sodium=%{customdata[6]}<br>carb=%{customdata[7]}<br>cal=%{customdata[8]}<extra></extra>\", \"legendgroup\": \"J\", \"marker\": {\"color\": \"#FECB52\", \"symbol\": \"circle\"}, \"mode\": \"markers\", \"name\": \"J\", \"orientation\": \"v\", \"showlegend\": true, \"type\": \"scatter\", \"x\": [-0.6172551040640234, -0.5953316422386601, -0.8650782697399588, -0.8958684139969996, -0.9422456376082383, -0.9847803928793231, -0.6433278819960957, -0.682801233300383, -0.5973686137009583, -0.7864810799063336, -0.6005204691067301, -0.8452860218051149, -0.673189675344772, -0.6059782250573339, -0.676170053976969, -0.7706965344249689, -0.2765268053097468, -0.5737038585117632, -0.645546936669108, -0.6460681997659454, -0.6312105619438272, -0.7560010194701228, -0.714454418391312, -0.7762309066317662, -0.9663071203047225, -0.6451223263800063, -0.3654195538963408, -0.5355097377815894, -0.3396361600078823, -0.6464326956565782, -0.8650782697399588, -0.8958684139969996], \"xaxis\": \"x\", \"y\": [-0.6520289830907936, -0.39831153621028126, -0.9217904251426896, -0.7678784729621979, -0.6580239347898721, -0.9732244307958966, -0.582520548110141, -0.6944813243924656, -0.628573023766498, -0.9237053498139475, -0.6849026763182116, -0.795939522352131, -0.8094438828946997, -0.7447884242987179, -0.5786062400144775, -0.8178702952654782, -0.1674389214957773, -0.8252319653426963, -0.49246838641615115, -0.4939412567006964, -0.8972964658493915, -0.5830030840335054, -0.6460318594603395, -0.8424884894241869, -0.49067329763828493, -0.5879617717455741, -0.33616233862035505, -0.5308427233236178, -0.243230177966777, -0.5154336036793862, -0.9217904251426896, -0.7678784729621979], \"yaxis\": \"y\"}, {\"line\": {\"color\": \"rgb(255,51,0)\"}, \"name\": \"mois\", \"type\": \"scatter\", \"x\": [0, 0.13216850844681888], \"y\": [0, -0.9508488499283347]}, {\"line\": {\"color\": \"rgb(0,0,0)\"}, \"name\": \"prot\", \"type\": \"scatter\", \"x\": [0, 0.7736168879891882], \"y\": [0, -0.4081809792187271]}, {\"line\": {\"color\": \"rgb(0, 127, 254)\"}, \"name\": \"fat\", \"type\": \"scatter\", \"x\": [0, 0.9123124686550161], \"y\": [0, 0.35471533328120136]}, {\"line\": {\"color\": \"rgb(254,246,0)\"}, \"name\": \"ash\", \"type\": \"scatter\", \"x\": [0, 0.9638315441796124], \"y\": [0, -0.1679757505991908]}, {\"line\": {\"color\": \"rgb( 0, 254, 62 )\"}, \"name\": \"sodium\", \"type\": \"scatter\", \"x\": [0, 0.8899205497108584], \"y\": [0, 0.3051999298857184]}, {\"line\": {\"color\": \"rgb(254, 0, 142)\"}, \"name\": \"carb\", \"type\": \"scatter\", \"x\": [0, -0.8678837228879509], \"y\": [0, 0.4847685356060525]}, {\"line\": {\"color\": \"rgb(254, 142, 0)\"}, \"name\": \"cal\", \"type\": \"scatter\", \"x\": [0, 0.4993638603900244], \"y\": [0, 0.8588048613536262]}],\n",
       "                        {\"height\": 600, \"legend\": {\"title\": {\"text\": \"brand\"}, \"tracegroupgap\": 0}, \"margin\": {\"t\": 60}, \"paper_bgcolor\": \"rgba(0, 0, 0, 0)\", \"shapes\": [{\"line\": {\"color\": \"LightSeaGreen\"}, \"type\": \"circle\", \"x0\": 1, \"x1\": -1, \"xref\": \"x\", \"y0\": 1, \"y1\": -1, \"yref\": \"y\"}], \"showlegend\": true, \"template\": {\"data\": {\"bar\": [{\"error_x\": {\"color\": \"#2a3f5f\"}, \"error_y\": {\"color\": \"#2a3f5f\"}, \"marker\": {\"line\": {\"color\": \"#E5ECF6\", \"width\": 0.5}}, \"type\": \"bar\"}], \"barpolar\": [{\"marker\": {\"line\": {\"color\": \"#E5ECF6\", \"width\": 0.5}}, \"type\": \"barpolar\"}], \"carpet\": [{\"aaxis\": {\"endlinecolor\": \"#2a3f5f\", \"gridcolor\": \"white\", \"linecolor\": \"white\", \"minorgridcolor\": \"white\", \"startlinecolor\": \"#2a3f5f\"}, \"baxis\": {\"endlinecolor\": \"#2a3f5f\", \"gridcolor\": \"white\", \"linecolor\": \"white\", \"minorgridcolor\": \"white\", \"startlinecolor\": \"#2a3f5f\"}, \"type\": \"carpet\"}], \"choropleth\": [{\"colorbar\": {\"outlinewidth\": 0, \"ticks\": \"\"}, \"type\": \"choropleth\"}], \"contour\": [{\"colorbar\": {\"outlinewidth\": 0, \"ticks\": \"\"}, \"colorscale\": [[0.0, \"#0d0887\"], [0.1111111111111111, \"#46039f\"], [0.2222222222222222, \"#7201a8\"], [0.3333333333333333, \"#9c179e\"], [0.4444444444444444, \"#bd3786\"], [0.5555555555555556, \"#d8576b\"], [0.6666666666666666, \"#ed7953\"], [0.7777777777777778, \"#fb9f3a\"], [0.8888888888888888, \"#fdca26\"], [1.0, \"#f0f921\"]], \"type\": \"contour\"}], \"contourcarpet\": [{\"colorbar\": {\"outlinewidth\": 0, \"ticks\": \"\"}, \"type\": \"contourcarpet\"}], \"heatmap\": [{\"colorbar\": {\"outlinewidth\": 0, \"ticks\": \"\"}, \"colorscale\": [[0.0, \"#0d0887\"], [0.1111111111111111, \"#46039f\"], [0.2222222222222222, \"#7201a8\"], [0.3333333333333333, \"#9c179e\"], [0.4444444444444444, \"#bd3786\"], [0.5555555555555556, \"#d8576b\"], [0.6666666666666666, \"#ed7953\"], [0.7777777777777778, \"#fb9f3a\"], [0.8888888888888888, \"#fdca26\"], [1.0, \"#f0f921\"]], \"type\": \"heatmap\"}], \"heatmapgl\": [{\"colorbar\": {\"outlinewidth\": 0, \"ticks\": \"\"}, \"colorscale\": [[0.0, \"#0d0887\"], [0.1111111111111111, \"#46039f\"], [0.2222222222222222, \"#7201a8\"], [0.3333333333333333, \"#9c179e\"], [0.4444444444444444, \"#bd3786\"], [0.5555555555555556, \"#d8576b\"], [0.6666666666666666, \"#ed7953\"], [0.7777777777777778, \"#fb9f3a\"], [0.8888888888888888, \"#fdca26\"], [1.0, \"#f0f921\"]], \"type\": \"heatmapgl\"}], \"histogram\": [{\"marker\": {\"colorbar\": {\"outlinewidth\": 0, \"ticks\": \"\"}}, \"type\": \"histogram\"}], \"histogram2d\": [{\"colorbar\": {\"outlinewidth\": 0, \"ticks\": \"\"}, \"colorscale\": [[0.0, \"#0d0887\"], [0.1111111111111111, \"#46039f\"], [0.2222222222222222, \"#7201a8\"], [0.3333333333333333, \"#9c179e\"], [0.4444444444444444, \"#bd3786\"], [0.5555555555555556, \"#d8576b\"], [0.6666666666666666, \"#ed7953\"], [0.7777777777777778, \"#fb9f3a\"], [0.8888888888888888, \"#fdca26\"], [1.0, \"#f0f921\"]], \"type\": \"histogram2d\"}], \"histogram2dcontour\": [{\"colorbar\": {\"outlinewidth\": 0, \"ticks\": \"\"}, \"colorscale\": [[0.0, \"#0d0887\"], [0.1111111111111111, \"#46039f\"], [0.2222222222222222, \"#7201a8\"], [0.3333333333333333, \"#9c179e\"], [0.4444444444444444, \"#bd3786\"], [0.5555555555555556, \"#d8576b\"], [0.6666666666666666, \"#ed7953\"], [0.7777777777777778, \"#fb9f3a\"], [0.8888888888888888, \"#fdca26\"], [1.0, \"#f0f921\"]], \"type\": \"histogram2dcontour\"}], \"mesh3d\": [{\"colorbar\": {\"outlinewidth\": 0, \"ticks\": \"\"}, \"type\": \"mesh3d\"}], \"parcoords\": [{\"line\": {\"colorbar\": {\"outlinewidth\": 0, \"ticks\": \"\"}}, \"type\": \"parcoords\"}], \"pie\": [{\"automargin\": true, \"type\": \"pie\"}], \"scatter\": [{\"marker\": {\"colorbar\": {\"outlinewidth\": 0, \"ticks\": \"\"}}, \"type\": \"scatter\"}], \"scatter3d\": [{\"line\": {\"colorbar\": {\"outlinewidth\": 0, \"ticks\": \"\"}}, \"marker\": {\"colorbar\": {\"outlinewidth\": 0, \"ticks\": \"\"}}, \"type\": \"scatter3d\"}], \"scattercarpet\": [{\"marker\": {\"colorbar\": {\"outlinewidth\": 0, \"ticks\": \"\"}}, \"type\": \"scattercarpet\"}], \"scattergeo\": [{\"marker\": {\"colorbar\": {\"outlinewidth\": 0, \"ticks\": \"\"}}, \"type\": \"scattergeo\"}], \"scattergl\": [{\"marker\": {\"colorbar\": {\"outlinewidth\": 0, \"ticks\": \"\"}}, \"type\": \"scattergl\"}], \"scattermapbox\": [{\"marker\": {\"colorbar\": {\"outlinewidth\": 0, \"ticks\": \"\"}}, \"type\": \"scattermapbox\"}], \"scatterpolar\": [{\"marker\": {\"colorbar\": {\"outlinewidth\": 0, \"ticks\": \"\"}}, \"type\": \"scatterpolar\"}], \"scatterpolargl\": [{\"marker\": {\"colorbar\": {\"outlinewidth\": 0, \"ticks\": \"\"}}, \"type\": \"scatterpolargl\"}], \"scatterternary\": [{\"marker\": {\"colorbar\": {\"outlinewidth\": 0, \"ticks\": \"\"}}, \"type\": \"scatterternary\"}], \"surface\": [{\"colorbar\": {\"outlinewidth\": 0, \"ticks\": \"\"}, \"colorscale\": [[0.0, \"#0d0887\"], [0.1111111111111111, \"#46039f\"], [0.2222222222222222, \"#7201a8\"], [0.3333333333333333, \"#9c179e\"], [0.4444444444444444, \"#bd3786\"], [0.5555555555555556, \"#d8576b\"], [0.6666666666666666, \"#ed7953\"], [0.7777777777777778, \"#fb9f3a\"], [0.8888888888888888, \"#fdca26\"], [1.0, \"#f0f921\"]], \"type\": \"surface\"}], \"table\": [{\"cells\": {\"fill\": {\"color\": \"#EBF0F8\"}, \"line\": {\"color\": \"white\"}}, \"header\": {\"fill\": {\"color\": \"#C8D4E3\"}, \"line\": {\"color\": \"white\"}}, \"type\": \"table\"}]}, \"layout\": {\"annotationdefaults\": {\"arrowcolor\": \"#2a3f5f\", \"arrowhead\": 0, \"arrowwidth\": 1}, \"coloraxis\": {\"colorbar\": {\"outlinewidth\": 0, \"ticks\": \"\"}}, \"colorscale\": {\"diverging\": [[0, \"#8e0152\"], [0.1, \"#c51b7d\"], [0.2, \"#de77ae\"], [0.3, \"#f1b6da\"], [0.4, \"#fde0ef\"], [0.5, \"#f7f7f7\"], [0.6, \"#e6f5d0\"], [0.7, \"#b8e186\"], [0.8, \"#7fbc41\"], [0.9, \"#4d9221\"], [1, \"#276419\"]], \"sequential\": [[0.0, \"#0d0887\"], [0.1111111111111111, \"#46039f\"], [0.2222222222222222, \"#7201a8\"], [0.3333333333333333, \"#9c179e\"], [0.4444444444444444, \"#bd3786\"], [0.5555555555555556, \"#d8576b\"], [0.6666666666666666, \"#ed7953\"], [0.7777777777777778, \"#fb9f3a\"], [0.8888888888888888, \"#fdca26\"], [1.0, \"#f0f921\"]], \"sequentialminus\": [[0.0, \"#0d0887\"], [0.1111111111111111, \"#46039f\"], [0.2222222222222222, \"#7201a8\"], [0.3333333333333333, \"#9c179e\"], [0.4444444444444444, \"#bd3786\"], [0.5555555555555556, \"#d8576b\"], [0.6666666666666666, \"#ed7953\"], [0.7777777777777778, \"#fb9f3a\"], [0.8888888888888888, \"#fdca26\"], [1.0, \"#f0f921\"]]}, \"colorway\": [\"#636efa\", \"#EF553B\", \"#00cc96\", \"#ab63fa\", \"#FFA15A\", \"#19d3f3\", \"#FF6692\", \"#B6E880\", \"#FF97FF\", \"#FECB52\"], \"font\": {\"color\": \"#2a3f5f\"}, \"geo\": {\"bgcolor\": \"white\", \"lakecolor\": \"white\", \"landcolor\": \"#E5ECF6\", \"showlakes\": true, \"showland\": true, \"subunitcolor\": \"white\"}, \"hoverlabel\": {\"align\": \"left\"}, \"hovermode\": \"closest\", \"mapbox\": {\"style\": \"light\"}, \"paper_bgcolor\": \"white\", \"plot_bgcolor\": \"#E5ECF6\", \"polar\": {\"angularaxis\": {\"gridcolor\": \"white\", \"linecolor\": \"white\", \"ticks\": \"\"}, \"bgcolor\": \"#E5ECF6\", \"radialaxis\": {\"gridcolor\": \"white\", \"linecolor\": \"white\", \"ticks\": \"\"}}, \"scene\": {\"xaxis\": {\"backgroundcolor\": \"#E5ECF6\", \"gridcolor\": \"white\", \"gridwidth\": 2, \"linecolor\": \"white\", \"showbackground\": true, \"ticks\": \"\", \"zerolinecolor\": \"white\"}, \"yaxis\": {\"backgroundcolor\": \"#E5ECF6\", \"gridcolor\": \"white\", \"gridwidth\": 2, \"linecolor\": \"white\", \"showbackground\": true, \"ticks\": \"\", \"zerolinecolor\": \"white\"}, \"zaxis\": {\"backgroundcolor\": \"#E5ECF6\", \"gridcolor\": \"white\", \"gridwidth\": 2, \"linecolor\": \"white\", \"showbackground\": true, \"ticks\": \"\", \"zerolinecolor\": \"white\"}}, \"shapedefaults\": {\"line\": {\"color\": \"#2a3f5f\"}}, \"ternary\": {\"aaxis\": {\"gridcolor\": \"white\", \"linecolor\": \"white\", \"ticks\": \"\"}, \"baxis\": {\"gridcolor\": \"white\", \"linecolor\": \"white\", \"ticks\": \"\"}, \"bgcolor\": \"#E5ECF6\", \"caxis\": {\"gridcolor\": \"white\", \"linecolor\": \"white\", \"ticks\": \"\"}}, \"title\": {\"x\": 0.05}, \"xaxis\": {\"automargin\": true, \"gridcolor\": \"white\", \"linecolor\": \"white\", \"ticks\": \"\", \"title\": {\"standoff\": 15}, \"zerolinecolor\": \"white\", \"zerolinewidth\": 2}, \"yaxis\": {\"automargin\": true, \"gridcolor\": \"white\", \"linecolor\": \"white\", \"ticks\": \"\", \"title\": {\"standoff\": 15}, \"zerolinecolor\": \"white\", \"zerolinewidth\": 2}}}, \"width\": 800, \"xaxis\": {\"anchor\": \"y\", \"domain\": [0.0, 1.0], \"title\": {\"text\": \"Componente 1\"}}, \"yaxis\": {\"anchor\": \"x\", \"domain\": [0.0, 1.0], \"title\": {\"text\": \"Componente 2\"}}},\n",
       "                        {\"responsive\": true}\n",
       "                    ).then(function(){\n",
       "                            \n",
       "var gd = document.getElementById('3834b7d3-8bf3-4149-8c91-91e4861399e3');\n",
       "var x = new MutationObserver(function (mutations, observer) {{\n",
       "        var display = window.getComputedStyle(gd).display;\n",
       "        if (!display || display === 'none') {{\n",
       "            console.log([gd, 'removed!']);\n",
       "            Plotly.purge(gd);\n",
       "            observer.disconnect();\n",
       "        }}\n",
       "}});\n",
       "\n",
       "// Listen for the removal of the full notebook cells\n",
       "var notebookContainer = gd.closest('#notebook-container');\n",
       "if (notebookContainer) {{\n",
       "    x.observe(notebookContainer, {childList: true});\n",
       "}}\n",
       "\n",
       "// Listen for the clearing of the current output cell\n",
       "var outputEl = gd.closest('.output');\n",
       "if (outputEl) {{\n",
       "    x.observe(outputEl, {childList: true});\n",
       "}}\n",
       "\n",
       "                        })\n",
       "                };\n",
       "                });\n",
       "            </script>\n",
       "        </div>"
      ]
     },
     "metadata": {},
     "output_type": "display_data"
    }
   ],
   "source": [
    "df_pca[['id','brand','mois' ,'prot' ,'fat' ,'ash' ,'sodium','carb','cal']] = df[['id','brand','mois' ,'prot' ,'fat' ,'ash' ,'sodium','carb','cal']]\n",
    "fig = px.scatter(df_pca,x='Componente 1',y='Componente 2',color='brand',hover_data=['id','brand','mois' ,'prot' ,'fat' ,'ash' ,'sodium','carb','cal'])\n",
    "fig.update_layout(\n",
    "    shapes=[\n",
    "        # unfilled circle\n",
    "        dict(\n",
    "            type=\"circle\",\n",
    "            xref=\"x\",\n",
    "            yref=\"y\",\n",
    "            x0=1,\n",
    "            y0=1,\n",
    "            x1=-1,\n",
    "            y1=-1,\n",
    "            line_color=\"LightSeaGreen\",\n",
    "        )],\n",
    "    height=600,\n",
    "    width=800,\n",
    "    showlegend=True,\n",
    "    paper_bgcolor =  'rgba(0, 0, 0, 0)',\n",
    "    #plot_bgcolor='rgba(0,0,0,0)',\n",
    ")\n",
    "\n",
    "fig.add_trace(go.Scatter(x=[0,df_valores_z['mois'].corr(df_pca['Componente 1'])],\n",
    "                         y=[0,df_valores_z['mois'].corr(df_pca['Componente 2'])],\n",
    "                        name='mois',\n",
    "                        line = dict(color='rgb(255,51,0)')\n",
    "                        )\n",
    "             )\n",
    "\n",
    "fig.add_trace(go.Scatter(x=[0,df_valores_z['prot'].corr(df_pca['Componente 1'])],\n",
    "                         y=[0,df_valores_z['prot'].corr(df_pca['Componente 2'])],\n",
    "                        name='prot',\n",
    "                        line = dict(color='rgb(0,0,0)')\n",
    "                        )\n",
    "             )\n",
    "\n",
    "fig.add_trace(go.Scatter(x=[0,df_valores_z['fat'].corr(df_pca['Componente 1'])],\n",
    "                         y=[0,df_valores_z['fat'].corr(df_pca['Componente 2'])],\n",
    "                        name='fat',\n",
    "                        line = dict(color='rgb(0, 127, 254)')\n",
    "                        )\n",
    "             )\n",
    "\n",
    "fig.add_trace(go.Scatter(x=[0,df_valores_z['ash'].corr(df_pca['Componente 1'])],\n",
    "                         y=[0,df_valores_z['ash'].corr(df_pca['Componente 2'])],\n",
    "                        name='ash',\n",
    "                        line = dict(color='rgb(254,246,0)')\n",
    "                        )\n",
    "             )\n",
    "\n",
    "fig.add_trace(go.Scatter(x=[0,df_valores_z['sodium'].corr(df_pca['Componente 1'])],\n",
    "                         y=[0,df_valores_z['sodium'].corr(df_pca['Componente 2'])],\n",
    "                        name='sodium',\n",
    "                        line = dict(color='rgb( 0, 254, 62 )')\n",
    "                        )\n",
    "             )\n",
    "\n",
    "fig.add_trace(go.Scatter(x=[0,df_valores_z['carb'].corr(df_pca['Componente 1'])],\n",
    "                         y=[0,df_valores_z['carb'].corr(df_pca['Componente 2'])],\n",
    "                        name='carb',\n",
    "                        line = dict(color='rgb(254, 0, 142)')\n",
    "                        )\n",
    "             )\n",
    "\n",
    "fig.add_trace(go.Scatter(x=[0,df_valores_z['cal'].corr(df_pca['Componente 1'])],\n",
    "                         y=[0,df_valores_z['cal'].corr(df_pca['Componente 2'])],\n",
    "                        name='cal',\n",
    "                        line = dict(color='rgb(254, 142, 0)')\n",
    "                        )\n",
    "             )\n",
    "\n",
    "\n",
    "fig.show()"
   ]
  }
 ],
 "metadata": {
  "kernelspec": {
   "display_name": "Python 3",
   "language": "python",
   "name": "python3"
  },
  "language_info": {
   "codemirror_mode": {
    "name": "ipython",
    "version": 3
   },
   "file_extension": ".py",
   "mimetype": "text/x-python",
   "name": "python",
   "nbconvert_exporter": "python",
   "pygments_lexer": "ipython3",
   "version": "3.7.6"
  }
 },
 "nbformat": 4,
 "nbformat_minor": 2
}
